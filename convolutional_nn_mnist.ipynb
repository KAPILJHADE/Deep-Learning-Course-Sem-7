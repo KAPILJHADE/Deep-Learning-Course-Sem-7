{
 "cells": [
  {
   "cell_type": "code",
   "execution_count": 1,
   "metadata": {},
   "outputs": [],
   "source": [
    "import torch\n",
    "import torchvision\n",
    "import torch.nn as nn\n",
    "import torch.nn.functional as F\n",
    "import torchvision.transforms as transforms\n",
    "import time\n",
    "from tqdm import tqdm_notebook as tqdm\n",
    "import matplotlib.pyplot as plt\n",
    "import numpy as np"
   ]
  },
  {
   "cell_type": "code",
   "execution_count": 2,
   "metadata": {},
   "outputs": [
    {
     "output_type": "execute_result",
     "data": {
      "text/plain": [
       "device(type='cuda')"
      ]
     },
     "metadata": {},
     "execution_count": 2
    }
   ],
   "source": [
    "device = torch.device('cuda' if torch.cuda.is_available() else 'cpu')\n",
    "device"
   ]
  },
  {
   "cell_type": "code",
   "execution_count": 3,
   "metadata": {
    "tags": []
   },
   "outputs": [],
   "source": [
    "# Prepare dataset\n",
    "transform = transforms.Compose([transforms.ToTensor(),transforms.Normalize(mean=0.1307,std=0.3081)])\n",
    "\n",
    "train_set = torchvision.datasets.MNIST(root = \"./dataset\",train=True,download=False,transform=transform)  #Make download == True to download dataset\n",
    "test_set = torchvision.datasets.MNIST(root =\"./dataset\",train=False,download=False,transform=transform)\n",
    "\n",
    "train_loader = torch.utils.data.DataLoader(train_set,batch_size=32,shuffle=True,num_workers=4)\n",
    "test_loader = torch.utils.data.DataLoader(test_set,batch_size=32,shuffle=True,num_workers=4)"
   ]
  },
  {
   "cell_type": "code",
   "execution_count": 4,
   "metadata": {},
   "outputs": [],
   "source": [
    "data__ = enumerate(train_loader)\n",
    "batch_id , (images,labels) = next(data__)"
   ]
  },
  {
   "cell_type": "code",
   "execution_count": 5,
   "metadata": {},
   "outputs": [
    {
     "output_type": "execute_result",
     "data": {
      "text/plain": [
       "torch.Size([32, 1, 28, 28])"
      ]
     },
     "metadata": {},
     "execution_count": 5
    }
   ],
   "source": [
    "images.shape"
   ]
  },
  {
   "cell_type": "code",
   "execution_count": 6,
   "metadata": {},
   "outputs": [
    {
     "output_type": "execute_result",
     "data": {
      "text/plain": [
       "<Figure size 432x288 with 6 Axes>"
      ],
      "image/svg+xml": "<?xml version=\"1.0\" encoding=\"utf-8\" standalone=\"no\"?>\n<!DOCTYPE svg PUBLIC \"-//W3C//DTD SVG 1.1//EN\"\n  \"http://www.w3.org/Graphics/SVG/1.1/DTD/svg11.dtd\">\n<!-- Created with matplotlib (https://matplotlib.org/) -->\n<svg height=\"266.418125pt\" version=\"1.1\" viewBox=\"0 0 405.023322 266.418125\" width=\"405.023322pt\" xmlns=\"http://www.w3.org/2000/svg\" xmlns:xlink=\"http://www.w3.org/1999/xlink\">\n <metadata>\n  <rdf:RDF xmlns:cc=\"http://creativecommons.org/ns#\" xmlns:dc=\"http://purl.org/dc/elements/1.1/\" xmlns:rdf=\"http://www.w3.org/1999/02/22-rdf-syntax-ns#\">\n   <cc:Work>\n    <dc:type rdf:resource=\"http://purl.org/dc/dcmitype/StillImage\"/>\n    <dc:date>2020-11-19T01:25:14.189872</dc:date>\n    <dc:format>image/svg+xml</dc:format>\n    <dc:creator>\n     <cc:Agent>\n      <dc:title>Matplotlib v3.3.2, https://matplotlib.org/</dc:title>\n     </cc:Agent>\n    </dc:creator>\n   </cc:Work>\n  </rdf:RDF>\n </metadata>\n <defs>\n  <style type=\"text/css\">*{stroke-linecap:butt;stroke-linejoin:round;}</style>\n </defs>\n <g id=\"figure_1\">\n  <g id=\"patch_1\">\n   <path d=\"M 0 266.418125 \nL 405.023322 266.418125 \nL 405.023322 0 \nL 0 0 \nz\n\" style=\"fill:none;\"/>\n  </g>\n  <g id=\"axes_1\">\n   <g id=\"patch_2\">\n    <path d=\"M 10.7 123.868125 \nL 112.25 123.868125 \nL 112.25 22.318125 \nL 10.7 22.318125 \nz\n\" style=\"fill:#ffffff;\"/>\n   </g>\n   <g clip-path=\"url(#pc9b64f451c)\">\n    <image height=\"28\" id=\"image2684f4dc10\" style=\"image-rendering:crisp-edges;image-rendering:pixelated\" transform=\"matrix(3.642857 0 0 3.642857 10.7 21.868125)\" width=\"28\" xlink:href=\"data:image/png;base64,\niVBORw0KGgoAAAANSUhEUgAAABwAAAAcCAYAAAByDd+UAAACJ0lEQVR4nO2Wv4vqQBDHx2ClJ1gYEKIoaCMIBizEFNpGtLMJ+BdY+w9IrMTGRhTsLbQRrBTSChaCoCARsbFJ4Y9KUXGZa57LeT4T3+nde8Ub+EKyk8xnZ3YnGxMAIPygMT8J+w/8+0CHwwFvb28QCoWgUCgAIkKz2fxjKBqJ53lsNBo4n89xPB4jIYRquVxiLBYzjPFB950sy6Kqqng8Hq8gn3U6nTAYDD4P9Pv9dyGr1QrX6zW91zQNnU6nIVB3DTebDSwWi5txTdMglUqBz+eDfr8PAAAsywLP88YLaDSjTCaDs9kMCSGoKArW63W02WzUn0gkaJaiKD5X0ovsdjt6PB40m803vlKp9HqgXvbn8xkJIbjf7zESiRi+YzaqN8MwEI1GIRwOX43H43EQRRFMJhMAAHS7XRgMBkbhwDDDbDar2xIXCYLwUFUMvzSBQOChWSuKAvl8HiwWi+5zpl/ku8YwDFSrVRAEgY5NJhPaDoIgQCqVoiBJkqDVaulCv7xpLkqn03g4HJAQgtPpFN1u9/fs0o9qtVp0PYvF4vcDvV4vBfZ6va9vmoslk0lYLpcgy/Jv/eVymV4Ph0PdWA9l0G63kRCCo9EIrVbrlU+SJHqibLdb5Dju+ZLKskxLtlgsMJfLYb1ex9lshrvdjvpKpZJRrMeAHMfdHL6f1el00GKxvAYIAOhyubBSqWCtVrsCqaqKxWLx6hS5J8PGf7X9239tr7B3vSnF1c1En0YAAAAASUVORK5CYII=\"/>\n   </g>\n   <g id=\"matplotlib.axis_1\"/>\n   <g id=\"matplotlib.axis_2\"/>\n   <g id=\"patch_3\">\n    <path d=\"M 10.7 123.868125 \nL 10.7 22.318125 \n\" style=\"fill:none;stroke:#000000;stroke-linecap:square;stroke-linejoin:miter;stroke-width:0.8;\"/>\n   </g>\n   <g id=\"patch_4\">\n    <path d=\"M 112.25 123.868125 \nL 112.25 22.318125 \n\" style=\"fill:none;stroke:#000000;stroke-linecap:square;stroke-linejoin:miter;stroke-width:0.8;\"/>\n   </g>\n   <g id=\"patch_5\">\n    <path d=\"M 10.7 123.868125 \nL 112.25 123.868125 \n\" style=\"fill:none;stroke:#000000;stroke-linecap:square;stroke-linejoin:miter;stroke-width:0.8;\"/>\n   </g>\n   <g id=\"patch_6\">\n    <path d=\"M 10.7 22.318125 \nL 112.25 22.318125 \n\" style=\"fill:none;stroke:#000000;stroke-linecap:square;stroke-linejoin:miter;stroke-width:0.8;\"/>\n   </g>\n   <g id=\"text_1\">\n    <!-- Label : 3 -->\n    <g transform=\"translate(35.634688 16.318125)scale(0.12 -0.12)\">\n     <defs>\n      <path d=\"M 9.8125 72.90625 \nL 19.671875 72.90625 \nL 19.671875 8.296875 \nL 55.171875 8.296875 \nL 55.171875 0 \nL 9.8125 0 \nz\n\" id=\"DejaVuSans-76\"/>\n      <path d=\"M 34.28125 27.484375 \nQ 23.390625 27.484375 19.1875 25 \nQ 14.984375 22.515625 14.984375 16.5 \nQ 14.984375 11.71875 18.140625 8.90625 \nQ 21.296875 6.109375 26.703125 6.109375 \nQ 34.1875 6.109375 38.703125 11.40625 \nQ 43.21875 16.703125 43.21875 25.484375 \nL 43.21875 27.484375 \nz\nM 52.203125 31.203125 \nL 52.203125 0 \nL 43.21875 0 \nL 43.21875 8.296875 \nQ 40.140625 3.328125 35.546875 0.953125 \nQ 30.953125 -1.421875 24.3125 -1.421875 \nQ 15.921875 -1.421875 10.953125 3.296875 \nQ 6 8.015625 6 15.921875 \nQ 6 25.140625 12.171875 29.828125 \nQ 18.359375 34.515625 30.609375 34.515625 \nL 43.21875 34.515625 \nL 43.21875 35.40625 \nQ 43.21875 41.609375 39.140625 45 \nQ 35.0625 48.390625 27.6875 48.390625 \nQ 23 48.390625 18.546875 47.265625 \nQ 14.109375 46.140625 10.015625 43.890625 \nL 10.015625 52.203125 \nQ 14.9375 54.109375 19.578125 55.046875 \nQ 24.21875 56 28.609375 56 \nQ 40.484375 56 46.34375 49.84375 \nQ 52.203125 43.703125 52.203125 31.203125 \nz\n\" id=\"DejaVuSans-97\"/>\n      <path d=\"M 48.6875 27.296875 \nQ 48.6875 37.203125 44.609375 42.84375 \nQ 40.53125 48.484375 33.40625 48.484375 \nQ 26.265625 48.484375 22.1875 42.84375 \nQ 18.109375 37.203125 18.109375 27.296875 \nQ 18.109375 17.390625 22.1875 11.75 \nQ 26.265625 6.109375 33.40625 6.109375 \nQ 40.53125 6.109375 44.609375 11.75 \nQ 48.6875 17.390625 48.6875 27.296875 \nz\nM 18.109375 46.390625 \nQ 20.953125 51.265625 25.265625 53.625 \nQ 29.59375 56 35.59375 56 \nQ 45.5625 56 51.78125 48.09375 \nQ 58.015625 40.1875 58.015625 27.296875 \nQ 58.015625 14.40625 51.78125 6.484375 \nQ 45.5625 -1.421875 35.59375 -1.421875 \nQ 29.59375 -1.421875 25.265625 0.953125 \nQ 20.953125 3.328125 18.109375 8.203125 \nL 18.109375 0 \nL 9.078125 0 \nL 9.078125 75.984375 \nL 18.109375 75.984375 \nz\n\" id=\"DejaVuSans-98\"/>\n      <path d=\"M 56.203125 29.59375 \nL 56.203125 25.203125 \nL 14.890625 25.203125 \nQ 15.484375 15.921875 20.484375 11.0625 \nQ 25.484375 6.203125 34.421875 6.203125 \nQ 39.59375 6.203125 44.453125 7.46875 \nQ 49.3125 8.734375 54.109375 11.28125 \nL 54.109375 2.78125 \nQ 49.265625 0.734375 44.1875 -0.34375 \nQ 39.109375 -1.421875 33.890625 -1.421875 \nQ 20.796875 -1.421875 13.15625 6.1875 \nQ 5.515625 13.8125 5.515625 26.8125 \nQ 5.515625 40.234375 12.765625 48.109375 \nQ 20.015625 56 32.328125 56 \nQ 43.359375 56 49.78125 48.890625 \nQ 56.203125 41.796875 56.203125 29.59375 \nz\nM 47.21875 32.234375 \nQ 47.125 39.59375 43.09375 43.984375 \nQ 39.0625 48.390625 32.421875 48.390625 \nQ 24.90625 48.390625 20.390625 44.140625 \nQ 15.875 39.890625 15.1875 32.171875 \nz\n\" id=\"DejaVuSans-101\"/>\n      <path d=\"M 9.421875 75.984375 \nL 18.40625 75.984375 \nL 18.40625 0 \nL 9.421875 0 \nz\n\" id=\"DejaVuSans-108\"/>\n      <path id=\"DejaVuSans-32\"/>\n      <path d=\"M 11.71875 12.40625 \nL 22.015625 12.40625 \nL 22.015625 0 \nL 11.71875 0 \nz\nM 11.71875 51.703125 \nL 22.015625 51.703125 \nL 22.015625 39.3125 \nL 11.71875 39.3125 \nz\n\" id=\"DejaVuSans-58\"/>\n      <path d=\"M 40.578125 39.3125 \nQ 47.65625 37.796875 51.625 33 \nQ 55.609375 28.21875 55.609375 21.1875 \nQ 55.609375 10.40625 48.1875 4.484375 \nQ 40.765625 -1.421875 27.09375 -1.421875 \nQ 22.515625 -1.421875 17.65625 -0.515625 \nQ 12.796875 0.390625 7.625 2.203125 \nL 7.625 11.71875 \nQ 11.71875 9.328125 16.59375 8.109375 \nQ 21.484375 6.890625 26.8125 6.890625 \nQ 36.078125 6.890625 40.9375 10.546875 \nQ 45.796875 14.203125 45.796875 21.1875 \nQ 45.796875 27.640625 41.28125 31.265625 \nQ 36.765625 34.90625 28.71875 34.90625 \nL 20.21875 34.90625 \nL 20.21875 43.015625 \nL 29.109375 43.015625 \nQ 36.375 43.015625 40.234375 45.921875 \nQ 44.09375 48.828125 44.09375 54.296875 \nQ 44.09375 59.90625 40.109375 62.90625 \nQ 36.140625 65.921875 28.71875 65.921875 \nQ 24.65625 65.921875 20.015625 65.03125 \nQ 15.375 64.15625 9.8125 62.3125 \nL 9.8125 71.09375 \nQ 15.4375 72.65625 20.34375 73.4375 \nQ 25.25 74.21875 29.59375 74.21875 \nQ 40.828125 74.21875 47.359375 69.109375 \nQ 53.90625 64.015625 53.90625 55.328125 \nQ 53.90625 49.265625 50.4375 45.09375 \nQ 46.96875 40.921875 40.578125 39.3125 \nz\n\" id=\"DejaVuSans-51\"/>\n     </defs>\n     <use xlink:href=\"#DejaVuSans-76\"/>\n     <use x=\"55.712891\" xlink:href=\"#DejaVuSans-97\"/>\n     <use x=\"116.992188\" xlink:href=\"#DejaVuSans-98\"/>\n     <use x=\"180.46875\" xlink:href=\"#DejaVuSans-101\"/>\n     <use x=\"241.992188\" xlink:href=\"#DejaVuSans-108\"/>\n     <use x=\"269.775391\" xlink:href=\"#DejaVuSans-32\"/>\n     <use x=\"301.5625\" xlink:href=\"#DejaVuSans-58\"/>\n     <use x=\"335.253906\" xlink:href=\"#DejaVuSans-32\"/>\n     <use x=\"367.041016\" xlink:href=\"#DejaVuSans-51\"/>\n    </g>\n   </g>\n  </g>\n  <g id=\"axes_2\">\n   <g id=\"patch_7\">\n    <path d=\"M 153.486661 123.868125 \nL 255.036661 123.868125 \nL 255.036661 22.318125 \nL 153.486661 22.318125 \nz\n\" style=\"fill:#ffffff;\"/>\n   </g>\n   <g clip-path=\"url(#p073e6f5213)\">\n    <image height=\"28\" id=\"imagec9f6495d41\" style=\"image-rendering:crisp-edges;image-rendering:pixelated\" transform=\"matrix(3.642857 0 0 3.642857 153.486661 21.868125)\" width=\"28\" xlink:href=\"data:image/png;base64,\niVBORw0KGgoAAAANSUhEUgAAABwAAAAcCAYAAAByDd+UAAABtElEQVR4nO2WPYvqUBCGZ8OtxEYIVn6kUBvTWWhhqXYi2AsW/gV/gLWthZ1Wgo0/wFYk2kkCQtDKNBpMowiCDu9WG1ZY2JxD8HLhDkwTeOY5vOcM5IOIQG8s5Z2yUIT9fp8A0PP5pEwmE4iBbEciEazXa5imiXq9HpSTk+m6DsdxcL/f0el0RFhxmaZpOBwOYGZMJhNRXlxYKpXAzLAsC/F4XIiVejSNRoOIiIbDIbmuK8wLnbBYLMJxHDAzyuWyzP2LAbPZzI9TVVVhofQebjYbOp/PUqzQ6zwej2BmVCoVmTjFItV13Y8zFotJCYUizWazRER0uVxIURSaTqdkGAYZhkG1Wi3wnEAni0ajWCwWYGZcr1fYtg1m9tvzPFSr1fAizeVyL4Kfejwe/zrnj0ik3+t0OtF8Pqf9fk+e59FgMAjESQld16Vms0mr1YpSqRR1u10hXjjS5XIJIkIymYRpmmBm2LYNTdPCu8NWq/UiTCQSsCzL/1YoFMLdw3w+7w9/PB643W5gZux2O7TbbSiKEq5QVVX0ej1st1tfPBqNkE6nhRb/48v6rvr3/tr+C/+68BPPE2WZrJP0BQAAAABJRU5ErkJggg==\"/>\n   </g>\n   <g id=\"matplotlib.axis_3\"/>\n   <g id=\"matplotlib.axis_4\"/>\n   <g id=\"patch_8\">\n    <path d=\"M 153.486661 123.868125 \nL 153.486661 22.318125 \n\" style=\"fill:none;stroke:#000000;stroke-linecap:square;stroke-linejoin:miter;stroke-width:0.8;\"/>\n   </g>\n   <g id=\"patch_9\">\n    <path d=\"M 255.036661 123.868125 \nL 255.036661 22.318125 \n\" style=\"fill:none;stroke:#000000;stroke-linecap:square;stroke-linejoin:miter;stroke-width:0.8;\"/>\n   </g>\n   <g id=\"patch_10\">\n    <path d=\"M 153.486661 123.868125 \nL 255.036661 123.868125 \n\" style=\"fill:none;stroke:#000000;stroke-linecap:square;stroke-linejoin:miter;stroke-width:0.8;\"/>\n   </g>\n   <g id=\"patch_11\">\n    <path d=\"M 153.486661 22.318125 \nL 255.036661 22.318125 \n\" style=\"fill:none;stroke:#000000;stroke-linecap:square;stroke-linejoin:miter;stroke-width:0.8;\"/>\n   </g>\n   <g id=\"text_2\">\n    <!-- Label : 6 -->\n    <g transform=\"translate(178.421348 16.318125)scale(0.12 -0.12)\">\n     <defs>\n      <path d=\"M 33.015625 40.375 \nQ 26.375 40.375 22.484375 35.828125 \nQ 18.609375 31.296875 18.609375 23.390625 \nQ 18.609375 15.53125 22.484375 10.953125 \nQ 26.375 6.390625 33.015625 6.390625 \nQ 39.65625 6.390625 43.53125 10.953125 \nQ 47.40625 15.53125 47.40625 23.390625 \nQ 47.40625 31.296875 43.53125 35.828125 \nQ 39.65625 40.375 33.015625 40.375 \nz\nM 52.59375 71.296875 \nL 52.59375 62.3125 \nQ 48.875 64.0625 45.09375 64.984375 \nQ 41.3125 65.921875 37.59375 65.921875 \nQ 27.828125 65.921875 22.671875 59.328125 \nQ 17.53125 52.734375 16.796875 39.40625 \nQ 19.671875 43.65625 24.015625 45.921875 \nQ 28.375 48.1875 33.59375 48.1875 \nQ 44.578125 48.1875 50.953125 41.515625 \nQ 57.328125 34.859375 57.328125 23.390625 \nQ 57.328125 12.15625 50.6875 5.359375 \nQ 44.046875 -1.421875 33.015625 -1.421875 \nQ 20.359375 -1.421875 13.671875 8.265625 \nQ 6.984375 17.96875 6.984375 36.375 \nQ 6.984375 53.65625 15.1875 63.9375 \nQ 23.390625 74.21875 37.203125 74.21875 \nQ 40.921875 74.21875 44.703125 73.484375 \nQ 48.484375 72.75 52.59375 71.296875 \nz\n\" id=\"DejaVuSans-54\"/>\n     </defs>\n     <use xlink:href=\"#DejaVuSans-76\"/>\n     <use x=\"55.712891\" xlink:href=\"#DejaVuSans-97\"/>\n     <use x=\"116.992188\" xlink:href=\"#DejaVuSans-98\"/>\n     <use x=\"180.46875\" xlink:href=\"#DejaVuSans-101\"/>\n     <use x=\"241.992188\" xlink:href=\"#DejaVuSans-108\"/>\n     <use x=\"269.775391\" xlink:href=\"#DejaVuSans-32\"/>\n     <use x=\"301.5625\" xlink:href=\"#DejaVuSans-58\"/>\n     <use x=\"335.253906\" xlink:href=\"#DejaVuSans-32\"/>\n     <use x=\"367.041016\" xlink:href=\"#DejaVuSans-54\"/>\n    </g>\n   </g>\n  </g>\n  <g id=\"axes_3\">\n   <g id=\"patch_12\">\n    <path d=\"M 296.273322 123.868125 \nL 397.823322 123.868125 \nL 397.823322 22.318125 \nL 296.273322 22.318125 \nz\n\" style=\"fill:#ffffff;\"/>\n   </g>\n   <g clip-path=\"url(#p832a42d93c)\">\n    <image height=\"28\" id=\"imageb8cbc48c4c\" style=\"image-rendering:crisp-edges;image-rendering:pixelated\" transform=\"matrix(3.642857 0 0 3.642857 296.273322 21.868125)\" width=\"28\" xlink:href=\"data:image/png;base64,\niVBORw0KGgoAAAANSUhEUgAAABwAAAAcCAYAAAByDd+UAAACMElEQVR4nO1VPWsqQRQ9PpJCSIxaiKaICRFBtFC0sFFEJOB/0E7yB7SJtZU/wN7OQjvRUrH1q1QUIShIwIUtgkVghvOasAR03eUJyXvwLgzMzj1zzz0zd/ZaABDfaL++k+w/4c8TOhwO3Nzc6PpJ4u3tDeFw+GQcmhl3d3fcbDZcLpf0+XwH/mw2SyklhRDsdru6cS7MqisUCvB4PAAAp9N54A8Gg9r89fX1PIXJZJKKolAIwcViQZvNdoAplUqUUnK32zEUCp2KZ0xYrVYphOBqteLj4+NRTKPRoJSSz8/PRvFOk2WzWZLkx8cHi8XiUUw+n6eUkiSZy+XOI9xut5RScjKZ6GLy+TyFEFRVlff39yfjnXwWmUwGdrsdANBqtXRxXq8XADCfzw0LRlfh7e0th8MhhRDs9/t0OBy6WU+nUwohWCqVDOtBV2EoFEIkEgEAtNttqKp6FJdKpRAIBAxVGSp8enqilJJSSsZisaOYy8tL9no9DWekDqcefjQaBUkAwHq91tb9fj+sViusVivK5TISiQRIotPpmFKnSzgej7X5YDDQiiEej+Pq6goWi0VLCAAqlYopQkBH+vX1NVutFoUQ2j/y6xgOh1wul9q3y+U670jf39+Ry+WQTqeRTCa19dlshk6ng/1+j1qthoeHBzSbTSiKcp5Co+F2u7ViqdfrpveZ7hZHM/28w693aWR/d8f/UcLdboeXlxcAwGg0Mr3Pgs+W8V327xzpn9pv71rmGgm5d6IAAAAASUVORK5CYII=\"/>\n   </g>\n   <g id=\"matplotlib.axis_5\"/>\n   <g id=\"matplotlib.axis_6\"/>\n   <g id=\"patch_13\">\n    <path d=\"M 296.273322 123.868125 \nL 296.273322 22.318125 \n\" style=\"fill:none;stroke:#000000;stroke-linecap:square;stroke-linejoin:miter;stroke-width:0.8;\"/>\n   </g>\n   <g id=\"patch_14\">\n    <path d=\"M 397.823322 123.868125 \nL 397.823322 22.318125 \n\" style=\"fill:none;stroke:#000000;stroke-linecap:square;stroke-linejoin:miter;stroke-width:0.8;\"/>\n   </g>\n   <g id=\"patch_15\">\n    <path d=\"M 296.273322 123.868125 \nL 397.823322 123.868125 \n\" style=\"fill:none;stroke:#000000;stroke-linecap:square;stroke-linejoin:miter;stroke-width:0.8;\"/>\n   </g>\n   <g id=\"patch_16\">\n    <path d=\"M 296.273322 22.318125 \nL 397.823322 22.318125 \n\" style=\"fill:none;stroke:#000000;stroke-linecap:square;stroke-linejoin:miter;stroke-width:0.8;\"/>\n   </g>\n   <g id=\"text_3\">\n    <!-- Label : 4 -->\n    <g transform=\"translate(321.208009 16.318125)scale(0.12 -0.12)\">\n     <defs>\n      <path d=\"M 37.796875 64.3125 \nL 12.890625 25.390625 \nL 37.796875 25.390625 \nz\nM 35.203125 72.90625 \nL 47.609375 72.90625 \nL 47.609375 25.390625 \nL 58.015625 25.390625 \nL 58.015625 17.1875 \nL 47.609375 17.1875 \nL 47.609375 0 \nL 37.796875 0 \nL 37.796875 17.1875 \nL 4.890625 17.1875 \nL 4.890625 26.703125 \nz\n\" id=\"DejaVuSans-52\"/>\n     </defs>\n     <use xlink:href=\"#DejaVuSans-76\"/>\n     <use x=\"55.712891\" xlink:href=\"#DejaVuSans-97\"/>\n     <use x=\"116.992188\" xlink:href=\"#DejaVuSans-98\"/>\n     <use x=\"180.46875\" xlink:href=\"#DejaVuSans-101\"/>\n     <use x=\"241.992188\" xlink:href=\"#DejaVuSans-108\"/>\n     <use x=\"269.775391\" xlink:href=\"#DejaVuSans-32\"/>\n     <use x=\"301.5625\" xlink:href=\"#DejaVuSans-58\"/>\n     <use x=\"335.253906\" xlink:href=\"#DejaVuSans-32\"/>\n     <use x=\"367.041016\" xlink:href=\"#DejaVuSans-52\"/>\n    </g>\n   </g>\n  </g>\n  <g id=\"axes_4\">\n   <g id=\"patch_17\">\n    <path d=\"M 10.7 255.718125 \nL 112.25 255.718125 \nL 112.25 154.168125 \nL 10.7 154.168125 \nz\n\" style=\"fill:#ffffff;\"/>\n   </g>\n   <g clip-path=\"url(#paa501d3db0)\">\n    <image height=\"28\" id=\"image6a39c1b4aa\" style=\"image-rendering:crisp-edges;image-rendering:pixelated\" transform=\"matrix(3.642857 0 0 3.642857 10.7 153.718125)\" width=\"28\" xlink:href=\"data:image/png;base64,\niVBORw0KGgoAAAANSUhEUgAAABwAAAAcCAYAAAByDd+UAAAB00lEQVR4nO3Vv4riUBgF8G82WgkGEYmFiCRiq6ClaO0bWKmd2NjYKIivYCHkAVILllY2ir0pLCQI/gHFTgkGQfzOFMuGnV1nHCVrsXggzb338As3N8kbEYGemB/PxF7gC7yZRCJBmqZRNBr9MA6nL1EUkc/nYVkWmBndbvf3eWcQRVFQLpfR6/Ww3W7BzGBmDIdD+Hw+Z8BwOAxFUbDZbHA4HGxkt9thsVigVqvB4/H82bsf8nq90DQNl8vFRpgZ4/EYjUYDgUDgq/79oKqqYGas12vIsgxRFCGKItxu93f634fS6TRGoxHO5zOYGclk8pFHcXtRKpWCYRgftnA2m0GSJOfBYrGI0+kEZsZ+v0e/37fRSqVyN3jzxY9EIrTdbknXdcpms5TL5cgwDCIikiTpVv1qrt6Jy+VCoVAAEcHv9yMUCtlzy+USzIx6ve7clqqqCtM0/xoPBoMwTRPMjFgs5hxoWRYulwtKpRJcLheIfn6yJpMJmBmTyQSCIDgHNptN+3C0221Uq1UMBgMwM1arFeLx+CPY52AikcB8PgczA4CN67qOTCbzKIa3X+q1CIJArVaLZFkmIqLj8UidToem0+lnlZv5EvwX+b/++C/wKXkHu3Q8O5ayPZUAAAAASUVORK5CYII=\"/>\n   </g>\n   <g id=\"matplotlib.axis_7\"/>\n   <g id=\"matplotlib.axis_8\"/>\n   <g id=\"patch_18\">\n    <path d=\"M 10.7 255.718125 \nL 10.7 154.168125 \n\" style=\"fill:none;stroke:#000000;stroke-linecap:square;stroke-linejoin:miter;stroke-width:0.8;\"/>\n   </g>\n   <g id=\"patch_19\">\n    <path d=\"M 112.25 255.718125 \nL 112.25 154.168125 \n\" style=\"fill:none;stroke:#000000;stroke-linecap:square;stroke-linejoin:miter;stroke-width:0.8;\"/>\n   </g>\n   <g id=\"patch_20\">\n    <path d=\"M 10.7 255.718125 \nL 112.25 255.718125 \n\" style=\"fill:none;stroke:#000000;stroke-linecap:square;stroke-linejoin:miter;stroke-width:0.8;\"/>\n   </g>\n   <g id=\"patch_21\">\n    <path d=\"M 10.7 154.168125 \nL 112.25 154.168125 \n\" style=\"fill:none;stroke:#000000;stroke-linecap:square;stroke-linejoin:miter;stroke-width:0.8;\"/>\n   </g>\n   <g id=\"text_4\">\n    <!-- Label : 5 -->\n    <g transform=\"translate(35.634688 148.168125)scale(0.12 -0.12)\">\n     <defs>\n      <path d=\"M 10.796875 72.90625 \nL 49.515625 72.90625 \nL 49.515625 64.59375 \nL 19.828125 64.59375 \nL 19.828125 46.734375 \nQ 21.96875 47.46875 24.109375 47.828125 \nQ 26.265625 48.1875 28.421875 48.1875 \nQ 40.625 48.1875 47.75 41.5 \nQ 54.890625 34.8125 54.890625 23.390625 \nQ 54.890625 11.625 47.5625 5.09375 \nQ 40.234375 -1.421875 26.90625 -1.421875 \nQ 22.3125 -1.421875 17.546875 -0.640625 \nQ 12.796875 0.140625 7.71875 1.703125 \nL 7.71875 11.625 \nQ 12.109375 9.234375 16.796875 8.0625 \nQ 21.484375 6.890625 26.703125 6.890625 \nQ 35.15625 6.890625 40.078125 11.328125 \nQ 45.015625 15.765625 45.015625 23.390625 \nQ 45.015625 31 40.078125 35.4375 \nQ 35.15625 39.890625 26.703125 39.890625 \nQ 22.75 39.890625 18.8125 39.015625 \nQ 14.890625 38.140625 10.796875 36.28125 \nz\n\" id=\"DejaVuSans-53\"/>\n     </defs>\n     <use xlink:href=\"#DejaVuSans-76\"/>\n     <use x=\"55.712891\" xlink:href=\"#DejaVuSans-97\"/>\n     <use x=\"116.992188\" xlink:href=\"#DejaVuSans-98\"/>\n     <use x=\"180.46875\" xlink:href=\"#DejaVuSans-101\"/>\n     <use x=\"241.992188\" xlink:href=\"#DejaVuSans-108\"/>\n     <use x=\"269.775391\" xlink:href=\"#DejaVuSans-32\"/>\n     <use x=\"301.5625\" xlink:href=\"#DejaVuSans-58\"/>\n     <use x=\"335.253906\" xlink:href=\"#DejaVuSans-32\"/>\n     <use x=\"367.041016\" xlink:href=\"#DejaVuSans-53\"/>\n    </g>\n   </g>\n  </g>\n  <g id=\"axes_5\">\n   <g id=\"patch_22\">\n    <path d=\"M 153.486661 255.718125 \nL 255.036661 255.718125 \nL 255.036661 154.168125 \nL 153.486661 154.168125 \nz\n\" style=\"fill:#ffffff;\"/>\n   </g>\n   <g clip-path=\"url(#p9e122f1b5e)\">\n    <image height=\"28\" id=\"image068209d129\" style=\"image-rendering:crisp-edges;image-rendering:pixelated\" transform=\"matrix(3.642857 0 0 3.642857 153.486661 153.718125)\" width=\"28\" xlink:href=\"data:image/png;base64,\niVBORw0KGgoAAAANSUhEUgAAABwAAAAcCAYAAAByDd+UAAABdElEQVR4nO2WsarCMBiFf+/mZAc7OWQoQnXQpXtHcRKdpVNXwWfwAQRnH0Po4JKHKBQdgmuLuOmW9Nzl3oCD3KQQuRfugQwpPf1y8vdP2yIi0Bv18U7YP/D3AgFQnueUJIlboO/7dDweqa5rGgwG1O/33QJXqxUFQaDnt9vNyIcmYzgcQggBKSWUUpBSYjKZ/OhrnJAxRowxa19j4GKxeJoXRUGn08kNcDab0Wg0erq23W7p8XgY+a3rxzmHlFIPzjk6nY6p3w4WxzEAQCmlh43fekvn8znVdU0A6H6/U5qmto8wX12v14MQQreBEAKe57lL2G63n1qBMUbL5dJdwizLoJTSNTyfz9YvnFVCAARA13Cz2VinM04YRRHKstRH2eFwQLfbbXIsmt04nU513ymlEARBE5gZcDweo6oq3Xe73a4pzKyGjDG6XC66hgBMbC9ltLL9fq+3NAxDtwm/db1eab1eG30VXqn1RX6b/uZfm40+AcREsRJsR+pMAAAAAElFTkSuQmCC\"/>\n   </g>\n   <g id=\"matplotlib.axis_9\"/>\n   <g id=\"matplotlib.axis_10\"/>\n   <g id=\"patch_23\">\n    <path d=\"M 153.486661 255.718125 \nL 153.486661 154.168125 \n\" style=\"fill:none;stroke:#000000;stroke-linecap:square;stroke-linejoin:miter;stroke-width:0.8;\"/>\n   </g>\n   <g id=\"patch_24\">\n    <path d=\"M 255.036661 255.718125 \nL 255.036661 154.168125 \n\" style=\"fill:none;stroke:#000000;stroke-linecap:square;stroke-linejoin:miter;stroke-width:0.8;\"/>\n   </g>\n   <g id=\"patch_25\">\n    <path d=\"M 153.486661 255.718125 \nL 255.036661 255.718125 \n\" style=\"fill:none;stroke:#000000;stroke-linecap:square;stroke-linejoin:miter;stroke-width:0.8;\"/>\n   </g>\n   <g id=\"patch_26\">\n    <path d=\"M 153.486661 154.168125 \nL 255.036661 154.168125 \n\" style=\"fill:none;stroke:#000000;stroke-linecap:square;stroke-linejoin:miter;stroke-width:0.8;\"/>\n   </g>\n   <g id=\"text_5\">\n    <!-- Label : 1 -->\n    <g transform=\"translate(178.421348 148.168125)scale(0.12 -0.12)\">\n     <defs>\n      <path d=\"M 12.40625 8.296875 \nL 28.515625 8.296875 \nL 28.515625 63.921875 \nL 10.984375 60.40625 \nL 10.984375 69.390625 \nL 28.421875 72.90625 \nL 38.28125 72.90625 \nL 38.28125 8.296875 \nL 54.390625 8.296875 \nL 54.390625 0 \nL 12.40625 0 \nz\n\" id=\"DejaVuSans-49\"/>\n     </defs>\n     <use xlink:href=\"#DejaVuSans-76\"/>\n     <use x=\"55.712891\" xlink:href=\"#DejaVuSans-97\"/>\n     <use x=\"116.992188\" xlink:href=\"#DejaVuSans-98\"/>\n     <use x=\"180.46875\" xlink:href=\"#DejaVuSans-101\"/>\n     <use x=\"241.992188\" xlink:href=\"#DejaVuSans-108\"/>\n     <use x=\"269.775391\" xlink:href=\"#DejaVuSans-32\"/>\n     <use x=\"301.5625\" xlink:href=\"#DejaVuSans-58\"/>\n     <use x=\"335.253906\" xlink:href=\"#DejaVuSans-32\"/>\n     <use x=\"367.041016\" xlink:href=\"#DejaVuSans-49\"/>\n    </g>\n   </g>\n  </g>\n  <g id=\"axes_6\">\n   <g id=\"patch_27\">\n    <path d=\"M 296.273322 255.718125 \nL 397.823322 255.718125 \nL 397.823322 154.168125 \nL 296.273322 154.168125 \nz\n\" style=\"fill:#ffffff;\"/>\n   </g>\n   <g clip-path=\"url(#p1acec80b0c)\">\n    <image height=\"28\" id=\"image7ef9cf813c\" style=\"image-rendering:crisp-edges;image-rendering:pixelated\" transform=\"matrix(3.642857 0 0 3.642857 296.273322 153.718125)\" width=\"28\" xlink:href=\"data:image/png;base64,\niVBORw0KGgoAAAANSUhEUgAAABwAAAAcCAYAAAByDd+UAAAB6UlEQVR4nO2Vr8vqYBTHv++dgrMICwqWGYwGwYGwYLGIf4Amkyuz+ycsCjZFu2ASRTAIIhgshlUxOYOWFWEDfzw7b7mMC3fXObma3gMHDjznu885X8bzfAEgfDB+fRL2A/wB/l8gx3FQVRXH4xGO42A+n6PdbiObzf7VG4lEUCqVYFkWFEXxhZJXSpJEjDHPnEwmNB6PSdM0KhaL1O/33bN6ve75vT/S+2C/3xNjjHa7HamqSr1ejw6HAzHGyHGcfw7jBwx5rczzPARBAAAsl0t0Oh3Xulwuh0Kh4PbKsoxyuQwAuN1u2Gw2wS1VFMWdOJ/PP5w4kUi4vefz2c9OeviXmqYJ0zQfTlutVt16OBz6bue5oSRJtFgsqFar+U6saZq7oSiKvv2ewCDZ7XZdYDwefy9QFEWybZsYY2QYBsVisfcCV6uVu12z2XxW9xqM53nabrfkOA6t1+undS/fpbIsI51Og4hgGMbTupeBmUzGrUejUSBtYDtTqRRdr1dijNHpdKJQKPReS5PJJDiOAwDMZjPc7/entS8BK5WKW0+n08D6QHaGw2GyLIsYY3S5XCgajQbSB96w0WggGo0CAFqtFmzbDqR/yVIiAgAMBoPAWs/38FHoug5d1yEIgu9L4hVf+H3dfCq+AZrR/NoCeAZ2AAAAAElFTkSuQmCC\"/>\n   </g>\n   <g id=\"matplotlib.axis_11\"/>\n   <g id=\"matplotlib.axis_12\"/>\n   <g id=\"patch_28\">\n    <path d=\"M 296.273322 255.718125 \nL 296.273322 154.168125 \n\" style=\"fill:none;stroke:#000000;stroke-linecap:square;stroke-linejoin:miter;stroke-width:0.8;\"/>\n   </g>\n   <g id=\"patch_29\">\n    <path d=\"M 397.823322 255.718125 \nL 397.823322 154.168125 \n\" style=\"fill:none;stroke:#000000;stroke-linecap:square;stroke-linejoin:miter;stroke-width:0.8;\"/>\n   </g>\n   <g id=\"patch_30\">\n    <path d=\"M 296.273322 255.718125 \nL 397.823322 255.718125 \n\" style=\"fill:none;stroke:#000000;stroke-linecap:square;stroke-linejoin:miter;stroke-width:0.8;\"/>\n   </g>\n   <g id=\"patch_31\">\n    <path d=\"M 296.273322 154.168125 \nL 397.823322 154.168125 \n\" style=\"fill:none;stroke:#000000;stroke-linecap:square;stroke-linejoin:miter;stroke-width:0.8;\"/>\n   </g>\n   <g id=\"text_6\">\n    <!-- Label : 7 -->\n    <g transform=\"translate(321.208009 148.168125)scale(0.12 -0.12)\">\n     <defs>\n      <path d=\"M 8.203125 72.90625 \nL 55.078125 72.90625 \nL 55.078125 68.703125 \nL 28.609375 0 \nL 18.3125 0 \nL 43.21875 64.59375 \nL 8.203125 64.59375 \nz\n\" id=\"DejaVuSans-55\"/>\n     </defs>\n     <use xlink:href=\"#DejaVuSans-76\"/>\n     <use x=\"55.712891\" xlink:href=\"#DejaVuSans-97\"/>\n     <use x=\"116.992188\" xlink:href=\"#DejaVuSans-98\"/>\n     <use x=\"180.46875\" xlink:href=\"#DejaVuSans-101\"/>\n     <use x=\"241.992188\" xlink:href=\"#DejaVuSans-108\"/>\n     <use x=\"269.775391\" xlink:href=\"#DejaVuSans-32\"/>\n     <use x=\"301.5625\" xlink:href=\"#DejaVuSans-58\"/>\n     <use x=\"335.253906\" xlink:href=\"#DejaVuSans-32\"/>\n     <use x=\"367.041016\" xlink:href=\"#DejaVuSans-55\"/>\n    </g>\n   </g>\n  </g>\n </g>\n <defs>\n  <clipPath id=\"pc9b64f451c\">\n   <rect height=\"101.55\" width=\"101.55\" x=\"10.7\" y=\"22.318125\"/>\n  </clipPath>\n  <clipPath id=\"p073e6f5213\">\n   <rect height=\"101.55\" width=\"101.55\" x=\"153.486661\" y=\"22.318125\"/>\n  </clipPath>\n  <clipPath id=\"p832a42d93c\">\n   <rect height=\"101.55\" width=\"101.55\" x=\"296.273322\" y=\"22.318125\"/>\n  </clipPath>\n  <clipPath id=\"paa501d3db0\">\n   <rect height=\"101.55\" width=\"101.55\" x=\"10.7\" y=\"154.168125\"/>\n  </clipPath>\n  <clipPath id=\"p9e122f1b5e\">\n   <rect height=\"101.55\" width=\"101.55\" x=\"153.486661\" y=\"154.168125\"/>\n  </clipPath>\n  <clipPath id=\"p1acec80b0c\">\n   <rect height=\"101.55\" width=\"101.55\" x=\"296.273322\" y=\"154.168125\"/>\n  </clipPath>\n </defs>\n</svg>\n",
      "image/png": "[encoded data removed]"
     },
     "metadata": {},
     "execution_count": 6
    },
    {
     "output_type": "display_data",
     "data": {
      "text/plain": "<Figure size 432x288 with 6 Axes>",
      "image/svg+xml": "<?xml version=\"1.0\" encoding=\"utf-8\" standalone=\"no\"?>\n<!DOCTYPE svg PUBLIC \"-//W3C//DTD SVG 1.1//EN\"\n  \"http://www.w3.org/Graphics/SVG/1.1/DTD/svg11.dtd\">\n<!-- Created with matplotlib (https://matplotlib.org/) -->\n<svg height=\"266.418125pt\" version=\"1.1\" viewBox=\"0 0 405.023322 266.418125\" width=\"405.023322pt\" xmlns=\"http://www.w3.org/2000/svg\" xmlns:xlink=\"http://www.w3.org/1999/xlink\">\n <metadata>\n  <rdf:RDF xmlns:cc=\"http://creativecommons.org/ns#\" xmlns:dc=\"http://purl.org/dc/elements/1.1/\" xmlns:rdf=\"http://www.w3.org/1999/02/22-rdf-syntax-ns#\">\n   <cc:Work>\n    <dc:type rdf:resource=\"http://purl.org/dc/dcmitype/StillImage\"/>\n    <dc:date>2020-11-19T01:25:14.550523</dc:date>\n    <dc:format>image/svg+xml</dc:format>\n    <dc:creator>\n     <cc:Agent>\n      <dc:title>Matplotlib v3.3.2, https://matplotlib.org/</dc:title>\n     </cc:Agent>\n    </dc:creator>\n   </cc:Work>\n  </rdf:RDF>\n </metadata>\n <defs>\n  <style type=\"text/css\">*{stroke-linecap:butt;stroke-linejoin:round;}</style>\n </defs>\n <g id=\"figure_1\">\n  <g id=\"patch_1\">\n   <path d=\"M 0 266.418125 \nL 405.023322 266.418125 \nL 405.023322 0 \nL 0 0 \nz\n\" style=\"fill:none;\"/>\n  </g>\n  <g id=\"axes_1\">\n   <g id=\"patch_2\">\n    <path d=\"M 10.7 123.868125 \nL 112.25 123.868125 \nL 112.25 22.318125 \nL 10.7 22.318125 \nz\n\" style=\"fill:#ffffff;\"/>\n   </g>\n   <g clip-path=\"url(#p2baf8c5c8d)\">\n    <image height=\"28\" id=\"image06eaa312e0\" style=\"image-rendering:crisp-edges;image-rendering:pixelated\" transform=\"matrix(3.642857 0 0 3.642857 10.7 21.868125)\" width=\"28\" xlink:href=\"data:image/png;base64,\niVBORw0KGgoAAAANSUhEUgAAABwAAAAcCAYAAAByDd+UAAACJ0lEQVR4nO2Wv4vqQBDHx2ClJ1gYEKIoaCMIBizEFNpGtLMJ+BdY+w9IrMTGRhTsLbQRrBTSChaCoCARsbFJ4Y9KUXGZa57LeT4T3+nde8Ub+EKyk8xnZ3YnGxMAIPygMT8J+w/8+0CHwwFvb28QCoWgUCgAIkKz2fxjKBqJ53lsNBo4n89xPB4jIYRquVxiLBYzjPFB950sy6Kqqng8Hq8gn3U6nTAYDD4P9Pv9dyGr1QrX6zW91zQNnU6nIVB3DTebDSwWi5txTdMglUqBz+eDfr8PAAAsywLP88YLaDSjTCaDs9kMCSGoKArW63W02WzUn0gkaJaiKD5X0ovsdjt6PB40m803vlKp9HqgXvbn8xkJIbjf7zESiRi+YzaqN8MwEI1GIRwOX43H43EQRRFMJhMAAHS7XRgMBkbhwDDDbDar2xIXCYLwUFUMvzSBQOChWSuKAvl8HiwWi+5zpl/ku8YwDFSrVRAEgY5NJhPaDoIgQCqVoiBJkqDVaulCv7xpLkqn03g4HJAQgtPpFN1u9/fs0o9qtVp0PYvF4vcDvV4vBfZ6va9vmoslk0lYLpcgy/Jv/eVymV4Ph0PdWA9l0G63kRCCo9EIrVbrlU+SJHqibLdb5Dju+ZLKskxLtlgsMJfLYb1ex9lshrvdjvpKpZJRrMeAHMfdHL6f1el00GKxvAYIAOhyubBSqWCtVrsCqaqKxWLx6hS5J8PGf7X9239tr7B3vSnF1c1En0YAAAAASUVORK5CYII=\"/>\n   </g>\n   <g id=\"matplotlib.axis_1\"/>\n   <g id=\"matplotlib.axis_2\"/>\n   <g id=\"patch_3\">\n    <path d=\"M 10.7 123.868125 \nL 10.7 22.318125 \n\" style=\"fill:none;stroke:#000000;stroke-linecap:square;stroke-linejoin:miter;stroke-width:0.8;\"/>\n   </g>\n   <g id=\"patch_4\">\n    <path d=\"M 112.25 123.868125 \nL 112.25 22.318125 \n\" style=\"fill:none;stroke:#000000;stroke-linecap:square;stroke-linejoin:miter;stroke-width:0.8;\"/>\n   </g>\n   <g id=\"patch_5\">\n    <path d=\"M 10.7 123.868125 \nL 112.25 123.868125 \n\" style=\"fill:none;stroke:#000000;stroke-linecap:square;stroke-linejoin:miter;stroke-width:0.8;\"/>\n   </g>\n   <g id=\"patch_6\">\n    <path d=\"M 10.7 22.318125 \nL 112.25 22.318125 \n\" style=\"fill:none;stroke:#000000;stroke-linecap:square;stroke-linejoin:miter;stroke-width:0.8;\"/>\n   </g>\n   <g id=\"text_1\">\n    <!-- Label : 3 -->\n    <g transform=\"translate(35.634688 16.318125)scale(0.12 -0.12)\">\n     <defs>\n      <path d=\"M 9.8125 72.90625 \nL 19.671875 72.90625 \nL 19.671875 8.296875 \nL 55.171875 8.296875 \nL 55.171875 0 \nL 9.8125 0 \nz\n\" id=\"DejaVuSans-76\"/>\n      <path d=\"M 34.28125 27.484375 \nQ 23.390625 27.484375 19.1875 25 \nQ 14.984375 22.515625 14.984375 16.5 \nQ 14.984375 11.71875 18.140625 8.90625 \nQ 21.296875 6.109375 26.703125 6.109375 \nQ 34.1875 6.109375 38.703125 11.40625 \nQ 43.21875 16.703125 43.21875 25.484375 \nL 43.21875 27.484375 \nz\nM 52.203125 31.203125 \nL 52.203125 0 \nL 43.21875 0 \nL 43.21875 8.296875 \nQ 40.140625 3.328125 35.546875 0.953125 \nQ 30.953125 -1.421875 24.3125 -1.421875 \nQ 15.921875 -1.421875 10.953125 3.296875 \nQ 6 8.015625 6 15.921875 \nQ 6 25.140625 12.171875 29.828125 \nQ 18.359375 34.515625 30.609375 34.515625 \nL 43.21875 34.515625 \nL 43.21875 35.40625 \nQ 43.21875 41.609375 39.140625 45 \nQ 35.0625 48.390625 27.6875 48.390625 \nQ 23 48.390625 18.546875 47.265625 \nQ 14.109375 46.140625 10.015625 43.890625 \nL 10.015625 52.203125 \nQ 14.9375 54.109375 19.578125 55.046875 \nQ 24.21875 56 28.609375 56 \nQ 40.484375 56 46.34375 49.84375 \nQ 52.203125 43.703125 52.203125 31.203125 \nz\n\" id=\"DejaVuSans-97\"/>\n      <path d=\"M 48.6875 27.296875 \nQ 48.6875 37.203125 44.609375 42.84375 \nQ 40.53125 48.484375 33.40625 48.484375 \nQ 26.265625 48.484375 22.1875 42.84375 \nQ 18.109375 37.203125 18.109375 27.296875 \nQ 18.109375 17.390625 22.1875 11.75 \nQ 26.265625 6.109375 33.40625 6.109375 \nQ 40.53125 6.109375 44.609375 11.75 \nQ 48.6875 17.390625 48.6875 27.296875 \nz\nM 18.109375 46.390625 \nQ 20.953125 51.265625 25.265625 53.625 \nQ 29.59375 56 35.59375 56 \nQ 45.5625 56 51.78125 48.09375 \nQ 58.015625 40.1875 58.015625 27.296875 \nQ 58.015625 14.40625 51.78125 6.484375 \nQ 45.5625 -1.421875 35.59375 -1.421875 \nQ 29.59375 -1.421875 25.265625 0.953125 \nQ 20.953125 3.328125 18.109375 8.203125 \nL 18.109375 0 \nL 9.078125 0 \nL 9.078125 75.984375 \nL 18.109375 75.984375 \nz\n\" id=\"DejaVuSans-98\"/>\n      <path d=\"M 56.203125 29.59375 \nL 56.203125 25.203125 \nL 14.890625 25.203125 \nQ 15.484375 15.921875 20.484375 11.0625 \nQ 25.484375 6.203125 34.421875 6.203125 \nQ 39.59375 6.203125 44.453125 7.46875 \nQ 49.3125 8.734375 54.109375 11.28125 \nL 54.109375 2.78125 \nQ 49.265625 0.734375 44.1875 -0.34375 \nQ 39.109375 -1.421875 33.890625 -1.421875 \nQ 20.796875 -1.421875 13.15625 6.1875 \nQ 5.515625 13.8125 5.515625 26.8125 \nQ 5.515625 40.234375 12.765625 48.109375 \nQ 20.015625 56 32.328125 56 \nQ 43.359375 56 49.78125 48.890625 \nQ 56.203125 41.796875 56.203125 29.59375 \nz\nM 47.21875 32.234375 \nQ 47.125 39.59375 43.09375 43.984375 \nQ 39.0625 48.390625 32.421875 48.390625 \nQ 24.90625 48.390625 20.390625 44.140625 \nQ 15.875 39.890625 15.1875 32.171875 \nz\n\" id=\"DejaVuSans-101\"/>\n      <path d=\"M 9.421875 75.984375 \nL 18.40625 75.984375 \nL 18.40625 0 \nL 9.421875 0 \nz\n\" id=\"DejaVuSans-108\"/>\n      <path id=\"DejaVuSans-32\"/>\n      <path d=\"M 11.71875 12.40625 \nL 22.015625 12.40625 \nL 22.015625 0 \nL 11.71875 0 \nz\nM 11.71875 51.703125 \nL 22.015625 51.703125 \nL 22.015625 39.3125 \nL 11.71875 39.3125 \nz\n\" id=\"DejaVuSans-58\"/>\n      <path d=\"M 40.578125 39.3125 \nQ 47.65625 37.796875 51.625 33 \nQ 55.609375 28.21875 55.609375 21.1875 \nQ 55.609375 10.40625 48.1875 4.484375 \nQ 40.765625 -1.421875 27.09375 -1.421875 \nQ 22.515625 -1.421875 17.65625 -0.515625 \nQ 12.796875 0.390625 7.625 2.203125 \nL 7.625 11.71875 \nQ 11.71875 9.328125 16.59375 8.109375 \nQ 21.484375 6.890625 26.8125 6.890625 \nQ 36.078125 6.890625 40.9375 10.546875 \nQ 45.796875 14.203125 45.796875 21.1875 \nQ 45.796875 27.640625 41.28125 31.265625 \nQ 36.765625 34.90625 28.71875 34.90625 \nL 20.21875 34.90625 \nL 20.21875 43.015625 \nL 29.109375 43.015625 \nQ 36.375 43.015625 40.234375 45.921875 \nQ 44.09375 48.828125 44.09375 54.296875 \nQ 44.09375 59.90625 40.109375 62.90625 \nQ 36.140625 65.921875 28.71875 65.921875 \nQ 24.65625 65.921875 20.015625 65.03125 \nQ 15.375 64.15625 9.8125 62.3125 \nL 9.8125 71.09375 \nQ 15.4375 72.65625 20.34375 73.4375 \nQ 25.25 74.21875 29.59375 74.21875 \nQ 40.828125 74.21875 47.359375 69.109375 \nQ 53.90625 64.015625 53.90625 55.328125 \nQ 53.90625 49.265625 50.4375 45.09375 \nQ 46.96875 40.921875 40.578125 39.3125 \nz\n\" id=\"DejaVuSans-51\"/>\n     </defs>\n     <use xlink:href=\"#DejaVuSans-76\"/>\n     <use x=\"55.712891\" xlink:href=\"#DejaVuSans-97\"/>\n     <use x=\"116.992188\" xlink:href=\"#DejaVuSans-98\"/>\n     <use x=\"180.46875\" xlink:href=\"#DejaVuSans-101\"/>\n     <use x=\"241.992188\" xlink:href=\"#DejaVuSans-108\"/>\n     <use x=\"269.775391\" xlink:href=\"#DejaVuSans-32\"/>\n     <use x=\"301.5625\" xlink:href=\"#DejaVuSans-58\"/>\n     <use x=\"335.253906\" xlink:href=\"#DejaVuSans-32\"/>\n     <use x=\"367.041016\" xlink:href=\"#DejaVuSans-51\"/>\n    </g>\n   </g>\n  </g>\n  <g id=\"axes_2\">\n   <g id=\"patch_7\">\n    <path d=\"M 153.486661 123.868125 \nL 255.036661 123.868125 \nL 255.036661 22.318125 \nL 153.486661 22.318125 \nz\n\" style=\"fill:#ffffff;\"/>\n   </g>\n   <g clip-path=\"url(#pa71ead0b3b)\">\n    <image height=\"28\" id=\"imagefc7822cb85\" style=\"image-rendering:crisp-edges;image-rendering:pixelated\" transform=\"matrix(3.642857 0 0 3.642857 153.486661 21.868125)\" width=\"28\" xlink:href=\"data:image/png;base64,\niVBORw0KGgoAAAANSUhEUgAAABwAAAAcCAYAAAByDd+UAAABtElEQVR4nO2WPYvqUBCGZ8OtxEYIVn6kUBvTWWhhqXYi2AsW/gV/gLWthZ1Wgo0/wFYk2kkCQtDKNBpMowiCDu9WG1ZY2JxD8HLhDkwTeOY5vOcM5IOIQG8s5Z2yUIT9fp8A0PP5pEwmE4iBbEciEazXa5imiXq9HpSTk+m6DsdxcL/f0el0RFhxmaZpOBwOYGZMJhNRXlxYKpXAzLAsC/F4XIiVejSNRoOIiIbDIbmuK8wLnbBYLMJxHDAzyuWyzP2LAbPZzI9TVVVhofQebjYbOp/PUqzQ6zwej2BmVCoVmTjFItV13Y8zFotJCYUizWazRER0uVxIURSaTqdkGAYZhkG1Wi3wnEAni0ajWCwWYGZcr1fYtg1m9tvzPFSr1fAizeVyL4Kfejwe/zrnj0ik3+t0OtF8Pqf9fk+e59FgMAjESQld16Vms0mr1YpSqRR1u10hXjjS5XIJIkIymYRpmmBm2LYNTdPCu8NWq/UiTCQSsCzL/1YoFMLdw3w+7w9/PB643W5gZux2O7TbbSiKEq5QVVX0ej1st1tfPBqNkE6nhRb/48v6rvr3/tr+C/+68BPPE2WZrJP0BQAAAABJRU5ErkJggg==\"/>\n   </g>\n   <g id=\"matplotlib.axis_3\"/>\n   <g id=\"matplotlib.axis_4\"/>\n   <g id=\"patch_8\">\n    <path d=\"M 153.486661 123.868125 \nL 153.486661 22.318125 \n\" style=\"fill:none;stroke:#000000;stroke-linecap:square;stroke-linejoin:miter;stroke-width:0.8;\"/>\n   </g>\n   <g id=\"patch_9\">\n    <path d=\"M 255.036661 123.868125 \nL 255.036661 22.318125 \n\" style=\"fill:none;stroke:#000000;stroke-linecap:square;stroke-linejoin:miter;stroke-width:0.8;\"/>\n   </g>\n   <g id=\"patch_10\">\n    <path d=\"M 153.486661 123.868125 \nL 255.036661 123.868125 \n\" style=\"fill:none;stroke:#000000;stroke-linecap:square;stroke-linejoin:miter;stroke-width:0.8;\"/>\n   </g>\n   <g id=\"patch_11\">\n    <path d=\"M 153.486661 22.318125 \nL 255.036661 22.318125 \n\" style=\"fill:none;stroke:#000000;stroke-linecap:square;stroke-linejoin:miter;stroke-width:0.8;\"/>\n   </g>\n   <g id=\"text_2\">\n    <!-- Label : 6 -->\n    <g transform=\"translate(178.421348 16.318125)scale(0.12 -0.12)\">\n     <defs>\n      <path d=\"M 33.015625 40.375 \nQ 26.375 40.375 22.484375 35.828125 \nQ 18.609375 31.296875 18.609375 23.390625 \nQ 18.609375 15.53125 22.484375 10.953125 \nQ 26.375 6.390625 33.015625 6.390625 \nQ 39.65625 6.390625 43.53125 10.953125 \nQ 47.40625 15.53125 47.40625 23.390625 \nQ 47.40625 31.296875 43.53125 35.828125 \nQ 39.65625 40.375 33.015625 40.375 \nz\nM 52.59375 71.296875 \nL 52.59375 62.3125 \nQ 48.875 64.0625 45.09375 64.984375 \nQ 41.3125 65.921875 37.59375 65.921875 \nQ 27.828125 65.921875 22.671875 59.328125 \nQ 17.53125 52.734375 16.796875 39.40625 \nQ 19.671875 43.65625 24.015625 45.921875 \nQ 28.375 48.1875 33.59375 48.1875 \nQ 44.578125 48.1875 50.953125 41.515625 \nQ 57.328125 34.859375 57.328125 23.390625 \nQ 57.328125 12.15625 50.6875 5.359375 \nQ 44.046875 -1.421875 33.015625 -1.421875 \nQ 20.359375 -1.421875 13.671875 8.265625 \nQ 6.984375 17.96875 6.984375 36.375 \nQ 6.984375 53.65625 15.1875 63.9375 \nQ 23.390625 74.21875 37.203125 74.21875 \nQ 40.921875 74.21875 44.703125 73.484375 \nQ 48.484375 72.75 52.59375 71.296875 \nz\n\" id=\"DejaVuSans-54\"/>\n     </defs>\n     <use xlink:href=\"#DejaVuSans-76\"/>\n     <use x=\"55.712891\" xlink:href=\"#DejaVuSans-97\"/>\n     <use x=\"116.992188\" xlink:href=\"#DejaVuSans-98\"/>\n     <use x=\"180.46875\" xlink:href=\"#DejaVuSans-101\"/>\n     <use x=\"241.992188\" xlink:href=\"#DejaVuSans-108\"/>\n     <use x=\"269.775391\" xlink:href=\"#DejaVuSans-32\"/>\n     <use x=\"301.5625\" xlink:href=\"#DejaVuSans-58\"/>\n     <use x=\"335.253906\" xlink:href=\"#DejaVuSans-32\"/>\n     <use x=\"367.041016\" xlink:href=\"#DejaVuSans-54\"/>\n    </g>\n   </g>\n  </g>\n  <g id=\"axes_3\">\n   <g id=\"patch_12\">\n    <path d=\"M 296.273322 123.868125 \nL 397.823322 123.868125 \nL 397.823322 22.318125 \nL 296.273322 22.318125 \nz\n\" style=\"fill:#ffffff;\"/>\n   </g>\n   <g clip-path=\"url(#p04aa0b5f60)\">\n    <image height=\"28\" id=\"imaged7013ce5c2\" style=\"image-rendering:crisp-edges;image-rendering:pixelated\" transform=\"matrix(3.642857 0 0 3.642857 296.273322 21.868125)\" width=\"28\" xlink:href=\"data:image/png;base64,\niVBORw0KGgoAAAANSUhEUgAAABwAAAAcCAYAAAByDd+UAAACMElEQVR4nO1VPWsqQRQ9PpJCSIxaiKaICRFBtFC0sFFEJOB/0E7yB7SJtZU/wN7OQjvRUrH1q1QUIShIwIUtgkVghvOasAR03eUJyXvwLgzMzj1zzz0zd/ZaABDfaL++k+w/4c8TOhwO3Nzc6PpJ4u3tDeFw+GQcmhl3d3fcbDZcLpf0+XwH/mw2SyklhRDsdru6cS7MqisUCvB4PAAAp9N54A8Gg9r89fX1PIXJZJKKolAIwcViQZvNdoAplUqUUnK32zEUCp2KZ0xYrVYphOBqteLj4+NRTKPRoJSSz8/PRvFOk2WzWZLkx8cHi8XiUUw+n6eUkiSZy+XOI9xut5RScjKZ6GLy+TyFEFRVlff39yfjnXwWmUwGdrsdANBqtXRxXq8XADCfzw0LRlfh7e0th8MhhRDs9/t0OBy6WU+nUwohWCqVDOtBV2EoFEIkEgEAtNttqKp6FJdKpRAIBAxVGSp8enqilJJSSsZisaOYy8tL9no9DWekDqcefjQaBUkAwHq91tb9fj+sViusVivK5TISiQRIotPpmFKnSzgej7X5YDDQiiEej+Pq6goWi0VLCAAqlYopQkBH+vX1NVutFoUQ2j/y6xgOh1wul9q3y+U670jf39+Ry+WQTqeRTCa19dlshk6ng/1+j1qthoeHBzSbTSiKcp5Co+F2u7ViqdfrpveZ7hZHM/28w693aWR/d8f/UcLdboeXlxcAwGg0Mr3Pgs+W8V327xzpn9pv71rmGgm5d6IAAAAASUVORK5CYII=\"/>\n   </g>\n   <g id=\"matplotlib.axis_5\"/>\n   <g id=\"matplotlib.axis_6\"/>\n   <g id=\"patch_13\">\n    <path d=\"M 296.273322 123.868125 \nL 296.273322 22.318125 \n\" style=\"fill:none;stroke:#000000;stroke-linecap:square;stroke-linejoin:miter;stroke-width:0.8;\"/>\n   </g>\n   <g id=\"patch_14\">\n    <path d=\"M 397.823322 123.868125 \nL 397.823322 22.318125 \n\" style=\"fill:none;stroke:#000000;stroke-linecap:square;stroke-linejoin:miter;stroke-width:0.8;\"/>\n   </g>\n   <g id=\"patch_15\">\n    <path d=\"M 296.273322 123.868125 \nL 397.823322 123.868125 \n\" style=\"fill:none;stroke:#000000;stroke-linecap:square;stroke-linejoin:miter;stroke-width:0.8;\"/>\n   </g>\n   <g id=\"patch_16\">\n    <path d=\"M 296.273322 22.318125 \nL 397.823322 22.318125 \n\" style=\"fill:none;stroke:#000000;stroke-linecap:square;stroke-linejoin:miter;stroke-width:0.8;\"/>\n   </g>\n   <g id=\"text_3\">\n    <!-- Label : 4 -->\n    <g transform=\"translate(321.208009 16.318125)scale(0.12 -0.12)\">\n     <defs>\n      <path d=\"M 37.796875 64.3125 \nL 12.890625 25.390625 \nL 37.796875 25.390625 \nz\nM 35.203125 72.90625 \nL 47.609375 72.90625 \nL 47.609375 25.390625 \nL 58.015625 25.390625 \nL 58.015625 17.1875 \nL 47.609375 17.1875 \nL 47.609375 0 \nL 37.796875 0 \nL 37.796875 17.1875 \nL 4.890625 17.1875 \nL 4.890625 26.703125 \nz\n\" id=\"DejaVuSans-52\"/>\n     </defs>\n     <use xlink:href=\"#DejaVuSans-76\"/>\n     <use x=\"55.712891\" xlink:href=\"#DejaVuSans-97\"/>\n     <use x=\"116.992188\" xlink:href=\"#DejaVuSans-98\"/>\n     <use x=\"180.46875\" xlink:href=\"#DejaVuSans-101\"/>\n     <use x=\"241.992188\" xlink:href=\"#DejaVuSans-108\"/>\n     <use x=\"269.775391\" xlink:href=\"#DejaVuSans-32\"/>\n     <use x=\"301.5625\" xlink:href=\"#DejaVuSans-58\"/>\n     <use x=\"335.253906\" xlink:href=\"#DejaVuSans-32\"/>\n     <use x=\"367.041016\" xlink:href=\"#DejaVuSans-52\"/>\n    </g>\n   </g>\n  </g>\n  <g id=\"axes_4\">\n   <g id=\"patch_17\">\n    <path d=\"M 10.7 255.718125 \nL 112.25 255.718125 \nL 112.25 154.168125 \nL 10.7 154.168125 \nz\n\" style=\"fill:#ffffff;\"/>\n   </g>\n   <g clip-path=\"url(#p722b701587)\">\n    <image height=\"28\" id=\"image252f727d48\" style=\"image-rendering:crisp-edges;image-rendering:pixelated\" transform=\"matrix(3.642857 0 0 3.642857 10.7 153.718125)\" width=\"28\" xlink:href=\"data:image/png;base64,\niVBORw0KGgoAAAANSUhEUgAAABwAAAAcCAYAAAByDd+UAAAB00lEQVR4nO3Vv4riUBgF8G82WgkGEYmFiCRiq6ClaO0bWKmd2NjYKIivYCHkAVILllY2ir0pLCQI/gHFTgkGQfzOFMuGnV1nHCVrsXggzb338As3N8kbEYGemB/PxF7gC7yZRCJBmqZRNBr9MA6nL1EUkc/nYVkWmBndbvf3eWcQRVFQLpfR6/Ww3W7BzGBmDIdD+Hw+Z8BwOAxFUbDZbHA4HGxkt9thsVigVqvB4/H82bsf8nq90DQNl8vFRpgZ4/EYjUYDgUDgq/79oKqqYGas12vIsgxRFCGKItxu93f634fS6TRGoxHO5zOYGclk8pFHcXtRKpWCYRgftnA2m0GSJOfBYrGI0+kEZsZ+v0e/37fRSqVyN3jzxY9EIrTdbknXdcpms5TL5cgwDCIikiTpVv1qrt6Jy+VCoVAAEcHv9yMUCtlzy+USzIx6ve7clqqqCtM0/xoPBoMwTRPMjFgs5hxoWRYulwtKpRJcLheIfn6yJpMJmBmTyQSCIDgHNptN+3C0221Uq1UMBgMwM1arFeLx+CPY52AikcB8PgczA4CN67qOTCbzKIa3X+q1CIJArVaLZFkmIqLj8UidToem0+lnlZv5EvwX+b/++C/wKXkHu3Q8O5ayPZUAAAAASUVORK5CYII=\"/>\n   </g>\n   <g id=\"matplotlib.axis_7\"/>\n   <g id=\"matplotlib.axis_8\"/>\n   <g id=\"patch_18\">\n    <path d=\"M 10.7 255.718125 \nL 10.7 154.168125 \n\" style=\"fill:none;stroke:#000000;stroke-linecap:square;stroke-linejoin:miter;stroke-width:0.8;\"/>\n   </g>\n   <g id=\"patch_19\">\n    <path d=\"M 112.25 255.718125 \nL 112.25 154.168125 \n\" style=\"fill:none;stroke:#000000;stroke-linecap:square;stroke-linejoin:miter;stroke-width:0.8;\"/>\n   </g>\n   <g id=\"patch_20\">\n    <path d=\"M 10.7 255.718125 \nL 112.25 255.718125 \n\" style=\"fill:none;stroke:#000000;stroke-linecap:square;stroke-linejoin:miter;stroke-width:0.8;\"/>\n   </g>\n   <g id=\"patch_21\">\n    <path d=\"M 10.7 154.168125 \nL 112.25 154.168125 \n\" style=\"fill:none;stroke:#000000;stroke-linecap:square;stroke-linejoin:miter;stroke-width:0.8;\"/>\n   </g>\n   <g id=\"text_4\">\n    <!-- Label : 5 -->\n    <g transform=\"translate(35.634688 148.168125)scale(0.12 -0.12)\">\n     <defs>\n      <path d=\"M 10.796875 72.90625 \nL 49.515625 72.90625 \nL 49.515625 64.59375 \nL 19.828125 64.59375 \nL 19.828125 46.734375 \nQ 21.96875 47.46875 24.109375 47.828125 \nQ 26.265625 48.1875 28.421875 48.1875 \nQ 40.625 48.1875 47.75 41.5 \nQ 54.890625 34.8125 54.890625 23.390625 \nQ 54.890625 11.625 47.5625 5.09375 \nQ 40.234375 -1.421875 26.90625 -1.421875 \nQ 22.3125 -1.421875 17.546875 -0.640625 \nQ 12.796875 0.140625 7.71875 1.703125 \nL 7.71875 11.625 \nQ 12.109375 9.234375 16.796875 8.0625 \nQ 21.484375 6.890625 26.703125 6.890625 \nQ 35.15625 6.890625 40.078125 11.328125 \nQ 45.015625 15.765625 45.015625 23.390625 \nQ 45.015625 31 40.078125 35.4375 \nQ 35.15625 39.890625 26.703125 39.890625 \nQ 22.75 39.890625 18.8125 39.015625 \nQ 14.890625 38.140625 10.796875 36.28125 \nz\n\" id=\"DejaVuSans-53\"/>\n     </defs>\n     <use xlink:href=\"#DejaVuSans-76\"/>\n     <use x=\"55.712891\" xlink:href=\"#DejaVuSans-97\"/>\n     <use x=\"116.992188\" xlink:href=\"#DejaVuSans-98\"/>\n     <use x=\"180.46875\" xlink:href=\"#DejaVuSans-101\"/>\n     <use x=\"241.992188\" xlink:href=\"#DejaVuSans-108\"/>\n     <use x=\"269.775391\" xlink:href=\"#DejaVuSans-32\"/>\n     <use x=\"301.5625\" xlink:href=\"#DejaVuSans-58\"/>\n     <use x=\"335.253906\" xlink:href=\"#DejaVuSans-32\"/>\n     <use x=\"367.041016\" xlink:href=\"#DejaVuSans-53\"/>\n    </g>\n   </g>\n  </g>\n  <g id=\"axes_5\">\n   <g id=\"patch_22\">\n    <path d=\"M 153.486661 255.718125 \nL 255.036661 255.718125 \nL 255.036661 154.168125 \nL 153.486661 154.168125 \nz\n\" style=\"fill:#ffffff;\"/>\n   </g>\n   <g clip-path=\"url(#p3fc5849a47)\">\n    <image height=\"28\" id=\"image6f05c6ba06\" style=\"image-rendering:crisp-edges;image-rendering:pixelated\" transform=\"matrix(3.642857 0 0 3.642857 153.486661 153.718125)\" width=\"28\" xlink:href=\"data:image/png;base64,\niVBORw0KGgoAAAANSUhEUgAAABwAAAAcCAYAAAByDd+UAAABdElEQVR4nO2WsarCMBiFf+/mZAc7OWQoQnXQpXtHcRKdpVNXwWfwAQRnH0Po4JKHKBQdgmuLuOmW9Nzl3oCD3KQQuRfugQwpPf1y8vdP2yIi0Bv18U7YP/D3AgFQnueUJIlboO/7dDweqa5rGgwG1O/33QJXqxUFQaDnt9vNyIcmYzgcQggBKSWUUpBSYjKZ/OhrnJAxRowxa19j4GKxeJoXRUGn08kNcDab0Wg0erq23W7p8XgY+a3rxzmHlFIPzjk6nY6p3w4WxzEAQCmlh43fekvn8znVdU0A6H6/U5qmto8wX12v14MQQreBEAKe57lL2G63n1qBMUbL5dJdwizLoJTSNTyfz9YvnFVCAARA13Cz2VinM04YRRHKstRH2eFwQLfbbXIsmt04nU513ymlEARBE5gZcDweo6oq3Xe73a4pzKyGjDG6XC66hgBMbC9ltLL9fq+3NAxDtwm/db1eab1eG30VXqn1RX6b/uZfm40+AcREsRJsR+pMAAAAAElFTkSuQmCC\"/>\n   </g>\n   <g id=\"matplotlib.axis_9\"/>\n   <g id=\"matplotlib.axis_10\"/>\n   <g id=\"patch_23\">\n    <path d=\"M 153.486661 255.718125 \nL 153.486661 154.168125 \n\" style=\"fill:none;stroke:#000000;stroke-linecap:square;stroke-linejoin:miter;stroke-width:0.8;\"/>\n   </g>\n   <g id=\"patch_24\">\n    <path d=\"M 255.036661 255.718125 \nL 255.036661 154.168125 \n\" style=\"fill:none;stroke:#000000;stroke-linecap:square;stroke-linejoin:miter;stroke-width:0.8;\"/>\n   </g>\n   <g id=\"patch_25\">\n    <path d=\"M 153.486661 255.718125 \nL 255.036661 255.718125 \n\" style=\"fill:none;stroke:#000000;stroke-linecap:square;stroke-linejoin:miter;stroke-width:0.8;\"/>\n   </g>\n   <g id=\"patch_26\">\n    <path d=\"M 153.486661 154.168125 \nL 255.036661 154.168125 \n\" style=\"fill:none;stroke:#000000;stroke-linecap:square;stroke-linejoin:miter;stroke-width:0.8;\"/>\n   </g>\n   <g id=\"text_5\">\n    <!-- Label : 1 -->\n    <g transform=\"translate(178.421348 148.168125)scale(0.12 -0.12)\">\n     <defs>\n      <path d=\"M 12.40625 8.296875 \nL 28.515625 8.296875 \nL 28.515625 63.921875 \nL 10.984375 60.40625 \nL 10.984375 69.390625 \nL 28.421875 72.90625 \nL 38.28125 72.90625 \nL 38.28125 8.296875 \nL 54.390625 8.296875 \nL 54.390625 0 \nL 12.40625 0 \nz\n\" id=\"DejaVuSans-49\"/>\n     </defs>\n     <use xlink:href=\"#DejaVuSans-76\"/>\n     <use x=\"55.712891\" xlink:href=\"#DejaVuSans-97\"/>\n     <use x=\"116.992188\" xlink:href=\"#DejaVuSans-98\"/>\n     <use x=\"180.46875\" xlink:href=\"#DejaVuSans-101\"/>\n     <use x=\"241.992188\" xlink:href=\"#DejaVuSans-108\"/>\n     <use x=\"269.775391\" xlink:href=\"#DejaVuSans-32\"/>\n     <use x=\"301.5625\" xlink:href=\"#DejaVuSans-58\"/>\n     <use x=\"335.253906\" xlink:href=\"#DejaVuSans-32\"/>\n     <use x=\"367.041016\" xlink:href=\"#DejaVuSans-49\"/>\n    </g>\n   </g>\n  </g>\n  <g id=\"axes_6\">\n   <g id=\"patch_27\">\n    <path d=\"M 296.273322 255.718125 \nL 397.823322 255.718125 \nL 397.823322 154.168125 \nL 296.273322 154.168125 \nz\n\" style=\"fill:#ffffff;\"/>\n   </g>\n   <g clip-path=\"url(#pef24b70046)\">\n    <image height=\"28\" id=\"image26aba68873\" style=\"image-rendering:crisp-edges;image-rendering:pixelated\" transform=\"matrix(3.642857 0 0 3.642857 296.273322 153.718125)\" width=\"28\" xlink:href=\"data:image/png;base64,\niVBORw0KGgoAAAANSUhEUgAAABwAAAAcCAYAAAByDd+UAAAB6UlEQVR4nO2Vr8vqYBTHv++dgrMICwqWGYwGwYGwYLGIf4Amkyuz+ycsCjZFu2ASRTAIIhgshlUxOYOWFWEDfzw7b7mMC3fXObma3gMHDjznu885X8bzfAEgfDB+fRL2A/wB/l8gx3FQVRXH4xGO42A+n6PdbiObzf7VG4lEUCqVYFkWFEXxhZJXSpJEjDHPnEwmNB6PSdM0KhaL1O/33bN6ve75vT/S+2C/3xNjjHa7HamqSr1ejw6HAzHGyHGcfw7jBwx5rczzPARBAAAsl0t0Oh3Xulwuh0Kh4PbKsoxyuQwAuN1u2Gw2wS1VFMWdOJ/PP5w4kUi4vefz2c9OeviXmqYJ0zQfTlutVt16OBz6bue5oSRJtFgsqFar+U6saZq7oSiKvv2ewCDZ7XZdYDwefy9QFEWybZsYY2QYBsVisfcCV6uVu12z2XxW9xqM53nabrfkOA6t1+undS/fpbIsI51Og4hgGMbTupeBmUzGrUejUSBtYDtTqRRdr1dijNHpdKJQKPReS5PJJDiOAwDMZjPc7/entS8BK5WKW0+n08D6QHaGw2GyLIsYY3S5XCgajQbSB96w0WggGo0CAFqtFmzbDqR/yVIiAgAMBoPAWs/38FHoug5d1yEIgu9L4hVf+H3dfCq+AZrR/NoCeAZ2AAAAAElFTkSuQmCC\"/>\n   </g>\n   <g id=\"matplotlib.axis_11\"/>\n   <g id=\"matplotlib.axis_12\"/>\n   <g id=\"patch_28\">\n    <path d=\"M 296.273322 255.718125 \nL 296.273322 154.168125 \n\" style=\"fill:none;stroke:#000000;stroke-linecap:square;stroke-linejoin:miter;stroke-width:0.8;\"/>\n   </g>\n   <g id=\"patch_29\">\n    <path d=\"M 397.823322 255.718125 \nL 397.823322 154.168125 \n\" style=\"fill:none;stroke:#000000;stroke-linecap:square;stroke-linejoin:miter;stroke-width:0.8;\"/>\n   </g>\n   <g id=\"patch_30\">\n    <path d=\"M 296.273322 255.718125 \nL 397.823322 255.718125 \n\" style=\"fill:none;stroke:#000000;stroke-linecap:square;stroke-linejoin:miter;stroke-width:0.8;\"/>\n   </g>\n   <g id=\"patch_31\">\n    <path d=\"M 296.273322 154.168125 \nL 397.823322 154.168125 \n\" style=\"fill:none;stroke:#000000;stroke-linecap:square;stroke-linejoin:miter;stroke-width:0.8;\"/>\n   </g>\n   <g id=\"text_6\">\n    <!-- Label : 7 -->\n    <g transform=\"translate(321.208009 148.168125)scale(0.12 -0.12)\">\n     <defs>\n      <path d=\"M 8.203125 72.90625 \nL 55.078125 72.90625 \nL 55.078125 68.703125 \nL 28.609375 0 \nL 18.3125 0 \nL 43.21875 64.59375 \nL 8.203125 64.59375 \nz\n\" id=\"DejaVuSans-55\"/>\n     </defs>\n     <use xlink:href=\"#DejaVuSans-76\"/>\n     <use x=\"55.712891\" xlink:href=\"#DejaVuSans-97\"/>\n     <use x=\"116.992188\" xlink:href=\"#DejaVuSans-98\"/>\n     <use x=\"180.46875\" xlink:href=\"#DejaVuSans-101\"/>\n     <use x=\"241.992188\" xlink:href=\"#DejaVuSans-108\"/>\n     <use x=\"269.775391\" xlink:href=\"#DejaVuSans-32\"/>\n     <use x=\"301.5625\" xlink:href=\"#DejaVuSans-58\"/>\n     <use x=\"335.253906\" xlink:href=\"#DejaVuSans-32\"/>\n     <use x=\"367.041016\" xlink:href=\"#DejaVuSans-55\"/>\n    </g>\n   </g>\n  </g>\n </g>\n <defs>\n  <clipPath id=\"p2baf8c5c8d\">\n   <rect height=\"101.55\" width=\"101.55\" x=\"10.7\" y=\"22.318125\"/>\n  </clipPath>\n  <clipPath id=\"pa71ead0b3b\">\n   <rect height=\"101.55\" width=\"101.55\" x=\"153.486661\" y=\"22.318125\"/>\n  </clipPath>\n  <clipPath id=\"p04aa0b5f60\">\n   <rect height=\"101.55\" width=\"101.55\" x=\"296.273322\" y=\"22.318125\"/>\n  </clipPath>\n  <clipPath id=\"p722b701587\">\n   <rect height=\"101.55\" width=\"101.55\" x=\"10.7\" y=\"154.168125\"/>\n  </clipPath>\n  <clipPath id=\"p3fc5849a47\">\n   <rect height=\"101.55\" width=\"101.55\" x=\"153.486661\" y=\"154.168125\"/>\n  </clipPath>\n  <clipPath id=\"pef24b70046\">\n   <rect height=\"101.55\" width=\"101.55\" x=\"296.273322\" y=\"154.168125\"/>\n  </clipPath>\n </defs>\n</svg>\n",
      "image/png": "[encoded data removed]"
     },
     "metadata": {}
    }
   ],
   "source": [
    "fig = plt.figure()\n",
    "for i in range(6):\n",
    "  plt.subplot(2,3,i+1)\n",
    "  plt.tight_layout()\n",
    "  plt.imshow(images[i][0], cmap='gray', interpolation='none')\n",
    "  plt.title(\"Label : {}\".format(labels[i]))\n",
    "  plt.xticks([])\n",
    "  plt.yticks([])\n",
    "fig"
   ]
  },
  {
   "cell_type": "code",
   "execution_count": 7,
   "metadata": {},
   "outputs": [],
   "source": [
    "# Building neural net\n",
    "class Net(nn.Module):\n",
    "    def __init__(self,num_classes=10):\n",
    "        super(Net,self).__init__()\n",
    "\n",
    "        # Instantiate two convolutional layers\n",
    "        self.conv1 = nn.Conv2d(in_channels=1, out_channels=5, kernel_size=3, padding=1)\n",
    "        self.conv2 = nn.Conv2d(in_channels=5, out_channels=10, kernel_size=3, padding=1)\n",
    "\n",
    "        # Instantiate a max pooling layer\n",
    "        self.pool = nn.MaxPool2d(2, 2)\n",
    "        \n",
    "        # Instantiate a fully connected layer\n",
    "        self.fc1 = nn.Linear(7 * 7 * 10, 100)\n",
    "        self.fc2 = nn.Linear(100,num_classes)\n",
    "    \n",
    "    def forward(self,x):\n",
    "        # Apply conv followd by relu, then in next line pool\n",
    "        x = F.relu(self.conv1(x))\n",
    "        x = self.pool(x)\n",
    "\n",
    "        # Apply conv followd by relu, then in next line pool\n",
    "        x = F.relu(self.conv2(x))\n",
    "        x = self.pool(x)\n",
    "\n",
    "        # Prepare the image for the fully connected layer\n",
    "        x = x.view(-1, 7*7*10)\n",
    "        x = self.fc1(x)\n",
    "\n",
    "        # Apply the fully connected layer and return the result\n",
    "        return self.fc2(x)\n",
    "\n",
    "# To calculate output size use formula (W - K + 2P/S) + 1\n",
    "# image dimension is 28 * 28 * 1\n",
    "# W = 28 , K = 3 , P = 1 , S = 1\n",
    "# after con1 , output size is 28*28*5\n",
    "# after first maxpool, output size is 14*14*5\n",
    "# after conv2, output size is 14*14*10\n",
    "# after second maxpool , output size is 7*7*10\n",
    "\n",
    "# NOTE : For maxpool use same formula, just replace kernel with maxpool size"
   ]
  },
  {
   "cell_type": "code",
   "execution_count": 34,
   "metadata": {
    "tags": []
   },
   "outputs": [
    {
     "output_type": "stream",
     "name": "stdout",
     "text": [
      "Epoch 0/199\n----------\n"
     ]
    },
    {
     "output_type": "display_data",
     "data": {
      "text/plain": "HBox(children=(HTML(value=''), FloatProgress(value=0.0, max=1875.0), HTML(value='')))",
      "application/vnd.jupyter.widget-view+json": {
       "version_major": 2,
       "version_minor": 0,
       "model_id": "89f88d0c139949e8804a1b4ec56cb6d2"
      }
     },
     "metadata": {}
    },
    {
     "output_type": "stream",
     "name": "stdout",
     "text": [
      "\ntensor(2.1282, device='cuda:0')\nEpoch 1/199\n----------\n"
     ]
    },
    {
     "output_type": "display_data",
     "data": {
      "text/plain": "HBox(children=(HTML(value=''), FloatProgress(value=0.0, max=1875.0), HTML(value='')))",
      "application/vnd.jupyter.widget-view+json": {
       "version_major": 2,
       "version_minor": 0,
       "model_id": "0eac0ea839134c6ea2a74330c8aee8aa"
      }
     },
     "metadata": {}
    },
    {
     "output_type": "stream",
     "name": "stdout",
     "text": [
      "\ntensor(2.6161, device='cuda:0')\nEpoch 2/199\n----------\n"
     ]
    },
    {
     "output_type": "display_data",
     "data": {
      "text/plain": "HBox(children=(HTML(value=''), FloatProgress(value=0.0, max=1875.0), HTML(value='')))",
      "application/vnd.jupyter.widget-view+json": {
       "version_major": 2,
       "version_minor": 0,
       "model_id": "ab4cad5b35bc4f41b8ea09c7d63e4a76"
      }
     },
     "metadata": {}
    },
    {
     "output_type": "stream",
     "name": "stdout",
     "text": [
      "\ntensor(0.6350, device='cuda:0')\nEpoch 3/199\n----------\n"
     ]
    },
    {
     "output_type": "display_data",
     "data": {
      "text/plain": "HBox(children=(HTML(value=''), FloatProgress(value=0.0, max=1875.0), HTML(value='')))",
      "application/vnd.jupyter.widget-view+json": {
       "version_major": 2,
       "version_minor": 0,
       "model_id": "e721a6db41994932860be623a3191de7"
      }
     },
     "metadata": {}
    },
    {
     "output_type": "stream",
     "name": "stdout",
     "text": [
      "\ntensor(1.2881, device='cuda:0')\nEpoch 4/199\n----------\n"
     ]
    },
    {
     "output_type": "display_data",
     "data": {
      "text/plain": "HBox(children=(HTML(value=''), FloatProgress(value=0.0, max=1875.0), HTML(value='')))",
      "application/vnd.jupyter.widget-view+json": {
       "version_major": 2,
       "version_minor": 0,
       "model_id": "9164590700f74e0c9e3bc5793690f6a3"
      }
     },
     "metadata": {}
    },
    {
     "output_type": "stream",
     "name": "stdout",
     "text": [
      "\ntensor(2.4468, device='cuda:0')\nEpoch 5/199\n----------\n"
     ]
    },
    {
     "output_type": "display_data",
     "data": {
      "text/plain": "HBox(children=(HTML(value=''), FloatProgress(value=0.0, max=1875.0), HTML(value='')))",
      "application/vnd.jupyter.widget-view+json": {
       "version_major": 2,
       "version_minor": 0,
       "model_id": "1cb2a865013e4d4b94c77a2cb2b22270"
      }
     },
     "metadata": {}
    },
    {
     "output_type": "stream",
     "name": "stdout",
     "text": [
      "\ntensor(1.7415, device='cuda:0')\nEpoch 6/199\n----------\n"
     ]
    },
    {
     "output_type": "display_data",
     "data": {
      "text/plain": "HBox(children=(HTML(value=''), FloatProgress(value=0.0, max=1875.0), HTML(value='')))",
      "application/vnd.jupyter.widget-view+json": {
       "version_major": 2,
       "version_minor": 0,
       "model_id": "a16ae5c7d0a648d2a3ec90b4d544a5de"
      }
     },
     "metadata": {}
    },
    {
     "output_type": "stream",
     "name": "stdout",
     "text": [
      "\ntensor(0.2597, device='cuda:0')\nEpoch 7/199\n----------\n"
     ]
    },
    {
     "output_type": "display_data",
     "data": {
      "text/plain": "HBox(children=(HTML(value=''), FloatProgress(value=0.0, max=1875.0), HTML(value='')))",
      "application/vnd.jupyter.widget-view+json": {
       "version_major": 2,
       "version_minor": 0,
       "model_id": "56f7c8d3a45b49dfbe8502f0872300d1"
      }
     },
     "metadata": {}
    },
    {
     "output_type": "stream",
     "name": "stdout",
     "text": [
      "\ntensor(0.8038, device='cuda:0')\nEpoch 8/199\n----------\n"
     ]
    },
    {
     "output_type": "display_data",
     "data": {
      "text/plain": "HBox(children=(HTML(value=''), FloatProgress(value=0.0, max=1875.0), HTML(value='')))",
      "application/vnd.jupyter.widget-view+json": {
       "version_major": 2,
       "version_minor": 0,
       "model_id": "2dddbfe24b924e06aae2f976a3b54f54"
      }
     },
     "metadata": {}
    },
    {
     "output_type": "stream",
     "name": "stdout",
     "text": [
      "\ntensor(2.2151, device='cuda:0')\nEpoch 9/199\n----------\n"
     ]
    },
    {
     "output_type": "display_data",
     "data": {
      "text/plain": "HBox(children=(HTML(value=''), FloatProgress(value=0.0, max=1875.0), HTML(value='')))",
      "application/vnd.jupyter.widget-view+json": {
       "version_major": 2,
       "version_minor": 0,
       "model_id": "8460c51b38d64e01a714b5c88490fccf"
      }
     },
     "metadata": {}
    },
    {
     "output_type": "stream",
     "name": "stdout",
     "text": [
      "\ntensor(0.1680, device='cuda:0')\nEpoch 10/199\n----------\n"
     ]
    },
    {
     "output_type": "display_data",
     "data": {
      "text/plain": "HBox(children=(HTML(value=''), FloatProgress(value=0.0, max=1875.0), HTML(value='')))",
      "application/vnd.jupyter.widget-view+json": {
       "version_major": 2,
       "version_minor": 0,
       "model_id": "ddb7eb6dc2cf4ff2bae394acf6a4d303"
      }
     },
     "metadata": {}
    },
    {
     "output_type": "stream",
     "name": "stdout",
     "text": [
      "\ntensor(1.1488, device='cuda:0')\nEpoch 11/199\n----------\n"
     ]
    },
    {
     "output_type": "display_data",
     "data": {
      "text/plain": "HBox(children=(HTML(value=''), FloatProgress(value=0.0, max=1875.0), HTML(value='')))",
      "application/vnd.jupyter.widget-view+json": {
       "version_major": 2,
       "version_minor": 0,
       "model_id": "74df696279b64dd68b64424fb57a20ac"
      }
     },
     "metadata": {}
    },
    {
     "output_type": "stream",
     "name": "stdout",
     "text": [
      "\ntensor(0.0709, device='cuda:0')\nEpoch 12/199\n----------\n"
     ]
    },
    {
     "output_type": "display_data",
     "data": {
      "text/plain": "HBox(children=(HTML(value=''), FloatProgress(value=0.0, max=1875.0), HTML(value='')))",
      "application/vnd.jupyter.widget-view+json": {
       "version_major": 2,
       "version_minor": 0,
       "model_id": "275ec2d3250e430e806c897662312254"
      }
     },
     "metadata": {}
    },
    {
     "output_type": "stream",
     "name": "stdout",
     "text": [
      "\ntensor(0.0706, device='cuda:0')\nEpoch 13/199\n----------\n"
     ]
    },
    {
     "output_type": "display_data",
     "data": {
      "text/plain": "HBox(children=(HTML(value=''), FloatProgress(value=0.0, max=1875.0), HTML(value='')))",
      "application/vnd.jupyter.widget-view+json": {
       "version_major": 2,
       "version_minor": 0,
       "model_id": "459b5bacd25444a58d48825f65ad69f1"
      }
     },
     "metadata": {}
    },
    {
     "output_type": "stream",
     "name": "stdout",
     "text": [
      "\ntensor(1.2933, device='cuda:0')\nEpoch 14/199\n----------\n"
     ]
    },
    {
     "output_type": "display_data",
     "data": {
      "text/plain": "HBox(children=(HTML(value=''), FloatProgress(value=0.0, max=1875.0), HTML(value='')))",
      "application/vnd.jupyter.widget-view+json": {
       "version_major": 2,
       "version_minor": 0,
       "model_id": "254c4a57de7e40d7a7c33607204f13af"
      }
     },
     "metadata": {}
    },
    {
     "output_type": "stream",
     "name": "stdout",
     "text": [
      "\ntensor(2.8717, device='cuda:0')\nEpoch 15/199\n----------\n"
     ]
    },
    {
     "output_type": "display_data",
     "data": {
      "text/plain": "HBox(children=(HTML(value=''), FloatProgress(value=0.0, max=1875.0), HTML(value='')))",
      "application/vnd.jupyter.widget-view+json": {
       "version_major": 2,
       "version_minor": 0,
       "model_id": "f946c5a342ad446ead2c10e974a0ba56"
      }
     },
     "metadata": {}
    },
    {
     "output_type": "stream",
     "name": "stdout",
     "text": [
      "\ntensor(0.0428, device='cuda:0')\nEpoch 16/199\n----------\n"
     ]
    },
    {
     "output_type": "display_data",
     "data": {
      "text/plain": "HBox(children=(HTML(value=''), FloatProgress(value=0.0, max=1875.0), HTML(value='')))",
      "application/vnd.jupyter.widget-view+json": {
       "version_major": 2,
       "version_minor": 0,
       "model_id": "20ee896bc76c4130bfaea11ef976b6ca"
      }
     },
     "metadata": {}
    },
    {
     "output_type": "stream",
     "name": "stdout",
     "text": [
      "\ntensor(0.8688, device='cuda:0')\nEpoch 17/199\n----------\n"
     ]
    },
    {
     "output_type": "display_data",
     "data": {
      "text/plain": "HBox(children=(HTML(value=''), FloatProgress(value=0.0, max=1875.0), HTML(value='')))",
      "application/vnd.jupyter.widget-view+json": {
       "version_major": 2,
       "version_minor": 0,
       "model_id": "e09fdbb2514949ea8c262b1a2fee526f"
      }
     },
     "metadata": {}
    },
    {
     "output_type": "stream",
     "name": "stdout",
     "text": [
      "\ntensor(2.1026, device='cuda:0')\nEpoch 18/199\n----------\n"
     ]
    },
    {
     "output_type": "display_data",
     "data": {
      "text/plain": "HBox(children=(HTML(value=''), FloatProgress(value=0.0, max=1875.0), HTML(value='')))",
      "application/vnd.jupyter.widget-view+json": {
       "version_major": 2,
       "version_minor": 0,
       "model_id": "3645cced39044b70949c9d21b822fc5f"
      }
     },
     "metadata": {}
    },
    {
     "output_type": "stream",
     "name": "stdout",
     "text": [
      "\ntensor(0.2316, device='cuda:0')\nEpoch 19/199\n----------\n"
     ]
    },
    {
     "output_type": "display_data",
     "data": {
      "text/plain": "HBox(children=(HTML(value=''), FloatProgress(value=0.0, max=1875.0), HTML(value='')))",
      "application/vnd.jupyter.widget-view+json": {
       "version_major": 2,
       "version_minor": 0,
       "model_id": "ef655230ddf14a2a91499cbbdef7b024"
      }
     },
     "metadata": {}
    },
    {
     "output_type": "stream",
     "name": "stdout",
     "text": [
      "\ntensor(0.9034, device='cuda:0')\nEpoch 20/199\n----------\n"
     ]
    },
    {
     "output_type": "display_data",
     "data": {
      "text/plain": "HBox(children=(HTML(value=''), FloatProgress(value=0.0, max=1875.0), HTML(value='')))",
      "application/vnd.jupyter.widget-view+json": {
       "version_major": 2,
       "version_minor": 0,
       "model_id": "4e9ec1914a68403e8e2f233783eb59c4"
      }
     },
     "metadata": {}
    },
    {
     "output_type": "stream",
     "name": "stdout",
     "text": [
      "\ntensor(0.1688, device='cuda:0')\nEpoch 21/199\n----------\n"
     ]
    },
    {
     "output_type": "display_data",
     "data": {
      "text/plain": "HBox(children=(HTML(value=''), FloatProgress(value=0.0, max=1875.0), HTML(value='')))",
      "application/vnd.jupyter.widget-view+json": {
       "version_major": 2,
       "version_minor": 0,
       "model_id": "3fd61f9ca9cb48f8a43c7af0bad76940"
      }
     },
     "metadata": {}
    },
    {
     "output_type": "stream",
     "name": "stdout",
     "text": [
      "\ntensor(0.1307, device='cuda:0')\nEpoch 22/199\n----------\n"
     ]
    },
    {
     "output_type": "display_data",
     "data": {
      "text/plain": "HBox(children=(HTML(value=''), FloatProgress(value=0.0, max=1875.0), HTML(value='')))",
      "application/vnd.jupyter.widget-view+json": {
       "version_major": 2,
       "version_minor": 0,
       "model_id": "293117af7601429d8f25f5b3050c679e"
      }
     },
     "metadata": {}
    },
    {
     "output_type": "stream",
     "name": "stdout",
     "text": [
      "\ntensor(0.9681, device='cuda:0')\nEpoch 23/199\n----------\n"
     ]
    },
    {
     "output_type": "display_data",
     "data": {
      "text/plain": "HBox(children=(HTML(value=''), FloatProgress(value=0.0, max=1875.0), HTML(value='')))",
      "application/vnd.jupyter.widget-view+json": {
       "version_major": 2,
       "version_minor": 0,
       "model_id": "f070d5e48e0f46fa9f7a5ba3ea222466"
      }
     },
     "metadata": {}
    },
    {
     "output_type": "stream",
     "name": "stdout",
     "text": [
      "\ntensor(1.5455, device='cuda:0')\nEpoch 24/199\n----------\n"
     ]
    },
    {
     "output_type": "display_data",
     "data": {
      "text/plain": "HBox(children=(HTML(value=''), FloatProgress(value=0.0, max=1875.0), HTML(value='')))",
      "application/vnd.jupyter.widget-view+json": {
       "version_major": 2,
       "version_minor": 0,
       "model_id": "372d1fc2f7c5415d86293397cb4eea2d"
      }
     },
     "metadata": {}
    },
    {
     "output_type": "stream",
     "name": "stdout",
     "text": [
      "\ntensor(0.5760, device='cuda:0')\nEpoch 25/199\n----------\n"
     ]
    },
    {
     "output_type": "display_data",
     "data": {
      "text/plain": "HBox(children=(HTML(value=''), FloatProgress(value=0.0, max=1875.0), HTML(value='')))",
      "application/vnd.jupyter.widget-view+json": {
       "version_major": 2,
       "version_minor": 0,
       "model_id": "fd85c9419cb845bb9757661f604e1f85"
      }
     },
     "metadata": {}
    },
    {
     "output_type": "stream",
     "name": "stdout",
     "text": [
      "\ntensor(2.0519, device='cuda:0')\nEpoch 26/199\n----------\n"
     ]
    },
    {
     "output_type": "display_data",
     "data": {
      "text/plain": "HBox(children=(HTML(value=''), FloatProgress(value=0.0, max=1875.0), HTML(value='')))",
      "application/vnd.jupyter.widget-view+json": {
       "version_major": 2,
       "version_minor": 0,
       "model_id": "577325b4af654395badd33b848d65f0e"
      }
     },
     "metadata": {}
    },
    {
     "output_type": "stream",
     "name": "stdout",
     "text": [
      "\ntensor(0.2860, device='cuda:0')\nEpoch 27/199\n----------\n"
     ]
    },
    {
     "output_type": "display_data",
     "data": {
      "text/plain": "HBox(children=(HTML(value=''), FloatProgress(value=0.0, max=1875.0), HTML(value='')))",
      "application/vnd.jupyter.widget-view+json": {
       "version_major": 2,
       "version_minor": 0,
       "model_id": "b2e5384bc0e142beaefb39c57cb15866"
      }
     },
     "metadata": {}
    },
    {
     "output_type": "stream",
     "name": "stdout",
     "text": [
      "\ntensor(0.0344, device='cuda:0')\nEpoch 28/199\n----------\n"
     ]
    },
    {
     "output_type": "display_data",
     "data": {
      "text/plain": "HBox(children=(HTML(value=''), FloatProgress(value=0.0, max=1875.0), HTML(value='')))",
      "application/vnd.jupyter.widget-view+json": {
       "version_major": 2,
       "version_minor": 0,
       "model_id": "1ecb2ac0f98b40edab2975e56e17eb6a"
      }
     },
     "metadata": {}
    },
    {
     "output_type": "stream",
     "name": "stdout",
     "text": [
      "\ntensor(3.4421, device='cuda:0')\nEpoch 29/199\n----------\n"
     ]
    },
    {
     "output_type": "display_data",
     "data": {
      "text/plain": "HBox(children=(HTML(value=''), FloatProgress(value=0.0, max=1875.0), HTML(value='')))",
      "application/vnd.jupyter.widget-view+json": {
       "version_major": 2,
       "version_minor": 0,
       "model_id": "c0078ee1bb7844b9a3a6035e87b5efa0"
      }
     },
     "metadata": {}
    },
    {
     "output_type": "stream",
     "name": "stdout",
     "text": [
      "\ntensor(0.0906, device='cuda:0')\nEpoch 30/199\n----------\n"
     ]
    },
    {
     "output_type": "display_data",
     "data": {
      "text/plain": "HBox(children=(HTML(value=''), FloatProgress(value=0.0, max=1875.0), HTML(value='')))",
      "application/vnd.jupyter.widget-view+json": {
       "version_major": 2,
       "version_minor": 0,
       "model_id": "7e580949e8ae419b9ff329a61d96c363"
      }
     },
     "metadata": {}
    },
    {
     "output_type": "stream",
     "name": "stdout",
     "text": [
      "\ntensor(2.5845, device='cuda:0')\nEpoch 31/199\n----------\n"
     ]
    },
    {
     "output_type": "display_data",
     "data": {
      "text/plain": "HBox(children=(HTML(value=''), FloatProgress(value=0.0, max=1875.0), HTML(value='')))",
      "application/vnd.jupyter.widget-view+json": {
       "version_major": 2,
       "version_minor": 0,
       "model_id": "25c5959b387d40eaadc2126c70463305"
      }
     },
     "metadata": {}
    },
    {
     "output_type": "stream",
     "name": "stdout",
     "text": [
      "\ntensor(3.3883, device='cuda:0')\nEpoch 32/199\n----------\n"
     ]
    },
    {
     "output_type": "display_data",
     "data": {
      "text/plain": "HBox(children=(HTML(value=''), FloatProgress(value=0.0, max=1875.0), HTML(value='')))",
      "application/vnd.jupyter.widget-view+json": {
       "version_major": 2,
       "version_minor": 0,
       "model_id": "7583a43a01d9484fb1720301b9513b04"
      }
     },
     "metadata": {}
    },
    {
     "output_type": "stream",
     "name": "stdout",
     "text": [
      "\ntensor(0.8093, device='cuda:0')\nEpoch 33/199\n----------\n"
     ]
    },
    {
     "output_type": "display_data",
     "data": {
      "text/plain": "HBox(children=(HTML(value=''), FloatProgress(value=0.0, max=1875.0), HTML(value='')))",
      "application/vnd.jupyter.widget-view+json": {
       "version_major": 2,
       "version_minor": 0,
       "model_id": "a5d79ada92a54db7955c9d44b2a10f20"
      }
     },
     "metadata": {}
    },
    {
     "output_type": "stream",
     "name": "stdout",
     "text": [
      "\ntensor(3.2990, device='cuda:0')\nEpoch 34/199\n----------\n"
     ]
    },
    {
     "output_type": "display_data",
     "data": {
      "text/plain": "HBox(children=(HTML(value=''), FloatProgress(value=0.0, max=1875.0), HTML(value='')))",
      "application/vnd.jupyter.widget-view+json": {
       "version_major": 2,
       "version_minor": 0,
       "model_id": "aa559482ac9d4f93a17883dd1666dcb2"
      }
     },
     "metadata": {}
    },
    {
     "output_type": "stream",
     "name": "stdout",
     "text": [
      "\ntensor(1.7480, device='cuda:0')\nEpoch 35/199\n----------\n"
     ]
    },
    {
     "output_type": "display_data",
     "data": {
      "text/plain": "HBox(children=(HTML(value=''), FloatProgress(value=0.0, max=1875.0), HTML(value='')))",
      "application/vnd.jupyter.widget-view+json": {
       "version_major": 2,
       "version_minor": 0,
       "model_id": "a8b7c26b0fe14ec1b0cb0d64c1efc3ad"
      }
     },
     "metadata": {}
    },
    {
     "output_type": "stream",
     "name": "stdout",
     "text": [
      "\ntensor(0.5015, device='cuda:0')\nEpoch 36/199\n----------\n"
     ]
    },
    {
     "output_type": "display_data",
     "data": {
      "text/plain": "HBox(children=(HTML(value=''), FloatProgress(value=0.0, max=1875.0), HTML(value='')))",
      "application/vnd.jupyter.widget-view+json": {
       "version_major": 2,
       "version_minor": 0,
       "model_id": "4c69c18d0f6e4e59ae7bf0caa9cb90a8"
      }
     },
     "metadata": {}
    },
    {
     "output_type": "stream",
     "name": "stdout",
     "text": [
      "\ntensor(2.3362, device='cuda:0')\nEpoch 37/199\n----------\n"
     ]
    },
    {
     "output_type": "display_data",
     "data": {
      "text/plain": "HBox(children=(HTML(value=''), FloatProgress(value=0.0, max=1875.0), HTML(value='')))",
      "application/vnd.jupyter.widget-view+json": {
       "version_major": 2,
       "version_minor": 0,
       "model_id": "7a12bc3b0769453da99a74ff0b38fa8f"
      }
     },
     "metadata": {}
    },
    {
     "output_type": "stream",
     "name": "stdout",
     "text": [
      "\ntensor(0.0902, device='cuda:0')\nEpoch 38/199\n----------\n"
     ]
    },
    {
     "output_type": "display_data",
     "data": {
      "text/plain": "HBox(children=(HTML(value=''), FloatProgress(value=0.0, max=1875.0), HTML(value='')))",
      "application/vnd.jupyter.widget-view+json": {
       "version_major": 2,
       "version_minor": 0,
       "model_id": "378ec7e177d54b4190b41c1c0c78f87b"
      }
     },
     "metadata": {}
    },
    {
     "output_type": "stream",
     "name": "stdout",
     "text": [
      "\ntensor(0.3756, device='cuda:0')\nEpoch 39/199\n----------\n"
     ]
    },
    {
     "output_type": "display_data",
     "data": {
      "text/plain": "HBox(children=(HTML(value=''), FloatProgress(value=0.0, max=1875.0), HTML(value='')))",
      "application/vnd.jupyter.widget-view+json": {
       "version_major": 2,
       "version_minor": 0,
       "model_id": "ec3ee041dac24371b48df7bb36fdbdde"
      }
     },
     "metadata": {}
    },
    {
     "output_type": "stream",
     "name": "stdout",
     "text": [
      "\ntensor(1.3757, device='cuda:0')\nEpoch 40/199\n----------\n"
     ]
    },
    {
     "output_type": "display_data",
     "data": {
      "text/plain": "HBox(children=(HTML(value=''), FloatProgress(value=0.0, max=1875.0), HTML(value='')))",
      "application/vnd.jupyter.widget-view+json": {
       "version_major": 2,
       "version_minor": 0,
       "model_id": "1a30598b0eea4089a49c1c6eea1a2fdb"
      }
     },
     "metadata": {}
    },
    {
     "output_type": "stream",
     "name": "stdout",
     "text": [
      "\ntensor(5.0932, device='cuda:0')\nEpoch 41/199\n----------\n"
     ]
    },
    {
     "output_type": "display_data",
     "data": {
      "text/plain": "HBox(children=(HTML(value=''), FloatProgress(value=0.0, max=1875.0), HTML(value='')))",
      "application/vnd.jupyter.widget-view+json": {
       "version_major": 2,
       "version_minor": 0,
       "model_id": "f1776aefcd97445082a705a61da42d5b"
      }
     },
     "metadata": {}
    },
    {
     "output_type": "stream",
     "name": "stdout",
     "text": [
      "\ntensor(0.1180, device='cuda:0')\nEpoch 42/199\n----------\n"
     ]
    },
    {
     "output_type": "display_data",
     "data": {
      "text/plain": "HBox(children=(HTML(value=''), FloatProgress(value=0.0, max=1875.0), HTML(value='')))",
      "application/vnd.jupyter.widget-view+json": {
       "version_major": 2,
       "version_minor": 0,
       "model_id": "061cc8b048824f13ab703cd07f03de4a"
      }
     },
     "metadata": {}
    },
    {
     "output_type": "stream",
     "name": "stdout",
     "text": [
      "\ntensor(0.4658, device='cuda:0')\nEpoch 43/199\n----------\n"
     ]
    },
    {
     "output_type": "display_data",
     "data": {
      "text/plain": "HBox(children=(HTML(value=''), FloatProgress(value=0.0, max=1875.0), HTML(value='')))",
      "application/vnd.jupyter.widget-view+json": {
       "version_major": 2,
       "version_minor": 0,
       "model_id": "82a2ea10a19e4951ae1586938aaa4a86"
      }
     },
     "metadata": {}
    },
    {
     "output_type": "stream",
     "name": "stdout",
     "text": [
      "\ntensor(0.0043, device='cuda:0')\nEpoch 44/199\n----------\n"
     ]
    },
    {
     "output_type": "display_data",
     "data": {
      "text/plain": "HBox(children=(HTML(value=''), FloatProgress(value=0.0, max=1875.0), HTML(value='')))",
      "application/vnd.jupyter.widget-view+json": {
       "version_major": 2,
       "version_minor": 0,
       "model_id": "57f5608ccfff4884874fb848a6d926be"
      }
     },
     "metadata": {}
    },
    {
     "output_type": "stream",
     "name": "stdout",
     "text": [
      "\ntensor(0.9736, device='cuda:0')\nEpoch 45/199\n----------\n"
     ]
    },
    {
     "output_type": "display_data",
     "data": {
      "text/plain": "HBox(children=(HTML(value=''), FloatProgress(value=0.0, max=1875.0), HTML(value='')))",
      "application/vnd.jupyter.widget-view+json": {
       "version_major": 2,
       "version_minor": 0,
       "model_id": "2384a1886fc24314ab5e5a750ae1a0dc"
      }
     },
     "metadata": {}
    },
    {
     "output_type": "stream",
     "name": "stdout",
     "text": [
      "\ntensor(0.2244, device='cuda:0')\nEpoch 46/199\n----------\n"
     ]
    },
    {
     "output_type": "display_data",
     "data": {
      "text/plain": "HBox(children=(HTML(value=''), FloatProgress(value=0.0, max=1875.0), HTML(value='')))",
      "application/vnd.jupyter.widget-view+json": {
       "version_major": 2,
       "version_minor": 0,
       "model_id": "9a6666bd1ca24a38a3839a62203e32eb"
      }
     },
     "metadata": {}
    },
    {
     "output_type": "stream",
     "name": "stdout",
     "text": [
      "\ntensor(0.0057, device='cuda:0')\nEpoch 47/199\n----------\n"
     ]
    },
    {
     "output_type": "display_data",
     "data": {
      "text/plain": "HBox(children=(HTML(value=''), FloatProgress(value=0.0, max=1875.0), HTML(value='')))",
      "application/vnd.jupyter.widget-view+json": {
       "version_major": 2,
       "version_minor": 0,
       "model_id": "d67aa2c500374bbf8dfbd785888e8afb"
      }
     },
     "metadata": {}
    },
    {
     "output_type": "stream",
     "name": "stdout",
     "text": [
      "\ntensor(0.0513, device='cuda:0')\nEpoch 48/199\n----------\n"
     ]
    },
    {
     "output_type": "display_data",
     "data": {
      "text/plain": "HBox(children=(HTML(value=''), FloatProgress(value=0.0, max=1875.0), HTML(value='')))",
      "application/vnd.jupyter.widget-view+json": {
       "version_major": 2,
       "version_minor": 0,
       "model_id": "5c46d980675e4f2ab263b7c32e5311c7"
      }
     },
     "metadata": {}
    },
    {
     "output_type": "stream",
     "name": "stdout",
     "text": [
      "\ntensor(0.0036, device='cuda:0')\nEpoch 49/199\n----------\n"
     ]
    },
    {
     "output_type": "display_data",
     "data": {
      "text/plain": "HBox(children=(HTML(value=''), FloatProgress(value=0.0, max=1875.0), HTML(value='')))",
      "application/vnd.jupyter.widget-view+json": {
       "version_major": 2,
       "version_minor": 0,
       "model_id": "cdd7c5af6bae4c0d8ce2796fe842d9b0"
      }
     },
     "metadata": {}
    },
    {
     "output_type": "stream",
     "name": "stdout",
     "text": [
      "\ntensor(0.4977, device='cuda:0')\nEpoch 50/199\n----------\n"
     ]
    },
    {
     "output_type": "display_data",
     "data": {
      "text/plain": "HBox(children=(HTML(value=''), FloatProgress(value=0.0, max=1875.0), HTML(value='')))",
      "application/vnd.jupyter.widget-view+json": {
       "version_major": 2,
       "version_minor": 0,
       "model_id": "586ea45f18f94b4c97a71061b0a65d39"
      }
     },
     "metadata": {}
    },
    {
     "output_type": "stream",
     "name": "stdout",
     "text": [
      "\ntensor(0.4146, device='cuda:0')\nEpoch 51/199\n----------\n"
     ]
    },
    {
     "output_type": "display_data",
     "data": {
      "text/plain": "HBox(children=(HTML(value=''), FloatProgress(value=0.0, max=1875.0), HTML(value='')))",
      "application/vnd.jupyter.widget-view+json": {
       "version_major": 2,
       "version_minor": 0,
       "model_id": "8038f847feef45d5a580e31769583205"
      }
     },
     "metadata": {}
    },
    {
     "output_type": "stream",
     "name": "stdout",
     "text": [
      "\ntensor(0.6781, device='cuda:0')\nEpoch 52/199\n----------\n"
     ]
    },
    {
     "output_type": "display_data",
     "data": {
      "text/plain": "HBox(children=(HTML(value=''), FloatProgress(value=0.0, max=1875.0), HTML(value='')))",
      "application/vnd.jupyter.widget-view+json": {
       "version_major": 2,
       "version_minor": 0,
       "model_id": "8aaef2b0b7544512b265fa4f2dc8ad03"
      }
     },
     "metadata": {}
    },
    {
     "output_type": "stream",
     "name": "stdout",
     "text": [
      "\ntensor(0.1269, device='cuda:0')\nEpoch 53/199\n----------\n"
     ]
    },
    {
     "output_type": "display_data",
     "data": {
      "text/plain": "HBox(children=(HTML(value=''), FloatProgress(value=0.0, max=1875.0), HTML(value='')))",
      "application/vnd.jupyter.widget-view+json": {
       "version_major": 2,
       "version_minor": 0,
       "model_id": "b36afc3ac61148f7956a57a0cb180a1c"
      }
     },
     "metadata": {}
    },
    {
     "output_type": "stream",
     "name": "stdout",
     "text": [
      "\ntensor(0.4688, device='cuda:0')\nEpoch 54/199\n----------\n"
     ]
    },
    {
     "output_type": "display_data",
     "data": {
      "text/plain": "HBox(children=(HTML(value=''), FloatProgress(value=0.0, max=1875.0), HTML(value='')))",
      "application/vnd.jupyter.widget-view+json": {
       "version_major": 2,
       "version_minor": 0,
       "model_id": "708de689146746188ecb5be45fde9e37"
      }
     },
     "metadata": {}
    },
    {
     "output_type": "stream",
     "name": "stdout",
     "text": [
      "\ntensor(0.0731, device='cuda:0')\nEpoch 55/199\n----------\n"
     ]
    },
    {
     "output_type": "display_data",
     "data": {
      "text/plain": "HBox(children=(HTML(value=''), FloatProgress(value=0.0, max=1875.0), HTML(value='')))",
      "application/vnd.jupyter.widget-view+json": {
       "version_major": 2,
       "version_minor": 0,
       "model_id": "081b1e0cd2b44672acdf72661961c536"
      }
     },
     "metadata": {}
    },
    {
     "output_type": "stream",
     "name": "stdout",
     "text": [
      "\ntensor(0.0594, device='cuda:0')\nEpoch 56/199\n----------\n"
     ]
    },
    {
     "output_type": "display_data",
     "data": {
      "text/plain": "HBox(children=(HTML(value=''), FloatProgress(value=0.0, max=1875.0), HTML(value='')))",
      "application/vnd.jupyter.widget-view+json": {
       "version_major": 2,
       "version_minor": 0,
       "model_id": "da39eaa290a0460ab8ca3fc59496ff20"
      }
     },
     "metadata": {}
    },
    {
     "output_type": "stream",
     "name": "stdout",
     "text": [
      "\ntensor(1.7864, device='cuda:0')\nEpoch 57/199\n----------\n"
     ]
    },
    {
     "output_type": "display_data",
     "data": {
      "text/plain": "HBox(children=(HTML(value=''), FloatProgress(value=0.0, max=1875.0), HTML(value='')))",
      "application/vnd.jupyter.widget-view+json": {
       "version_major": 2,
       "version_minor": 0,
       "model_id": "d8e0c91cffd94262ba8be4e19984b79d"
      }
     },
     "metadata": {}
    },
    {
     "output_type": "stream",
     "name": "stdout",
     "text": [
      "\ntensor(3.5163, device='cuda:0')\nEpoch 58/199\n----------\n"
     ]
    },
    {
     "output_type": "display_data",
     "data": {
      "text/plain": "HBox(children=(HTML(value=''), FloatProgress(value=0.0, max=1875.0), HTML(value='')))",
      "application/vnd.jupyter.widget-view+json": {
       "version_major": 2,
       "version_minor": 0,
       "model_id": "9544a4bb175a4f5da3b4224a8f9e2254"
      }
     },
     "metadata": {}
    },
    {
     "output_type": "stream",
     "name": "stdout",
     "text": [
      "\ntensor(0.4808, device='cuda:0')\nEpoch 59/199\n----------\n"
     ]
    },
    {
     "output_type": "display_data",
     "data": {
      "text/plain": "HBox(children=(HTML(value=''), FloatProgress(value=0.0, max=1875.0), HTML(value='')))",
      "application/vnd.jupyter.widget-view+json": {
       "version_major": 2,
       "version_minor": 0,
       "model_id": "d72d0663a59a49669cdd2695a5f95abb"
      }
     },
     "metadata": {}
    },
    {
     "output_type": "stream",
     "name": "stdout",
     "text": [
      "\ntensor(0.0509, device='cuda:0')\nEpoch 60/199\n----------\n"
     ]
    },
    {
     "output_type": "display_data",
     "data": {
      "text/plain": "HBox(children=(HTML(value=''), FloatProgress(value=0.0, max=1875.0), HTML(value='')))",
      "application/vnd.jupyter.widget-view+json": {
       "version_major": 2,
       "version_minor": 0,
       "model_id": "40e319b676d449918158de1564f2c29d"
      }
     },
     "metadata": {}
    },
    {
     "output_type": "stream",
     "name": "stdout",
     "text": [
      "\ntensor(0.2405, device='cuda:0')\nEpoch 61/199\n----------\n"
     ]
    },
    {
     "output_type": "display_data",
     "data": {
      "text/plain": "HBox(children=(HTML(value=''), FloatProgress(value=0.0, max=1875.0), HTML(value='')))",
      "application/vnd.jupyter.widget-view+json": {
       "version_major": 2,
       "version_minor": 0,
       "model_id": "bfc1acd608cc475894d54617806cdb0c"
      }
     },
     "metadata": {}
    },
    {
     "output_type": "stream",
     "name": "stdout",
     "text": [
      "\ntensor(0.0248, device='cuda:0')\nEpoch 62/199\n----------\n"
     ]
    },
    {
     "output_type": "display_data",
     "data": {
      "text/plain": "HBox(children=(HTML(value=''), FloatProgress(value=0.0, max=1875.0), HTML(value='')))",
      "application/vnd.jupyter.widget-view+json": {
       "version_major": 2,
       "version_minor": 0,
       "model_id": "5a9b7f65f6fb49d7a0343280a7af58bb"
      }
     },
     "metadata": {}
    },
    {
     "output_type": "stream",
     "name": "stdout",
     "text": [
      "\ntensor(0.6634, device='cuda:0')\nEpoch 63/199\n----------\n"
     ]
    },
    {
     "output_type": "display_data",
     "data": {
      "text/plain": "HBox(children=(HTML(value=''), FloatProgress(value=0.0, max=1875.0), HTML(value='')))",
      "application/vnd.jupyter.widget-view+json": {
       "version_major": 2,
       "version_minor": 0,
       "model_id": "d0606718550f4b94a81eae05e588e33c"
      }
     },
     "metadata": {}
    },
    {
     "output_type": "stream",
     "name": "stdout",
     "text": [
      "\ntensor(0.0003, device='cuda:0')\nEpoch 64/199\n----------\n"
     ]
    },
    {
     "output_type": "display_data",
     "data": {
      "text/plain": "HBox(children=(HTML(value=''), FloatProgress(value=0.0, max=1875.0), HTML(value='')))",
      "application/vnd.jupyter.widget-view+json": {
       "version_major": 2,
       "version_minor": 0,
       "model_id": "e04487f1682a4a788b783f7e5ee1d71a"
      }
     },
     "metadata": {}
    },
    {
     "output_type": "stream",
     "name": "stdout",
     "text": [
      "\ntensor(5.3215, device='cuda:0')\nEpoch 65/199\n----------\n"
     ]
    },
    {
     "output_type": "display_data",
     "data": {
      "text/plain": "HBox(children=(HTML(value=''), FloatProgress(value=0.0, max=1875.0), HTML(value='')))",
      "application/vnd.jupyter.widget-view+json": {
       "version_major": 2,
       "version_minor": 0,
       "model_id": "f0357ab2db31495bbc37d74de92a459a"
      }
     },
     "metadata": {}
    },
    {
     "output_type": "stream",
     "name": "stdout",
     "text": [
      "\ntensor(0.2435, device='cuda:0')\nEpoch 66/199\n----------\n"
     ]
    },
    {
     "output_type": "display_data",
     "data": {
      "text/plain": "HBox(children=(HTML(value=''), FloatProgress(value=0.0, max=1875.0), HTML(value='')))",
      "application/vnd.jupyter.widget-view+json": {
       "version_major": 2,
       "version_minor": 0,
       "model_id": "bc01c80c22544271aed12bc1c89b3bd5"
      }
     },
     "metadata": {}
    },
    {
     "output_type": "stream",
     "name": "stdout",
     "text": [
      "\ntensor(2.0469, device='cuda:0')\nEpoch 67/199\n----------\n"
     ]
    },
    {
     "output_type": "display_data",
     "data": {
      "text/plain": "HBox(children=(HTML(value=''), FloatProgress(value=0.0, max=1875.0), HTML(value='')))",
      "application/vnd.jupyter.widget-view+json": {
       "version_major": 2,
       "version_minor": 0,
       "model_id": "e68a2521b6f9453c950c7f8180c12e79"
      }
     },
     "metadata": {}
    },
    {
     "output_type": "stream",
     "name": "stdout",
     "text": [
      "\ntensor(0.0035, device='cuda:0')\nEpoch 68/199\n----------\n"
     ]
    },
    {
     "output_type": "display_data",
     "data": {
      "text/plain": "HBox(children=(HTML(value=''), FloatProgress(value=0.0, max=1875.0), HTML(value='')))",
      "application/vnd.jupyter.widget-view+json": {
       "version_major": 2,
       "version_minor": 0,
       "model_id": "beba222bdb564821b2fdc9148c9a4a7c"
      }
     },
     "metadata": {}
    },
    {
     "output_type": "stream",
     "name": "stdout",
     "text": [
      "\ntensor(0.0104, device='cuda:0')\nEpoch 69/199\n----------\n"
     ]
    },
    {
     "output_type": "display_data",
     "data": {
      "text/plain": "HBox(children=(HTML(value=''), FloatProgress(value=0.0, max=1875.0), HTML(value='')))",
      "application/vnd.jupyter.widget-view+json": {
       "version_major": 2,
       "version_minor": 0,
       "model_id": "183bec04b1e8409c8b9b843df1c645c8"
      }
     },
     "metadata": {}
    },
    {
     "output_type": "stream",
     "name": "stdout",
     "text": [
      "\ntensor(0.0009, device='cuda:0')\nEpoch 70/199\n----------\n"
     ]
    },
    {
     "output_type": "display_data",
     "data": {
      "text/plain": "HBox(children=(HTML(value=''), FloatProgress(value=0.0, max=1875.0), HTML(value='')))",
      "application/vnd.jupyter.widget-view+json": {
       "version_major": 2,
       "version_minor": 0,
       "model_id": "898e4cf2c14048dc9b861d674d705c05"
      }
     },
     "metadata": {}
    },
    {
     "output_type": "stream",
     "name": "stdout",
     "text": [
      "\ntensor(0.0162, device='cuda:0')\nEpoch 71/199\n----------\n"
     ]
    },
    {
     "output_type": "display_data",
     "data": {
      "text/plain": "HBox(children=(HTML(value=''), FloatProgress(value=0.0, max=1875.0), HTML(value='')))",
      "application/vnd.jupyter.widget-view+json": {
       "version_major": 2,
       "version_minor": 0,
       "model_id": "4a88081d226e40c4b031b0a1bf424e1e"
      }
     },
     "metadata": {}
    },
    {
     "output_type": "stream",
     "name": "stdout",
     "text": [
      "\ntensor(0.0002, device='cuda:0')\nEpoch 72/199\n----------\n"
     ]
    },
    {
     "output_type": "display_data",
     "data": {
      "text/plain": "HBox(children=(HTML(value=''), FloatProgress(value=0.0, max=1875.0), HTML(value='')))",
      "application/vnd.jupyter.widget-view+json": {
       "version_major": 2,
       "version_minor": 0,
       "model_id": "4faeb4a78fae46ed990e4196ad9e4b55"
      }
     },
     "metadata": {}
    },
    {
     "output_type": "stream",
     "name": "stdout",
     "text": [
      "\ntensor(0.3261, device='cuda:0')\nEpoch 73/199\n----------\n"
     ]
    },
    {
     "output_type": "display_data",
     "data": {
      "text/plain": "HBox(children=(HTML(value=''), FloatProgress(value=0.0, max=1875.0), HTML(value='')))",
      "application/vnd.jupyter.widget-view+json": {
       "version_major": 2,
       "version_minor": 0,
       "model_id": "217a3d31fb6344159f04aef677cc35d2"
      }
     },
     "metadata": {}
    },
    {
     "output_type": "stream",
     "name": "stdout",
     "text": [
      "\ntensor(0.0001, device='cuda:0')\nEpoch 74/199\n----------\n"
     ]
    },
    {
     "output_type": "display_data",
     "data": {
      "text/plain": "HBox(children=(HTML(value=''), FloatProgress(value=0.0, max=1875.0), HTML(value='')))",
      "application/vnd.jupyter.widget-view+json": {
       "version_major": 2,
       "version_minor": 0,
       "model_id": "04b2a1adfb534b1283018f957054d62e"
      }
     },
     "metadata": {}
    },
    {
     "output_type": "stream",
     "name": "stdout",
     "text": [
      "\ntensor(0.0002, device='cuda:0')\nEpoch 75/199\n----------\n"
     ]
    },
    {
     "output_type": "display_data",
     "data": {
      "text/plain": "HBox(children=(HTML(value=''), FloatProgress(value=0.0, max=1875.0), HTML(value='')))",
      "application/vnd.jupyter.widget-view+json": {
       "version_major": 2,
       "version_minor": 0,
       "model_id": "f06e567d29e34c258a01a6649d1ddfd1"
      }
     },
     "metadata": {}
    },
    {
     "output_type": "stream",
     "name": "stdout",
     "text": [
      "\ntensor(0.8688, device='cuda:0')\nEpoch 76/199\n----------\n"
     ]
    },
    {
     "output_type": "display_data",
     "data": {
      "text/plain": "HBox(children=(HTML(value=''), FloatProgress(value=0.0, max=1875.0), HTML(value='')))",
      "application/vnd.jupyter.widget-view+json": {
       "version_major": 2,
       "version_minor": 0,
       "model_id": "430ccf4d8a5b4af284d023f9ad2addcb"
      }
     },
     "metadata": {}
    },
    {
     "output_type": "stream",
     "name": "stdout",
     "text": [
      "\ntensor(0.4366, device='cuda:0')\nEpoch 77/199\n----------\n"
     ]
    },
    {
     "output_type": "display_data",
     "data": {
      "text/plain": "HBox(children=(HTML(value=''), FloatProgress(value=0.0, max=1875.0), HTML(value='')))",
      "application/vnd.jupyter.widget-view+json": {
       "version_major": 2,
       "version_minor": 0,
       "model_id": "975c1c032372463ebbb16090330ec6c0"
      }
     },
     "metadata": {}
    },
    {
     "output_type": "stream",
     "name": "stdout",
     "text": [
      "\ntensor(1.5578e-05, device='cuda:0')\nEpoch 78/199\n----------\n"
     ]
    },
    {
     "output_type": "display_data",
     "data": {
      "text/plain": "HBox(children=(HTML(value=''), FloatProgress(value=0.0, max=1875.0), HTML(value='')))",
      "application/vnd.jupyter.widget-view+json": {
       "version_major": 2,
       "version_minor": 0,
       "model_id": "ede584cb9e2742f293cf3f18e41cb4ca"
      }
     },
     "metadata": {}
    },
    {
     "output_type": "stream",
     "name": "stdout",
     "text": [
      "\ntensor(0.4041, device='cuda:0')\nEpoch 79/199\n----------\n"
     ]
    },
    {
     "output_type": "display_data",
     "data": {
      "text/plain": "HBox(children=(HTML(value=''), FloatProgress(value=0.0, max=1875.0), HTML(value='')))",
      "application/vnd.jupyter.widget-view+json": {
       "version_major": 2,
       "version_minor": 0,
       "model_id": "d2485f0dfa9d41b3b7dd4bbc21332f04"
      }
     },
     "metadata": {}
    },
    {
     "output_type": "stream",
     "name": "stdout",
     "text": [
      "\ntensor(0.0005, device='cuda:0')\nEpoch 80/199\n----------\n"
     ]
    },
    {
     "output_type": "display_data",
     "data": {
      "text/plain": "HBox(children=(HTML(value=''), FloatProgress(value=0.0, max=1875.0), HTML(value='')))",
      "application/vnd.jupyter.widget-view+json": {
       "version_major": 2,
       "version_minor": 0,
       "model_id": "ebbc30d1f6f54896941e1fe32afeb0c9"
      }
     },
     "metadata": {}
    },
    {
     "output_type": "stream",
     "name": "stdout",
     "text": [
      "\ntensor(0.1773, device='cuda:0')\nEpoch 81/199\n----------\n"
     ]
    },
    {
     "output_type": "display_data",
     "data": {
      "text/plain": "HBox(children=(HTML(value=''), FloatProgress(value=0.0, max=1875.0), HTML(value='')))",
      "application/vnd.jupyter.widget-view+json": {
       "version_major": 2,
       "version_minor": 0,
       "model_id": "5519439fd18c4abe9ad74080852727e1"
      }
     },
     "metadata": {}
    },
    {
     "output_type": "stream",
     "name": "stdout",
     "text": [
      "\ntensor(0.0013, device='cuda:0')\nEpoch 82/199\n----------\n"
     ]
    },
    {
     "output_type": "display_data",
     "data": {
      "text/plain": "HBox(children=(HTML(value=''), FloatProgress(value=0.0, max=1875.0), HTML(value='')))",
      "application/vnd.jupyter.widget-view+json": {
       "version_major": 2,
       "version_minor": 0,
       "model_id": "8908c0bb7ece4ac281ce8739431db392"
      }
     },
     "metadata": {}
    },
    {
     "output_type": "stream",
     "name": "stdout",
     "text": [
      "\ntensor(0.0016, device='cuda:0')\nEpoch 83/199\n----------\n"
     ]
    },
    {
     "output_type": "display_data",
     "data": {
      "text/plain": "HBox(children=(HTML(value=''), FloatProgress(value=0.0, max=1875.0), HTML(value='')))",
      "application/vnd.jupyter.widget-view+json": {
       "version_major": 2,
       "version_minor": 0,
       "model_id": "4a6d829664444bc2acd029bbadc036f9"
      }
     },
     "metadata": {}
    },
    {
     "output_type": "stream",
     "name": "stdout",
     "text": [
      "\ntensor(0.0068, device='cuda:0')\nEpoch 84/199\n----------\n"
     ]
    },
    {
     "output_type": "display_data",
     "data": {
      "text/plain": "HBox(children=(HTML(value=''), FloatProgress(value=0.0, max=1875.0), HTML(value='')))",
      "application/vnd.jupyter.widget-view+json": {
       "version_major": 2,
       "version_minor": 0,
       "model_id": "20a792847ab14659811f98a4e524052c"
      }
     },
     "metadata": {}
    },
    {
     "output_type": "stream",
     "name": "stdout",
     "text": [
      "\ntensor(0.0481, device='cuda:0')\nEpoch 85/199\n----------\n"
     ]
    },
    {
     "output_type": "display_data",
     "data": {
      "text/plain": "HBox(children=(HTML(value=''), FloatProgress(value=0.0, max=1875.0), HTML(value='')))",
      "application/vnd.jupyter.widget-view+json": {
       "version_major": 2,
       "version_minor": 0,
       "model_id": "72c8fe96628a458781c9aaff2acc77ab"
      }
     },
     "metadata": {}
    },
    {
     "output_type": "stream",
     "name": "stdout",
     "text": [
      "\ntensor(0.0118, device='cuda:0')\nEpoch 86/199\n----------\n"
     ]
    },
    {
     "output_type": "display_data",
     "data": {
      "text/plain": "HBox(children=(HTML(value=''), FloatProgress(value=0.0, max=1875.0), HTML(value='')))",
      "application/vnd.jupyter.widget-view+json": {
       "version_major": 2,
       "version_minor": 0,
       "model_id": "72256f8b36114408ac8a0dc93506e8ee"
      }
     },
     "metadata": {}
    },
    {
     "output_type": "stream",
     "name": "stdout",
     "text": [
      "\ntensor(2.6581, device='cuda:0')\nEpoch 87/199\n----------\n"
     ]
    },
    {
     "output_type": "display_data",
     "data": {
      "text/plain": "HBox(children=(HTML(value=''), FloatProgress(value=0.0, max=1875.0), HTML(value='')))",
      "application/vnd.jupyter.widget-view+json": {
       "version_major": 2,
       "version_minor": 0,
       "model_id": "ca3e3002b9874ea48ea50740e6b77293"
      }
     },
     "metadata": {}
    },
    {
     "output_type": "stream",
     "name": "stdout",
     "text": [
      "\ntensor(0.0032, device='cuda:0')\nEpoch 88/199\n----------\n"
     ]
    },
    {
     "output_type": "display_data",
     "data": {
      "text/plain": "HBox(children=(HTML(value=''), FloatProgress(value=0.0, max=1875.0), HTML(value='')))",
      "application/vnd.jupyter.widget-view+json": {
       "version_major": 2,
       "version_minor": 0,
       "model_id": "fc23096856404fc0b86ba9ade0d00549"
      }
     },
     "metadata": {}
    },
    {
     "output_type": "stream",
     "name": "stdout",
     "text": [
      "\ntensor(0.3632, device='cuda:0')\nEpoch 89/199\n----------\n"
     ]
    },
    {
     "output_type": "display_data",
     "data": {
      "text/plain": "HBox(children=(HTML(value=''), FloatProgress(value=0.0, max=1875.0), HTML(value='')))",
      "application/vnd.jupyter.widget-view+json": {
       "version_major": 2,
       "version_minor": 0,
       "model_id": "abed7c781ef344f5ad96f259e1eae82b"
      }
     },
     "metadata": {}
    },
    {
     "output_type": "stream",
     "name": "stdout",
     "text": [
      "\ntensor(2.6410, device='cuda:0')\nEpoch 90/199\n----------\n"
     ]
    },
    {
     "output_type": "display_data",
     "data": {
      "text/plain": "HBox(children=(HTML(value=''), FloatProgress(value=0.0, max=1875.0), HTML(value='')))",
      "application/vnd.jupyter.widget-view+json": {
       "version_major": 2,
       "version_minor": 0,
       "model_id": "74c48421b1e846b18fdbef9fdb07fc74"
      }
     },
     "metadata": {}
    },
    {
     "output_type": "stream",
     "name": "stdout",
     "text": [
      "\ntensor(0.0012, device='cuda:0')\nEpoch 91/199\n----------\n"
     ]
    },
    {
     "output_type": "display_data",
     "data": {
      "text/plain": "HBox(children=(HTML(value=''), FloatProgress(value=0.0, max=1875.0), HTML(value='')))",
      "application/vnd.jupyter.widget-view+json": {
       "version_major": 2,
       "version_minor": 0,
       "model_id": "ca07ea32d1ad4ba688cd9dd809bdc75f"
      }
     },
     "metadata": {}
    },
    {
     "output_type": "stream",
     "name": "stdout",
     "text": [
      "\ntensor(0.0091, device='cuda:0')\nEpoch 92/199\n----------\n"
     ]
    },
    {
     "output_type": "display_data",
     "data": {
      "text/plain": "HBox(children=(HTML(value=''), FloatProgress(value=0.0, max=1875.0), HTML(value='')))",
      "application/vnd.jupyter.widget-view+json": {
       "version_major": 2,
       "version_minor": 0,
       "model_id": "9842930d13754734a0a35460c2abe1e1"
      }
     },
     "metadata": {}
    },
    {
     "output_type": "stream",
     "name": "stdout",
     "text": [
      "\ntensor(0.0025, device='cuda:0')\nEpoch 93/199\n----------\n"
     ]
    },
    {
     "output_type": "display_data",
     "data": {
      "text/plain": "HBox(children=(HTML(value=''), FloatProgress(value=0.0, max=1875.0), HTML(value='')))",
      "application/vnd.jupyter.widget-view+json": {
       "version_major": 2,
       "version_minor": 0,
       "model_id": "63ea90706bb842f49b6f315b44aaf96e"
      }
     },
     "metadata": {}
    },
    {
     "output_type": "stream",
     "name": "stdout",
     "text": [
      "\ntensor(0.0817, device='cuda:0')\nEpoch 94/199\n----------\n"
     ]
    },
    {
     "output_type": "display_data",
     "data": {
      "text/plain": "HBox(children=(HTML(value=''), FloatProgress(value=0.0, max=1875.0), HTML(value='')))",
      "application/vnd.jupyter.widget-view+json": {
       "version_major": 2,
       "version_minor": 0,
       "model_id": "a21d85bc47ec44dc95cc5e7560c362ae"
      }
     },
     "metadata": {}
    },
    {
     "output_type": "stream",
     "name": "stdout",
     "text": [
      "\ntensor(5.6768, device='cuda:0')\nEpoch 95/199\n----------\n"
     ]
    },
    {
     "output_type": "display_data",
     "data": {
      "text/plain": "HBox(children=(HTML(value=''), FloatProgress(value=0.0, max=1875.0), HTML(value='')))",
      "application/vnd.jupyter.widget-view+json": {
       "version_major": 2,
       "version_minor": 0,
       "model_id": "bf4e60fe95ef429b8f6d04f60b3fee79"
      }
     },
     "metadata": {}
    },
    {
     "output_type": "stream",
     "name": "stdout",
     "text": [
      "\ntensor(2.3910, device='cuda:0')\nEpoch 96/199\n----------\n"
     ]
    },
    {
     "output_type": "display_data",
     "data": {
      "text/plain": "HBox(children=(HTML(value=''), FloatProgress(value=0.0, max=1875.0), HTML(value='')))",
      "application/vnd.jupyter.widget-view+json": {
       "version_major": 2,
       "version_minor": 0,
       "model_id": "19ad1cf705d24eed91e47e26fe9ee64e"
      }
     },
     "metadata": {}
    },
    {
     "output_type": "stream",
     "name": "stdout",
     "text": [
      "\ntensor(0.4941, device='cuda:0')\nEpoch 97/199\n----------\n"
     ]
    },
    {
     "output_type": "display_data",
     "data": {
      "text/plain": "HBox(children=(HTML(value=''), FloatProgress(value=0.0, max=1875.0), HTML(value='')))",
      "application/vnd.jupyter.widget-view+json": {
       "version_major": 2,
       "version_minor": 0,
       "model_id": "3d6877ddc5b341a0b5bb219795fc6684"
      }
     },
     "metadata": {}
    },
    {
     "output_type": "stream",
     "name": "stdout",
     "text": [
      "\ntensor(0.0165, device='cuda:0')\nEpoch 98/199\n----------\n"
     ]
    },
    {
     "output_type": "display_data",
     "data": {
      "text/plain": "HBox(children=(HTML(value=''), FloatProgress(value=0.0, max=1875.0), HTML(value='')))",
      "application/vnd.jupyter.widget-view+json": {
       "version_major": 2,
       "version_minor": 0,
       "model_id": "073d1a92b42d4444bf7ec0283a444840"
      }
     },
     "metadata": {}
    },
    {
     "output_type": "stream",
     "name": "stdout",
     "text": [
      "\ntensor(1.5022, device='cuda:0')\nEpoch 99/199\n----------\n"
     ]
    },
    {
     "output_type": "display_data",
     "data": {
      "text/plain": "HBox(children=(HTML(value=''), FloatProgress(value=0.0, max=1875.0), HTML(value='')))",
      "application/vnd.jupyter.widget-view+json": {
       "version_major": 2,
       "version_minor": 0,
       "model_id": "3124883653e0499d93cf42da60f1a810"
      }
     },
     "metadata": {}
    },
    {
     "output_type": "stream",
     "name": "stdout",
     "text": [
      "\ntensor(0.0014, device='cuda:0')\nEpoch 100/199\n----------\n"
     ]
    },
    {
     "output_type": "display_data",
     "data": {
      "text/plain": "HBox(children=(HTML(value=''), FloatProgress(value=0.0, max=1875.0), HTML(value='')))",
      "application/vnd.jupyter.widget-view+json": {
       "version_major": 2,
       "version_minor": 0,
       "model_id": "8bcfa0aee06643779630832b30356889"
      }
     },
     "metadata": {}
    },
    {
     "output_type": "stream",
     "name": "stdout",
     "text": [
      "\ntensor(0.1449, device='cuda:0')\nEpoch 101/199\n----------\n"
     ]
    },
    {
     "output_type": "display_data",
     "data": {
      "text/plain": "HBox(children=(HTML(value=''), FloatProgress(value=0.0, max=1875.0), HTML(value='')))",
      "application/vnd.jupyter.widget-view+json": {
       "version_major": 2,
       "version_minor": 0,
       "model_id": "23a23753f0464ccdb820b72f757b016d"
      }
     },
     "metadata": {}
    },
    {
     "output_type": "stream",
     "name": "stdout",
     "text": [
      "\ntensor(0.0532, device='cuda:0')\nEpoch 102/199\n----------\n"
     ]
    },
    {
     "output_type": "display_data",
     "data": {
      "text/plain": "HBox(children=(HTML(value=''), FloatProgress(value=0.0, max=1875.0), HTML(value='')))",
      "application/vnd.jupyter.widget-view+json": {
       "version_major": 2,
       "version_minor": 0,
       "model_id": "58a99ca78a8b49699cce2e61e76bdf2d"
      }
     },
     "metadata": {}
    },
    {
     "output_type": "stream",
     "name": "stdout",
     "text": [
      "\ntensor(5.4652, device='cuda:0')\nEpoch 103/199\n----------\n"
     ]
    },
    {
     "output_type": "display_data",
     "data": {
      "text/plain": "HBox(children=(HTML(value=''), FloatProgress(value=0.0, max=1875.0), HTML(value='')))",
      "application/vnd.jupyter.widget-view+json": {
       "version_major": 2,
       "version_minor": 0,
       "model_id": "19a0d38d5d54440f8ca506180978adc9"
      }
     },
     "metadata": {}
    },
    {
     "output_type": "stream",
     "name": "stdout",
     "text": [
      "\ntensor(5.6908, device='cuda:0')\nEpoch 104/199\n----------\n"
     ]
    },
    {
     "output_type": "display_data",
     "data": {
      "text/plain": "HBox(children=(HTML(value=''), FloatProgress(value=0.0, max=1875.0), HTML(value='')))",
      "application/vnd.jupyter.widget-view+json": {
       "version_major": 2,
       "version_minor": 0,
       "model_id": "e2c179b5623c4bac8737c70737a4baa6"
      }
     },
     "metadata": {}
    },
    {
     "output_type": "stream",
     "name": "stdout",
     "text": [
      "\ntensor(0.1417, device='cuda:0')\nEpoch 105/199\n----------\n"
     ]
    },
    {
     "output_type": "display_data",
     "data": {
      "text/plain": "HBox(children=(HTML(value=''), FloatProgress(value=0.0, max=1875.0), HTML(value='')))",
      "application/vnd.jupyter.widget-view+json": {
       "version_major": 2,
       "version_minor": 0,
       "model_id": "2be3c28de0b84825bb9969cf060b7631"
      }
     },
     "metadata": {}
    },
    {
     "output_type": "stream",
     "name": "stdout",
     "text": [
      "\ntensor(0.0097, device='cuda:0')\nEpoch 106/199\n----------\n"
     ]
    },
    {
     "output_type": "display_data",
     "data": {
      "text/plain": "HBox(children=(HTML(value=''), FloatProgress(value=0.0, max=1875.0), HTML(value='')))",
      "application/vnd.jupyter.widget-view+json": {
       "version_major": 2,
       "version_minor": 0,
       "model_id": "e7dd3b270aa140f5a8c265b475ccd098"
      }
     },
     "metadata": {}
    },
    {
     "output_type": "stream",
     "name": "stdout",
     "text": [
      "\ntensor(0.0041, device='cuda:0')\nEpoch 107/199\n----------\n"
     ]
    },
    {
     "output_type": "display_data",
     "data": {
      "text/plain": "HBox(children=(HTML(value=''), FloatProgress(value=0.0, max=1875.0), HTML(value='')))",
      "application/vnd.jupyter.widget-view+json": {
       "version_major": 2,
       "version_minor": 0,
       "model_id": "10cda95a7107415cbecaabacf01ee00e"
      }
     },
     "metadata": {}
    },
    {
     "output_type": "stream",
     "name": "stdout",
     "text": [
      "\ntensor(0.0249, device='cuda:0')\nEpoch 108/199\n----------\n"
     ]
    },
    {
     "output_type": "display_data",
     "data": {
      "text/plain": "HBox(children=(HTML(value=''), FloatProgress(value=0.0, max=1875.0), HTML(value='')))",
      "application/vnd.jupyter.widget-view+json": {
       "version_major": 2,
       "version_minor": 0,
       "model_id": "1abc2b2224554783b2f28a0bbe64c6ba"
      }
     },
     "metadata": {}
    },
    {
     "output_type": "stream",
     "name": "stdout",
     "text": [
      "\ntensor(4.3099e-06, device='cuda:0')\nEpoch 109/199\n----------\n"
     ]
    },
    {
     "output_type": "display_data",
     "data": {
      "text/plain": "HBox(children=(HTML(value=''), FloatProgress(value=0.0, max=1875.0), HTML(value='')))",
      "application/vnd.jupyter.widget-view+json": {
       "version_major": 2,
       "version_minor": 0,
       "model_id": "a6e347e9f4234b9a8f91ab3a9c519833"
      }
     },
     "metadata": {}
    },
    {
     "output_type": "stream",
     "name": "stdout",
     "text": [
      "\ntensor(0.0299, device='cuda:0')\nEpoch 110/199\n----------\n"
     ]
    },
    {
     "output_type": "display_data",
     "data": {
      "text/plain": "HBox(children=(HTML(value=''), FloatProgress(value=0.0, max=1875.0), HTML(value='')))",
      "application/vnd.jupyter.widget-view+json": {
       "version_major": 2,
       "version_minor": 0,
       "model_id": "65bc005497364b9ca6daadc14e171279"
      }
     },
     "metadata": {}
    },
    {
     "output_type": "stream",
     "name": "stdout",
     "text": [
      "\ntensor(0.0002, device='cuda:0')\nEpoch 111/199\n----------\n"
     ]
    },
    {
     "output_type": "display_data",
     "data": {
      "text/plain": "HBox(children=(HTML(value=''), FloatProgress(value=0.0, max=1875.0), HTML(value='')))",
      "application/vnd.jupyter.widget-view+json": {
       "version_major": 2,
       "version_minor": 0,
       "model_id": "4525dd3372244d378c4a70ba3f9d2619"
      }
     },
     "metadata": {}
    },
    {
     "output_type": "stream",
     "name": "stdout",
     "text": [
      "\ntensor(0.0009, device='cuda:0')\nEpoch 112/199\n----------\n"
     ]
    },
    {
     "output_type": "display_data",
     "data": {
      "text/plain": "HBox(children=(HTML(value=''), FloatProgress(value=0.0, max=1875.0), HTML(value='')))",
      "application/vnd.jupyter.widget-view+json": {
       "version_major": 2,
       "version_minor": 0,
       "model_id": "24067fbddf9649719bf8b3601c2f32c6"
      }
     },
     "metadata": {}
    },
    {
     "output_type": "stream",
     "name": "stdout",
     "text": [
      "\ntensor(0.0228, device='cuda:0')\nEpoch 113/199\n----------\n"
     ]
    },
    {
     "output_type": "display_data",
     "data": {
      "text/plain": "HBox(children=(HTML(value=''), FloatProgress(value=0.0, max=1875.0), HTML(value='')))",
      "application/vnd.jupyter.widget-view+json": {
       "version_major": 2,
       "version_minor": 0,
       "model_id": "58836cd743c240ec93ab367e88762e7c"
      }
     },
     "metadata": {}
    },
    {
     "output_type": "stream",
     "name": "stdout",
     "text": [
      "\ntensor(6.7602e-06, device='cuda:0')\nEpoch 114/199\n----------\n"
     ]
    },
    {
     "output_type": "display_data",
     "data": {
      "text/plain": "HBox(children=(HTML(value=''), FloatProgress(value=0.0, max=1875.0), HTML(value='')))",
      "application/vnd.jupyter.widget-view+json": {
       "version_major": 2,
       "version_minor": 0,
       "model_id": "7ae0eea8e16a4ba1bd8b2ca592d6c81f"
      }
     },
     "metadata": {}
    },
    {
     "output_type": "stream",
     "name": "stdout",
     "text": [
      "\ntensor(0.4770, device='cuda:0')\nEpoch 115/199\n----------\n"
     ]
    },
    {
     "output_type": "display_data",
     "data": {
      "text/plain": "HBox(children=(HTML(value=''), FloatProgress(value=0.0, max=1875.0), HTML(value='')))",
      "application/vnd.jupyter.widget-view+json": {
       "version_major": 2,
       "version_minor": 0,
       "model_id": "6e94c07f07a349c8b911710a380f99d0"
      }
     },
     "metadata": {}
    },
    {
     "output_type": "stream",
     "name": "stdout",
     "text": [
      "\ntensor(2.2497, device='cuda:0')\nEpoch 116/199\n----------\n"
     ]
    },
    {
     "output_type": "display_data",
     "data": {
      "text/plain": "HBox(children=(HTML(value=''), FloatProgress(value=0.0, max=1875.0), HTML(value='')))",
      "application/vnd.jupyter.widget-view+json": {
       "version_major": 2,
       "version_minor": 0,
       "model_id": "fcea8d98ebf74add8ad84b93727dbcdb"
      }
     },
     "metadata": {}
    },
    {
     "output_type": "stream",
     "name": "stdout",
     "text": [
      "\ntensor(0.1257, device='cuda:0')\nEpoch 117/199\n----------\n"
     ]
    },
    {
     "output_type": "display_data",
     "data": {
      "text/plain": "HBox(children=(HTML(value=''), FloatProgress(value=0.0, max=1875.0), HTML(value='')))",
      "application/vnd.jupyter.widget-view+json": {
       "version_major": 2,
       "version_minor": 0,
       "model_id": "c150d33c8222489eb5305f4eb6997dde"
      }
     },
     "metadata": {}
    },
    {
     "output_type": "stream",
     "name": "stdout",
     "text": [
      "\ntensor(3.5089e-05, device='cuda:0')\nEpoch 118/199\n----------\n"
     ]
    },
    {
     "output_type": "display_data",
     "data": {
      "text/plain": "HBox(children=(HTML(value=''), FloatProgress(value=0.0, max=1875.0), HTML(value='')))",
      "application/vnd.jupyter.widget-view+json": {
       "version_major": 2,
       "version_minor": 0,
       "model_id": "d4f5762415d843008b83b3130c09268d"
      }
     },
     "metadata": {}
    },
    {
     "output_type": "stream",
     "name": "stdout",
     "text": [
      "\ntensor(3.8119, device='cuda:0')\nEpoch 119/199\n----------\n"
     ]
    },
    {
     "output_type": "display_data",
     "data": {
      "text/plain": "HBox(children=(HTML(value=''), FloatProgress(value=0.0, max=1875.0), HTML(value='')))",
      "application/vnd.jupyter.widget-view+json": {
       "version_major": 2,
       "version_minor": 0,
       "model_id": "859ee5784c234103980d5f213d77c19a"
      }
     },
     "metadata": {}
    },
    {
     "output_type": "stream",
     "name": "stdout",
     "text": [
      "\ntensor(0.0025, device='cuda:0')\nEpoch 120/199\n----------\n"
     ]
    },
    {
     "output_type": "display_data",
     "data": {
      "text/plain": "HBox(children=(HTML(value=''), FloatProgress(value=0.0, max=1875.0), HTML(value='')))",
      "application/vnd.jupyter.widget-view+json": {
       "version_major": 2,
       "version_minor": 0,
       "model_id": "6edf9f01ab7e4179935ee86363de18a6"
      }
     },
     "metadata": {}
    },
    {
     "output_type": "stream",
     "name": "stdout",
     "text": [
      "\ntensor(6.5387e-05, device='cuda:0')\nEpoch 121/199\n----------\n"
     ]
    },
    {
     "output_type": "display_data",
     "data": {
      "text/plain": "HBox(children=(HTML(value=''), FloatProgress(value=0.0, max=1875.0), HTML(value='')))",
      "application/vnd.jupyter.widget-view+json": {
       "version_major": 2,
       "version_minor": 0,
       "model_id": "19f6274046ed45ce9afa6e1bd075b17a"
      }
     },
     "metadata": {}
    },
    {
     "output_type": "stream",
     "name": "stdout",
     "text": [
      "\ntensor(0.1478, device='cuda:0')\nEpoch 122/199\n----------\n"
     ]
    },
    {
     "output_type": "display_data",
     "data": {
      "text/plain": "HBox(children=(HTML(value=''), FloatProgress(value=0.0, max=1875.0), HTML(value='')))",
      "application/vnd.jupyter.widget-view+json": {
       "version_major": 2,
       "version_minor": 0,
       "model_id": "40cd8a59897f40e59778cdaf88f204bc"
      }
     },
     "metadata": {}
    },
    {
     "output_type": "stream",
     "name": "stdout",
     "text": [
      "\ntensor(7.1300e-06, device='cuda:0')\nEpoch 123/199\n----------\n"
     ]
    },
    {
     "output_type": "display_data",
     "data": {
      "text/plain": "HBox(children=(HTML(value=''), FloatProgress(value=0.0, max=1875.0), HTML(value='')))",
      "application/vnd.jupyter.widget-view+json": {
       "version_major": 2,
       "version_minor": 0,
       "model_id": "606dc3a324e54040905de6a92493a614"
      }
     },
     "metadata": {}
    },
    {
     "output_type": "stream",
     "name": "stdout",
     "text": [
      "\ntensor(0.0100, device='cuda:0')\nEpoch 124/199\n----------\n"
     ]
    },
    {
     "output_type": "display_data",
     "data": {
      "text/plain": "HBox(children=(HTML(value=''), FloatProgress(value=0.0, max=1875.0), HTML(value='')))",
      "application/vnd.jupyter.widget-view+json": {
       "version_major": 2,
       "version_minor": 0,
       "model_id": "420e072b2f2d449c9e1a448fea0839f3"
      }
     },
     "metadata": {}
    },
    {
     "output_type": "stream",
     "name": "stdout",
     "text": [
      "\ntensor(0.0151, device='cuda:0')\nEpoch 125/199\n----------\n"
     ]
    },
    {
     "output_type": "display_data",
     "data": {
      "text/plain": "HBox(children=(HTML(value=''), FloatProgress(value=0.0, max=1875.0), HTML(value='')))",
      "application/vnd.jupyter.widget-view+json": {
       "version_major": 2,
       "version_minor": 0,
       "model_id": "339e49bd1c414a7397fb88e9cb32a141"
      }
     },
     "metadata": {}
    },
    {
     "output_type": "stream",
     "name": "stdout",
     "text": [
      "\ntensor(0.1389, device='cuda:0')\nEpoch 126/199\n----------\n"
     ]
    },
    {
     "output_type": "display_data",
     "data": {
      "text/plain": "HBox(children=(HTML(value=''), FloatProgress(value=0.0, max=1875.0), HTML(value='')))",
      "application/vnd.jupyter.widget-view+json": {
       "version_major": 2,
       "version_minor": 0,
       "model_id": "9e47b19feda248a8a6f3611cf426420e"
      }
     },
     "metadata": {}
    },
    {
     "output_type": "stream",
     "name": "stdout",
     "text": [
      "\ntensor(0.9704, device='cuda:0')\nEpoch 127/199\n----------\n"
     ]
    },
    {
     "output_type": "display_data",
     "data": {
      "text/plain": "HBox(children=(HTML(value=''), FloatProgress(value=0.0, max=1875.0), HTML(value='')))",
      "application/vnd.jupyter.widget-view+json": {
       "version_major": 2,
       "version_minor": 0,
       "model_id": "551a91bd56534ad6adf1d45ca1cc41bc"
      }
     },
     "metadata": {}
    },
    {
     "output_type": "stream",
     "name": "stdout",
     "text": [
      "\ntensor(0.0036, device='cuda:0')\nEpoch 128/199\n----------\n"
     ]
    },
    {
     "output_type": "display_data",
     "data": {
      "text/plain": "HBox(children=(HTML(value=''), FloatProgress(value=0.0, max=1875.0), HTML(value='')))",
      "application/vnd.jupyter.widget-view+json": {
       "version_major": 2,
       "version_minor": 0,
       "model_id": "ef125af4587d4b07846b032d9c964c94"
      }
     },
     "metadata": {}
    },
    {
     "output_type": "stream",
     "name": "stdout",
     "text": [
      "\ntensor(8.7926, device='cuda:0')\nEpoch 129/199\n----------\n"
     ]
    },
    {
     "output_type": "display_data",
     "data": {
      "text/plain": "HBox(children=(HTML(value=''), FloatProgress(value=0.0, max=1875.0), HTML(value='')))",
      "application/vnd.jupyter.widget-view+json": {
       "version_major": 2,
       "version_minor": 0,
       "model_id": "8be7425585e24c2d873dcd6f4b35f897"
      }
     },
     "metadata": {}
    },
    {
     "output_type": "stream",
     "name": "stdout",
     "text": [
      "\ntensor(0.5945, device='cuda:0')\nEpoch 130/199\n----------\n"
     ]
    },
    {
     "output_type": "display_data",
     "data": {
      "text/plain": "HBox(children=(HTML(value=''), FloatProgress(value=0.0, max=1875.0), HTML(value='')))",
      "application/vnd.jupyter.widget-view+json": {
       "version_major": 2,
       "version_minor": 0,
       "model_id": "350e52f2b1014c648b1dc975ad506ffa"
      }
     },
     "metadata": {}
    },
    {
     "output_type": "stream",
     "name": "stdout",
     "text": [
      "\ntensor(7.1540e-06, device='cuda:0')\nEpoch 131/199\n----------\n"
     ]
    },
    {
     "output_type": "display_data",
     "data": {
      "text/plain": "HBox(children=(HTML(value=''), FloatProgress(value=0.0, max=1875.0), HTML(value='')))",
      "application/vnd.jupyter.widget-view+json": {
       "version_major": 2,
       "version_minor": 0,
       "model_id": "52753aea380e46b8a22f509b4e7d6a68"
      }
     },
     "metadata": {}
    },
    {
     "output_type": "stream",
     "name": "stdout",
     "text": [
      "\ntensor(1.3882, device='cuda:0')\nEpoch 132/199\n----------\n"
     ]
    },
    {
     "output_type": "display_data",
     "data": {
      "text/plain": "HBox(children=(HTML(value=''), FloatProgress(value=0.0, max=1875.0), HTML(value='')))",
      "application/vnd.jupyter.widget-view+json": {
       "version_major": 2,
       "version_minor": 0,
       "model_id": "cc0d36b51f654e59861667eb32bf6a91"
      }
     },
     "metadata": {}
    },
    {
     "output_type": "stream",
     "name": "stdout",
     "text": [
      "\ntensor(0.0001, device='cuda:0')\nEpoch 133/199\n----------\n"
     ]
    },
    {
     "output_type": "display_data",
     "data": {
      "text/plain": "HBox(children=(HTML(value=''), FloatProgress(value=0.0, max=1875.0), HTML(value='')))",
      "application/vnd.jupyter.widget-view+json": {
       "version_major": 2,
       "version_minor": 0,
       "model_id": "2c98d3067ec644239eccfe2ad2e2672f"
      }
     },
     "metadata": {}
    },
    {
     "output_type": "stream",
     "name": "stdout",
     "text": [
      "\ntensor(5.4501, device='cuda:0')\nEpoch 134/199\n----------\n"
     ]
    },
    {
     "output_type": "display_data",
     "data": {
      "text/plain": "HBox(children=(HTML(value=''), FloatProgress(value=0.0, max=1875.0), HTML(value='')))",
      "application/vnd.jupyter.widget-view+json": {
       "version_major": 2,
       "version_minor": 0,
       "model_id": "6c5dd53661484c47a641dfa4c7e10631"
      }
     },
     "metadata": {}
    },
    {
     "output_type": "stream",
     "name": "stdout",
     "text": [
      "\ntensor(0.1423, device='cuda:0')\nEpoch 135/199\n----------\n"
     ]
    },
    {
     "output_type": "display_data",
     "data": {
      "text/plain": "HBox(children=(HTML(value=''), FloatProgress(value=0.0, max=1875.0), HTML(value='')))",
      "application/vnd.jupyter.widget-view+json": {
       "version_major": 2,
       "version_minor": 0,
       "model_id": "3aa45ba98a5d4b7d9c04b50103fd04c5"
      }
     },
     "metadata": {}
    },
    {
     "output_type": "stream",
     "name": "stdout",
     "text": [
      "\ntensor(0.0144, device='cuda:0')\nEpoch 136/199\n----------\n"
     ]
    },
    {
     "output_type": "display_data",
     "data": {
      "text/plain": "HBox(children=(HTML(value=''), FloatProgress(value=0.0, max=1875.0), HTML(value='')))",
      "application/vnd.jupyter.widget-view+json": {
       "version_major": 2,
       "version_minor": 0,
       "model_id": "6d0f2e7db9ad40269c62bb050fc70ff2"
      }
     },
     "metadata": {}
    },
    {
     "output_type": "stream",
     "name": "stdout",
     "text": [
      "\ntensor(0.0074, device='cuda:0')\nEpoch 137/199\n----------\n"
     ]
    },
    {
     "output_type": "display_data",
     "data": {
      "text/plain": "HBox(children=(HTML(value=''), FloatProgress(value=0.0, max=1875.0), HTML(value='')))",
      "application/vnd.jupyter.widget-view+json": {
       "version_major": 2,
       "version_minor": 0,
       "model_id": "c3b612ab94c0479eb797f68953869606"
      }
     },
     "metadata": {}
    },
    {
     "output_type": "stream",
     "name": "stdout",
     "text": [
      "\ntensor(0.0413, device='cuda:0')\nEpoch 138/199\n----------\n"
     ]
    },
    {
     "output_type": "display_data",
     "data": {
      "text/plain": "HBox(children=(HTML(value=''), FloatProgress(value=0.0, max=1875.0), HTML(value='')))",
      "application/vnd.jupyter.widget-view+json": {
       "version_major": 2,
       "version_minor": 0,
       "model_id": "7d2978a92e4141b0b44fc9d3727a92f2"
      }
     },
     "metadata": {}
    },
    {
     "output_type": "stream",
     "name": "stdout",
     "text": [
      "\ntensor(6.3324, device='cuda:0')\nEpoch 139/199\n----------\n"
     ]
    },
    {
     "output_type": "display_data",
     "data": {
      "text/plain": "HBox(children=(HTML(value=''), FloatProgress(value=0.0, max=1875.0), HTML(value='')))",
      "application/vnd.jupyter.widget-view+json": {
       "version_major": 2,
       "version_minor": 0,
       "model_id": "ea98fe68c80740cda3c7da3421ba4e8b"
      }
     },
     "metadata": {}
    },
    {
     "output_type": "stream",
     "name": "stdout",
     "text": [
      "\ntensor(0.6195, device='cuda:0')\nEpoch 140/199\n----------\n"
     ]
    },
    {
     "output_type": "display_data",
     "data": {
      "text/plain": "HBox(children=(HTML(value=''), FloatProgress(value=0.0, max=1875.0), HTML(value='')))",
      "application/vnd.jupyter.widget-view+json": {
       "version_major": 2,
       "version_minor": 0,
       "model_id": "6c96b3bfb24f409babd85289eea20108"
      }
     },
     "metadata": {}
    },
    {
     "output_type": "stream",
     "name": "stdout",
     "text": [
      "\ntensor(0.0004, device='cuda:0')\nEpoch 141/199\n----------\n"
     ]
    },
    {
     "output_type": "display_data",
     "data": {
      "text/plain": "HBox(children=(HTML(value=''), FloatProgress(value=0.0, max=1875.0), HTML(value='')))",
      "application/vnd.jupyter.widget-view+json": {
       "version_major": 2,
       "version_minor": 0,
       "model_id": "d87858072fc64c459bb1027487a0a895"
      }
     },
     "metadata": {}
    },
    {
     "output_type": "stream",
     "name": "stdout",
     "text": [
      "\ntensor(0.0007, device='cuda:0')\nEpoch 142/199\n----------\n"
     ]
    },
    {
     "output_type": "display_data",
     "data": {
      "text/plain": "HBox(children=(HTML(value=''), FloatProgress(value=0.0, max=1875.0), HTML(value='')))",
      "application/vnd.jupyter.widget-view+json": {
       "version_major": 2,
       "version_minor": 0,
       "model_id": "fa339f9e195b4005a9248df7a5145253"
      }
     },
     "metadata": {}
    },
    {
     "output_type": "stream",
     "name": "stdout",
     "text": [
      "\ntensor(0.5116, device='cuda:0')\nEpoch 143/199\n----------\n"
     ]
    },
    {
     "output_type": "display_data",
     "data": {
      "text/plain": "HBox(children=(HTML(value=''), FloatProgress(value=0.0, max=1875.0), HTML(value='')))",
      "application/vnd.jupyter.widget-view+json": {
       "version_major": 2,
       "version_minor": 0,
       "model_id": "bd2b89b8c0974b808944ac76b72a80a9"
      }
     },
     "metadata": {}
    },
    {
     "output_type": "stream",
     "name": "stdout",
     "text": [
      "\ntensor(0.0570, device='cuda:0')\nEpoch 144/199\n----------\n"
     ]
    },
    {
     "output_type": "display_data",
     "data": {
      "text/plain": "HBox(children=(HTML(value=''), FloatProgress(value=0.0, max=1875.0), HTML(value='')))",
      "application/vnd.jupyter.widget-view+json": {
       "version_major": 2,
       "version_minor": 0,
       "model_id": "4b4472a6c20b4f10ad69b3a259b4678a"
      }
     },
     "metadata": {}
    },
    {
     "output_type": "stream",
     "name": "stdout",
     "text": [
      "\ntensor(0.0006, device='cuda:0')\nEpoch 145/199\n----------\n"
     ]
    },
    {
     "output_type": "display_data",
     "data": {
      "text/plain": "HBox(children=(HTML(value=''), FloatProgress(value=0.0, max=1875.0), HTML(value='')))",
      "application/vnd.jupyter.widget-view+json": {
       "version_major": 2,
       "version_minor": 0,
       "model_id": "222b629790464bd6930c8b26c16ae33a"
      }
     },
     "metadata": {}
    },
    {
     "output_type": "stream",
     "name": "stdout",
     "text": [
      "\ntensor(4.2012, device='cuda:0')\nEpoch 146/199\n----------\n"
     ]
    },
    {
     "output_type": "display_data",
     "data": {
      "text/plain": "HBox(children=(HTML(value=''), FloatProgress(value=0.0, max=1875.0), HTML(value='')))",
      "application/vnd.jupyter.widget-view+json": {
       "version_major": 2,
       "version_minor": 0,
       "model_id": "d8e45a1f5cce40ab9335447b375ff217"
      }
     },
     "metadata": {}
    },
    {
     "output_type": "stream",
     "name": "stdout",
     "text": [
      "\ntensor(4.6020e-06, device='cuda:0')\nEpoch 147/199\n----------\n"
     ]
    },
    {
     "output_type": "display_data",
     "data": {
      "text/plain": "HBox(children=(HTML(value=''), FloatProgress(value=0.0, max=1875.0), HTML(value='')))",
      "application/vnd.jupyter.widget-view+json": {
       "version_major": 2,
       "version_minor": 0,
       "model_id": "dcc4ae43a46442cb912f7c68bca5582e"
      }
     },
     "metadata": {}
    },
    {
     "output_type": "stream",
     "name": "stdout",
     "text": [
      "\ntensor(2.4069, device='cuda:0')\nEpoch 148/199\n----------\n"
     ]
    },
    {
     "output_type": "display_data",
     "data": {
      "text/plain": "HBox(children=(HTML(value=''), FloatProgress(value=0.0, max=1875.0), HTML(value='')))",
      "application/vnd.jupyter.widget-view+json": {
       "version_major": 2,
       "version_minor": 0,
       "model_id": "bc908ddabedb4ea495aa6ee6e1b8564b"
      }
     },
     "metadata": {}
    },
    {
     "output_type": "stream",
     "name": "stdout",
     "text": [
      "\ntensor(0.0005, device='cuda:0')\nEpoch 149/199\n----------\n"
     ]
    },
    {
     "output_type": "display_data",
     "data": {
      "text/plain": "HBox(children=(HTML(value=''), FloatProgress(value=0.0, max=1875.0), HTML(value='')))",
      "application/vnd.jupyter.widget-view+json": {
       "version_major": 2,
       "version_minor": 0,
       "model_id": "7f7ac28bed534d9f946cec0ec0c5eeba"
      }
     },
     "metadata": {}
    },
    {
     "output_type": "stream",
     "name": "stdout",
     "text": [
      "\ntensor(7.2208e-05, device='cuda:0')\nEpoch 150/199\n----------\n"
     ]
    },
    {
     "output_type": "display_data",
     "data": {
      "text/plain": "HBox(children=(HTML(value=''), FloatProgress(value=0.0, max=1875.0), HTML(value='')))",
      "application/vnd.jupyter.widget-view+json": {
       "version_major": 2,
       "version_minor": 0,
       "model_id": "ed6180dfb1604d13be919af804cbd257"
      }
     },
     "metadata": {}
    },
    {
     "output_type": "stream",
     "name": "stdout",
     "text": [
      "\ntensor(0.0039, device='cuda:0')\nEpoch 151/199\n----------\n"
     ]
    },
    {
     "output_type": "display_data",
     "data": {
      "text/plain": "HBox(children=(HTML(value=''), FloatProgress(value=0.0, max=1875.0), HTML(value='')))",
      "application/vnd.jupyter.widget-view+json": {
       "version_major": 2,
       "version_minor": 0,
       "model_id": "b5e7de31492c40cdaaf219ea1753b7ac"
      }
     },
     "metadata": {}
    },
    {
     "output_type": "stream",
     "name": "stdout",
     "text": [
      "\ntensor(0.0099, device='cuda:0')\nEpoch 152/199\n----------\n"
     ]
    },
    {
     "output_type": "display_data",
     "data": {
      "text/plain": "HBox(children=(HTML(value=''), FloatProgress(value=0.0, max=1875.0), HTML(value='')))",
      "application/vnd.jupyter.widget-view+json": {
       "version_major": 2,
       "version_minor": 0,
       "model_id": "8f22e8df1bbc41b19a17e773569e81d7"
      }
     },
     "metadata": {}
    },
    {
     "output_type": "stream",
     "name": "stdout",
     "text": [
      "\ntensor(1.7566e-05, device='cuda:0')\nEpoch 153/199\n----------\n"
     ]
    },
    {
     "output_type": "display_data",
     "data": {
      "text/plain": "HBox(children=(HTML(value=''), FloatProgress(value=0.0, max=1875.0), HTML(value='')))",
      "application/vnd.jupyter.widget-view+json": {
       "version_major": 2,
       "version_minor": 0,
       "model_id": "0d0a84b6c2a142389a8f27003800dd8c"
      }
     },
     "metadata": {}
    },
    {
     "output_type": "stream",
     "name": "stdout",
     "text": [
      "\ntensor(0.5624, device='cuda:0')\nEpoch 154/199\n----------\n"
     ]
    },
    {
     "output_type": "display_data",
     "data": {
      "text/plain": "HBox(children=(HTML(value=''), FloatProgress(value=0.0, max=1875.0), HTML(value='')))",
      "application/vnd.jupyter.widget-view+json": {
       "version_major": 2,
       "version_minor": 0,
       "model_id": "03e30668fa784e3889a491cda1bcf766"
      }
     },
     "metadata": {}
    },
    {
     "output_type": "stream",
     "name": "stdout",
     "text": [
      "\ntensor(9.5290e-06, device='cuda:0')\nEpoch 155/199\n----------\n"
     ]
    },
    {
     "output_type": "display_data",
     "data": {
      "text/plain": "HBox(children=(HTML(value=''), FloatProgress(value=0.0, max=1875.0), HTML(value='')))",
      "application/vnd.jupyter.widget-view+json": {
       "version_major": 2,
       "version_minor": 0,
       "model_id": "e12913a9b92c49998325b29cb322cb33"
      }
     },
     "metadata": {}
    },
    {
     "output_type": "stream",
     "name": "stdout",
     "text": [
      "\ntensor(5.0959, device='cuda:0')\nEpoch 156/199\n----------\n"
     ]
    },
    {
     "output_type": "display_data",
     "data": {
      "text/plain": "HBox(children=(HTML(value=''), FloatProgress(value=0.0, max=1875.0), HTML(value='')))",
      "application/vnd.jupyter.widget-view+json": {
       "version_major": 2,
       "version_minor": 0,
       "model_id": "493a4d36742f4c8da076b985e78d6108"
      }
     },
     "metadata": {}
    },
    {
     "output_type": "stream",
     "name": "stdout",
     "text": [
      "\ntensor(0.1229, device='cuda:0')\nEpoch 157/199\n----------\n"
     ]
    },
    {
     "output_type": "display_data",
     "data": {
      "text/plain": "HBox(children=(HTML(value=''), FloatProgress(value=0.0, max=1875.0), HTML(value='')))",
      "application/vnd.jupyter.widget-view+json": {
       "version_major": 2,
       "version_minor": 0,
       "model_id": "69671a25223c417ca31f91326cc3b627"
      }
     },
     "metadata": {}
    },
    {
     "output_type": "stream",
     "name": "stdout",
     "text": [
      "\ntensor(1.6359e-05, device='cuda:0')\nEpoch 158/199\n----------\n"
     ]
    },
    {
     "output_type": "display_data",
     "data": {
      "text/plain": "HBox(children=(HTML(value=''), FloatProgress(value=0.0, max=1875.0), HTML(value='')))",
      "application/vnd.jupyter.widget-view+json": {
       "version_major": 2,
       "version_minor": 0,
       "model_id": "5d4b08749fea4edb81cdf97f112adc08"
      }
     },
     "metadata": {}
    },
    {
     "output_type": "stream",
     "name": "stdout",
     "text": [
      "\ntensor(0.0470, device='cuda:0')\nEpoch 159/199\n----------\n"
     ]
    },
    {
     "output_type": "display_data",
     "data": {
      "text/plain": "HBox(children=(HTML(value=''), FloatProgress(value=0.0, max=1875.0), HTML(value='')))",
      "application/vnd.jupyter.widget-view+json": {
       "version_major": 2,
       "version_minor": 0,
       "model_id": "df32b44817634b50995f237e9334c54b"
      }
     },
     "metadata": {}
    },
    {
     "output_type": "stream",
     "name": "stdout",
     "text": [
      "\ntensor(1.7692, device='cuda:0')\nEpoch 160/199\n----------\n"
     ]
    },
    {
     "output_type": "display_data",
     "data": {
      "text/plain": "HBox(children=(HTML(value=''), FloatProgress(value=0.0, max=1875.0), HTML(value='')))",
      "application/vnd.jupyter.widget-view+json": {
       "version_major": 2,
       "version_minor": 0,
       "model_id": "e8f59f3324a44a7f9014d3f5c8b811e5"
      }
     },
     "metadata": {}
    },
    {
     "output_type": "stream",
     "name": "stdout",
     "text": [
      "\ntensor(0.0225, device='cuda:0')\nEpoch 161/199\n----------\n"
     ]
    },
    {
     "output_type": "display_data",
     "data": {
      "text/plain": "HBox(children=(HTML(value=''), FloatProgress(value=0.0, max=1875.0), HTML(value='')))",
      "application/vnd.jupyter.widget-view+json": {
       "version_major": 2,
       "version_minor": 0,
       "model_id": "b4779385982b49b7ae0a605f6b552c85"
      }
     },
     "metadata": {}
    },
    {
     "output_type": "stream",
     "name": "stdout",
     "text": [
      "\ntensor(1.4994e-07, device='cuda:0')\nEpoch 162/199\n----------\n"
     ]
    },
    {
     "output_type": "display_data",
     "data": {
      "text/plain": "HBox(children=(HTML(value=''), FloatProgress(value=0.0, max=1875.0), HTML(value='')))",
      "application/vnd.jupyter.widget-view+json": {
       "version_major": 2,
       "version_minor": 0,
       "model_id": "1b6a5fc33dde40eab9f7c275300eab74"
      }
     },
     "metadata": {}
    },
    {
     "output_type": "stream",
     "name": "stdout",
     "text": [
      "\ntensor(0.0090, device='cuda:0')\nEpoch 163/199\n----------\n"
     ]
    },
    {
     "output_type": "display_data",
     "data": {
      "text/plain": "HBox(children=(HTML(value=''), FloatProgress(value=0.0, max=1875.0), HTML(value='')))",
      "application/vnd.jupyter.widget-view+json": {
       "version_major": 2,
       "version_minor": 0,
       "model_id": "6722b329aad1447391626cfe15a19428"
      }
     },
     "metadata": {}
    },
    {
     "output_type": "stream",
     "name": "stdout",
     "text": [
      "\ntensor(3.4366e-06, device='cuda:0')\nEpoch 164/199\n----------\n"
     ]
    },
    {
     "output_type": "display_data",
     "data": {
      "text/plain": "HBox(children=(HTML(value=''), FloatProgress(value=0.0, max=1875.0), HTML(value='')))",
      "application/vnd.jupyter.widget-view+json": {
       "version_major": 2,
       "version_minor": 0,
       "model_id": "3a74edc849aa4d93ae5255bde16f0b4f"
      }
     },
     "metadata": {}
    },
    {
     "output_type": "stream",
     "name": "stdout",
     "text": [
      "\ntensor(2.5605, device='cuda:0')\nEpoch 165/199\n----------\n"
     ]
    },
    {
     "output_type": "display_data",
     "data": {
      "text/plain": "HBox(children=(HTML(value=''), FloatProgress(value=0.0, max=1875.0), HTML(value='')))",
      "application/vnd.jupyter.widget-view+json": {
       "version_major": 2,
       "version_minor": 0,
       "model_id": "6c297d9c90054b04a401e9b9f40f0c7a"
      }
     },
     "metadata": {}
    },
    {
     "output_type": "stream",
     "name": "stdout",
     "text": [
      "\ntensor(0.0034, device='cuda:0')\nEpoch 166/199\n----------\n"
     ]
    },
    {
     "output_type": "display_data",
     "data": {
      "text/plain": "HBox(children=(HTML(value=''), FloatProgress(value=0.0, max=1875.0), HTML(value='')))",
      "application/vnd.jupyter.widget-view+json": {
       "version_major": 2,
       "version_minor": 0,
       "model_id": "425ac5bcb7df415daedb9c9d3d8a2cd3"
      }
     },
     "metadata": {}
    },
    {
     "output_type": "stream",
     "name": "stdout",
     "text": [
      "\ntensor(0.0011, device='cuda:0')\nEpoch 167/199\n----------\n"
     ]
    },
    {
     "output_type": "display_data",
     "data": {
      "text/plain": "HBox(children=(HTML(value=''), FloatProgress(value=0.0, max=1875.0), HTML(value='')))",
      "application/vnd.jupyter.widget-view+json": {
       "version_major": 2,
       "version_minor": 0,
       "model_id": "6083fce0d5e046dfa5e89d3da0c207e6"
      }
     },
     "metadata": {}
    },
    {
     "output_type": "stream",
     "name": "stdout",
     "text": [
      "\ntensor(0.0003, device='cuda:0')\nEpoch 168/199\n----------\n"
     ]
    },
    {
     "output_type": "display_data",
     "data": {
      "text/plain": "HBox(children=(HTML(value=''), FloatProgress(value=0.0, max=1875.0), HTML(value='')))",
      "application/vnd.jupyter.widget-view+json": {
       "version_major": 2,
       "version_minor": 0,
       "model_id": "5d903a7404c54730b1921530afd62a52"
      }
     },
     "metadata": {}
    },
    {
     "output_type": "stream",
     "name": "stdout",
     "text": [
      "\ntensor(5.4719, device='cuda:0')\nEpoch 169/199\n----------\n"
     ]
    },
    {
     "output_type": "display_data",
     "data": {
      "text/plain": "HBox(children=(HTML(value=''), FloatProgress(value=0.0, max=1875.0), HTML(value='')))",
      "application/vnd.jupyter.widget-view+json": {
       "version_major": 2,
       "version_minor": 0,
       "model_id": "110a240c40b94302a23947484b70bae0"
      }
     },
     "metadata": {}
    },
    {
     "output_type": "stream",
     "name": "stdout",
     "text": [
      "\ntensor(0.0020, device='cuda:0')\nEpoch 170/199\n----------\n"
     ]
    },
    {
     "output_type": "display_data",
     "data": {
      "text/plain": "HBox(children=(HTML(value=''), FloatProgress(value=0.0, max=1875.0), HTML(value='')))",
      "application/vnd.jupyter.widget-view+json": {
       "version_major": 2,
       "version_minor": 0,
       "model_id": "462218740a2c46fabcff4fd47eaa2f85"
      }
     },
     "metadata": {}
    },
    {
     "output_type": "stream",
     "name": "stdout",
     "text": [
      "\ntensor(1.3019e-05, device='cuda:0')\nEpoch 171/199\n----------\n"
     ]
    },
    {
     "output_type": "display_data",
     "data": {
      "text/plain": "HBox(children=(HTML(value=''), FloatProgress(value=0.0, max=1875.0), HTML(value='')))",
      "application/vnd.jupyter.widget-view+json": {
       "version_major": 2,
       "version_minor": 0,
       "model_id": "10b6d6f9cad143a3b957fa178f196fd0"
      }
     },
     "metadata": {}
    },
    {
     "output_type": "stream",
     "name": "stdout",
     "text": [
      "\ntensor(0.4673, device='cuda:0')\nEpoch 172/199\n----------\n"
     ]
    },
    {
     "output_type": "display_data",
     "data": {
      "text/plain": "HBox(children=(HTML(value=''), FloatProgress(value=0.0, max=1875.0), HTML(value='')))",
      "application/vnd.jupyter.widget-view+json": {
       "version_major": 2,
       "version_minor": 0,
       "model_id": "eeb31adde04745e28a46fa66f2f0eae9"
      }
     },
     "metadata": {}
    },
    {
     "output_type": "stream",
     "name": "stdout",
     "text": [
      "\ntensor(0.0091, device='cuda:0')\nEpoch 173/199\n----------\n"
     ]
    },
    {
     "output_type": "display_data",
     "data": {
      "text/plain": "HBox(children=(HTML(value=''), FloatProgress(value=0.0, max=1875.0), HTML(value='')))",
      "application/vnd.jupyter.widget-view+json": {
       "version_major": 2,
       "version_minor": 0,
       "model_id": "5bc1f868b66945e19aea1559af65651e"
      }
     },
     "metadata": {}
    },
    {
     "output_type": "stream",
     "name": "stdout",
     "text": [
      "\ntensor(7.4880e-05, device='cuda:0')\nEpoch 174/199\n----------\n"
     ]
    },
    {
     "output_type": "display_data",
     "data": {
      "text/plain": "HBox(children=(HTML(value=''), FloatProgress(value=0.0, max=1875.0), HTML(value='')))",
      "application/vnd.jupyter.widget-view+json": {
       "version_major": 2,
       "version_minor": 0,
       "model_id": "27882aa6a21844d48f00b354355b1ab4"
      }
     },
     "metadata": {}
    },
    {
     "output_type": "stream",
     "name": "stdout",
     "text": [
      "\ntensor(0.0884, device='cuda:0')\nEpoch 175/199\n----------\n"
     ]
    },
    {
     "output_type": "display_data",
     "data": {
      "text/plain": "HBox(children=(HTML(value=''), FloatProgress(value=0.0, max=1875.0), HTML(value='')))",
      "application/vnd.jupyter.widget-view+json": {
       "version_major": 2,
       "version_minor": 0,
       "model_id": "8d4a6e82170143fd821243ad9e009523"
      }
     },
     "metadata": {}
    },
    {
     "output_type": "stream",
     "name": "stdout",
     "text": [
      "\ntensor(0.0002, device='cuda:0')\nEpoch 176/199\n----------\n"
     ]
    },
    {
     "output_type": "display_data",
     "data": {
      "text/plain": "HBox(children=(HTML(value=''), FloatProgress(value=0.0, max=1875.0), HTML(value='')))",
      "application/vnd.jupyter.widget-view+json": {
       "version_major": 2,
       "version_minor": 0,
       "model_id": "811a489a71134898a9a35482192de83a"
      }
     },
     "metadata": {}
    },
    {
     "output_type": "stream",
     "name": "stdout",
     "text": [
      "\ntensor(0.0243, device='cuda:0')\nEpoch 177/199\n----------\n"
     ]
    },
    {
     "output_type": "display_data",
     "data": {
      "text/plain": "HBox(children=(HTML(value=''), FloatProgress(value=0.0, max=1875.0), HTML(value='')))",
      "application/vnd.jupyter.widget-view+json": {
       "version_major": 2,
       "version_minor": 0,
       "model_id": "c380b80c7a5746caa74db83ec3a3306f"
      }
     },
     "metadata": {}
    },
    {
     "output_type": "stream",
     "name": "stdout",
     "text": [
      "\ntensor(0.2543, device='cuda:0')\nEpoch 178/199\n----------\n"
     ]
    },
    {
     "output_type": "display_data",
     "data": {
      "text/plain": "HBox(children=(HTML(value=''), FloatProgress(value=0.0, max=1875.0), HTML(value='')))",
      "application/vnd.jupyter.widget-view+json": {
       "version_major": 2,
       "version_minor": 0,
       "model_id": "2ecc0b480cca49bdac261d92af24172d"
      }
     },
     "metadata": {}
    },
    {
     "output_type": "stream",
     "name": "stdout",
     "text": [
      "\ntensor(0.0251, device='cuda:0')\nEpoch 179/199\n----------\n"
     ]
    },
    {
     "output_type": "display_data",
     "data": {
      "text/plain": "HBox(children=(HTML(value=''), FloatProgress(value=0.0, max=1875.0), HTML(value='')))",
      "application/vnd.jupyter.widget-view+json": {
       "version_major": 2,
       "version_minor": 0,
       "model_id": "fd45754f18e748ae814f46b02c25c3b1"
      }
     },
     "metadata": {}
    },
    {
     "output_type": "stream",
     "name": "stdout",
     "text": [
      "\ntensor(1.3844, device='cuda:0')\nEpoch 180/199\n----------\n"
     ]
    },
    {
     "output_type": "display_data",
     "data": {
      "text/plain": "HBox(children=(HTML(value=''), FloatProgress(value=0.0, max=1875.0), HTML(value='')))",
      "application/vnd.jupyter.widget-view+json": {
       "version_major": 2,
       "version_minor": 0,
       "model_id": "788370b1dbaa442da879960aa4fa3d84"
      }
     },
     "metadata": {}
    },
    {
     "output_type": "stream",
     "name": "stdout",
     "text": [
      "\ntensor(0.3731, device='cuda:0')\nEpoch 181/199\n----------\n"
     ]
    },
    {
     "output_type": "display_data",
     "data": {
      "text/plain": "HBox(children=(HTML(value=''), FloatProgress(value=0.0, max=1875.0), HTML(value='')))",
      "application/vnd.jupyter.widget-view+json": {
       "version_major": 2,
       "version_minor": 0,
       "model_id": "a3ca9c1b29c74441bd6f193d0705a49f"
      }
     },
     "metadata": {}
    },
    {
     "output_type": "stream",
     "name": "stdout",
     "text": [
      "\ntensor(0.0211, device='cuda:0')\nEpoch 182/199\n----------\n"
     ]
    },
    {
     "output_type": "display_data",
     "data": {
      "text/plain": "HBox(children=(HTML(value=''), FloatProgress(value=0.0, max=1875.0), HTML(value='')))",
      "application/vnd.jupyter.widget-view+json": {
       "version_major": 2,
       "version_minor": 0,
       "model_id": "d5d24ecba75a435ca08ae20af75c5d2b"
      }
     },
     "metadata": {}
    },
    {
     "output_type": "stream",
     "name": "stdout",
     "text": [
      "\ntensor(2.4604e-08, device='cuda:0')\nEpoch 183/199\n----------\n"
     ]
    },
    {
     "output_type": "display_data",
     "data": {
      "text/plain": "HBox(children=(HTML(value=''), FloatProgress(value=0.0, max=1875.0), HTML(value='')))",
      "application/vnd.jupyter.widget-view+json": {
       "version_major": 2,
       "version_minor": 0,
       "model_id": "4060f831de9e498e990ebe0053e32e83"
      }
     },
     "metadata": {}
    },
    {
     "output_type": "stream",
     "name": "stdout",
     "text": [
      "\ntensor(0.0059, device='cuda:0')\nEpoch 184/199\n----------\n"
     ]
    },
    {
     "output_type": "display_data",
     "data": {
      "text/plain": "HBox(children=(HTML(value=''), FloatProgress(value=0.0, max=1875.0), HTML(value='')))",
      "application/vnd.jupyter.widget-view+json": {
       "version_major": 2,
       "version_minor": 0,
       "model_id": "87a927e84112459b82bfd521d13e06bf"
      }
     },
     "metadata": {}
    },
    {
     "output_type": "stream",
     "name": "stdout",
     "text": [
      "\ntensor(0.0257, device='cuda:0')\nEpoch 185/199\n----------\n"
     ]
    },
    {
     "output_type": "display_data",
     "data": {
      "text/plain": "HBox(children=(HTML(value=''), FloatProgress(value=0.0, max=1875.0), HTML(value='')))",
      "application/vnd.jupyter.widget-view+json": {
       "version_major": 2,
       "version_minor": 0,
       "model_id": "962066fb42e54dd3b5586ae5f241b495"
      }
     },
     "metadata": {}
    },
    {
     "output_type": "stream",
     "name": "stdout",
     "text": [
      "\ntensor(4.6928e-06, device='cuda:0')\nEpoch 186/199\n----------\n"
     ]
    },
    {
     "output_type": "display_data",
     "data": {
      "text/plain": "HBox(children=(HTML(value=''), FloatProgress(value=0.0, max=1875.0), HTML(value='')))",
      "application/vnd.jupyter.widget-view+json": {
       "version_major": 2,
       "version_minor": 0,
       "model_id": "ce87cb7bc90c4c44957622b1810968b4"
      }
     },
     "metadata": {}
    },
    {
     "output_type": "stream",
     "name": "stdout",
     "text": [
      "\ntensor(6.3172e-05, device='cuda:0')\nEpoch 187/199\n----------\n"
     ]
    },
    {
     "output_type": "display_data",
     "data": {
      "text/plain": "HBox(children=(HTML(value=''), FloatProgress(value=0.0, max=1875.0), HTML(value='')))",
      "application/vnd.jupyter.widget-view+json": {
       "version_major": 2,
       "version_minor": 0,
       "model_id": "ac32d06a3e724381af182558df8ebe71"
      }
     },
     "metadata": {}
    },
    {
     "output_type": "stream",
     "name": "stdout",
     "text": [
      "\ntensor(4.6267e-06, device='cuda:0')\nEpoch 188/199\n----------\n"
     ]
    },
    {
     "output_type": "display_data",
     "data": {
      "text/plain": "HBox(children=(HTML(value=''), FloatProgress(value=0.0, max=1875.0), HTML(value='')))",
      "application/vnd.jupyter.widget-view+json": {
       "version_major": 2,
       "version_minor": 0,
       "model_id": "e5fb27cc5baf4e9a92a22895fd17cabe"
      }
     },
     "metadata": {}
    },
    {
     "output_type": "stream",
     "name": "stdout",
     "text": [
      "\ntensor(1.2303, device='cuda:0')\nEpoch 189/199\n----------\n"
     ]
    },
    {
     "output_type": "display_data",
     "data": {
      "text/plain": "HBox(children=(HTML(value=''), FloatProgress(value=0.0, max=1875.0), HTML(value='')))",
      "application/vnd.jupyter.widget-view+json": {
       "version_major": 2,
       "version_minor": 0,
       "model_id": "1bad93bd19ba457398118fa84e9e0b88"
      }
     },
     "metadata": {}
    },
    {
     "output_type": "stream",
     "name": "stdout",
     "text": [
      "\ntensor(0.0005, device='cuda:0')\nEpoch 190/199\n----------\n"
     ]
    },
    {
     "output_type": "display_data",
     "data": {
      "text/plain": "HBox(children=(HTML(value=''), FloatProgress(value=0.0, max=1875.0), HTML(value='')))",
      "application/vnd.jupyter.widget-view+json": {
       "version_major": 2,
       "version_minor": 0,
       "model_id": "ae6fa60dbf3d418c9b3bfb8515804e8b"
      }
     },
     "metadata": {}
    },
    {
     "output_type": "stream",
     "name": "stdout",
     "text": [
      "\ntensor(0.0004, device='cuda:0')\nEpoch 191/199\n----------\n"
     ]
    },
    {
     "output_type": "display_data",
     "data": {
      "text/plain": "HBox(children=(HTML(value=''), FloatProgress(value=0.0, max=1875.0), HTML(value='')))",
      "application/vnd.jupyter.widget-view+json": {
       "version_major": 2,
       "version_minor": 0,
       "model_id": "f41408e4d90a44e08922240563bb5cad"
      }
     },
     "metadata": {}
    },
    {
     "output_type": "stream",
     "name": "stdout",
     "text": [
      "\ntensor(0.0433, device='cuda:0')\nEpoch 192/199\n----------\n"
     ]
    },
    {
     "output_type": "display_data",
     "data": {
      "text/plain": "HBox(children=(HTML(value=''), FloatProgress(value=0.0, max=1875.0), HTML(value='')))",
      "application/vnd.jupyter.widget-view+json": {
       "version_major": 2,
       "version_minor": 0,
       "model_id": "fcde639ff27947d8ac29a70c97cbe712"
      }
     },
     "metadata": {}
    },
    {
     "output_type": "stream",
     "name": "stdout",
     "text": [
      "\ntensor(1.4984, device='cuda:0')\nEpoch 193/199\n----------\n"
     ]
    },
    {
     "output_type": "display_data",
     "data": {
      "text/plain": "HBox(children=(HTML(value=''), FloatProgress(value=0.0, max=1875.0), HTML(value='')))",
      "application/vnd.jupyter.widget-view+json": {
       "version_major": 2,
       "version_minor": 0,
       "model_id": "418887a5bed040a49169d37a400aecbf"
      }
     },
     "metadata": {}
    },
    {
     "output_type": "stream",
     "name": "stdout",
     "text": [
      "\ntensor(6.2248e-05, device='cuda:0')\nEpoch 194/199\n----------\n"
     ]
    },
    {
     "output_type": "display_data",
     "data": {
      "text/plain": "HBox(children=(HTML(value=''), FloatProgress(value=0.0, max=1875.0), HTML(value='')))",
      "application/vnd.jupyter.widget-view+json": {
       "version_major": 2,
       "version_minor": 0,
       "model_id": "ab6a366a6860469a88dac47f05b0445b"
      }
     },
     "metadata": {}
    },
    {
     "output_type": "stream",
     "name": "stdout",
     "text": [
      "\ntensor(0.0161, device='cuda:0')\nEpoch 195/199\n----------\n"
     ]
    },
    {
     "output_type": "display_data",
     "data": {
      "text/plain": "HBox(children=(HTML(value=''), FloatProgress(value=0.0, max=1875.0), HTML(value='')))",
      "application/vnd.jupyter.widget-view+json": {
       "version_major": 2,
       "version_minor": 0,
       "model_id": "2de6fab88d7f487e9d80dcbe57245337"
      }
     },
     "metadata": {}
    },
    {
     "output_type": "stream",
     "name": "stdout",
     "text": [
      "\ntensor(7.9296e-06, device='cuda:0')\nEpoch 196/199\n----------\n"
     ]
    },
    {
     "output_type": "display_data",
     "data": {
      "text/plain": "HBox(children=(HTML(value=''), FloatProgress(value=0.0, max=1875.0), HTML(value='')))",
      "application/vnd.jupyter.widget-view+json": {
       "version_major": 2,
       "version_minor": 0,
       "model_id": "652c65b7c7af4c9d913673539a61557b"
      }
     },
     "metadata": {}
    },
    {
     "output_type": "stream",
     "name": "stdout",
     "text": [
      "\ntensor(1.5590e-05, device='cuda:0')\nEpoch 197/199\n----------\n"
     ]
    },
    {
     "output_type": "display_data",
     "data": {
      "text/plain": "HBox(children=(HTML(value=''), FloatProgress(value=0.0, max=1875.0), HTML(value='')))",
      "application/vnd.jupyter.widget-view+json": {
       "version_major": 2,
       "version_minor": 0,
       "model_id": "b09bda884c0c4b1fb21356f570866849"
      }
     },
     "metadata": {}
    },
    {
     "output_type": "stream",
     "name": "stdout",
     "text": [
      "\ntensor(0.0001, device='cuda:0')\nEpoch 198/199\n----------\n"
     ]
    },
    {
     "output_type": "display_data",
     "data": {
      "text/plain": "HBox(children=(HTML(value=''), FloatProgress(value=0.0, max=1875.0), HTML(value='')))",
      "application/vnd.jupyter.widget-view+json": {
       "version_major": 2,
       "version_minor": 0,
       "model_id": "eb6070a294154643948a774b59bc1dd2"
      }
     },
     "metadata": {}
    },
    {
     "output_type": "stream",
     "name": "stdout",
     "text": [
      "\ntensor(0.0008, device='cuda:0')\nEpoch 199/199\n----------\n"
     ]
    },
    {
     "output_type": "display_data",
     "data": {
      "text/plain": "HBox(children=(HTML(value=''), FloatProgress(value=0.0, max=1875.0), HTML(value='')))",
      "application/vnd.jupyter.widget-view+json": {
       "version_major": 2,
       "version_minor": 0,
       "model_id": "401590a518a646a8975edaa85dcad935"
      }
     },
     "metadata": {}
    },
    {
     "output_type": "stream",
     "name": "stdout",
     "text": [
      "\ntensor(0.0003, device='cuda:0')\n\nTraining completed in 30m 43s\n"
     ]
    }
   ],
   "source": [
    "# Training nn\n",
    "\n",
    "model = Net()\n",
    "model.to(device) # transfer to GPU if available\n",
    "optimizer = torch.optim.Adam(model.parameters(),lr=3e-4)\n",
    "calculate_loss = nn.CrossEntropyLoss()\n",
    "\n",
    "num_epochs = 200\n",
    "\n",
    "since = time.time()\n",
    "\n",
    "gradien_vector = []\n",
    "for epoch in range(num_epochs):\n",
    "    print('Epoch {}/{}'.format(epoch, num_epochs - 1))\n",
    "    print('-' * 10)\n",
    "    #scheduler.step()\n",
    "    model.train()\n",
    "    running_loss = 0.0\n",
    "    tk0 = tqdm(train_loader, total=int(len(train_loader)))\n",
    "    counter = 0\n",
    "\n",
    "\n",
    "\n",
    "    # Training Code start \n",
    "    for batch_idx, data_set in enumerate(tk0):\n",
    "\n",
    "        optimizer.zero_grad()  # Clear the old gradients from last step  \n",
    "        data , labels = data_set\n",
    "        data = data.to(device)\n",
    "        labels = labels.to(device)\n",
    "        output = model(data)   #forward\n",
    "        output.to(device)\n",
    "        loss = calculate_loss(output,labels) #calculate loss\n",
    "        loss.backward()\n",
    "        optimizer.step()\n",
    "\n",
    "        # Training code ends\n",
    "\n",
    "\n",
    "\n",
    "        running_loss += loss.item() * data.size(0)\n",
    "        counter += 1\n",
    "        tk0.set_postfix(loss=(running_loss / (counter * train_loader.batch_size)))\n",
    "    \n",
    "    #Gradients\n",
    "    g_2 = []\n",
    "    for name, param in model.named_parameters():\n",
    "        if param.requires_grad and \"bias\" not in name:\n",
    "            #print (name, param.grad.data)\n",
    "            g_2.append(torch.flatten(param.grad.data))\n",
    "    print(torch.norm(torch.cat([g_2[0],g_2[1],g_2[2],g_2[3]],dim=0)))\n",
    "    gradien_vector.append(torch.norm(torch.cat([g_2[0],g_2[1],g_2[2],g_2[3]],dim=0)).item())\n",
    "\n",
    "    \n",
    "    # #weights\n",
    "    # for name, param in model.named_parameters():\n",
    "    #     if param.requires_grad:\n",
    "    #         print (name, param.data)\n",
    "    \n",
    "\n",
    "time_elapsed = time.time() - since\n",
    "print('\\nTraining completed in {:.0f}m {:.0f}s'.format(time_elapsed // 60, time_elapsed % 60))\n",
    "        \n"
   ]
  },
  {
   "cell_type": "code",
   "execution_count": 35,
   "metadata": {
    "tags": []
   },
   "outputs": [
    {
     "output_type": "stream",
     "name": "stdout",
     "text": [
      "The testing set accuracy of the network is: 98.330000 %\n"
     ]
    }
   ],
   "source": [
    "    # Predicting\n",
    "\n",
    "    correct, total = 0 , 0\n",
    "    predictions = []\n",
    "    model.eval()\n",
    "\n",
    "    for i, data_set in enumerate(test_loader):\n",
    "        data, labels = data_set\n",
    "        data, labels = data.to(device), labels.to(device)\n",
    "        output = model(data)\n",
    "        _, predicted = torch.max(output.data,1)\n",
    "        predictions.append(output)\n",
    "        total += labels.size(0)\n",
    "        correct += (predicted == labels).sum().item()\n",
    "\n",
    "    print('The testing set accuracy of the network is: %f %%' % (100 * correct / total))\n"
   ]
  },
  {
   "cell_type": "code",
   "execution_count": 36,
   "metadata": {},
   "outputs": [
    {
     "output_type": "display_data",
     "data": {
      "text/plain": "<Figure size 1332x756 with 1 Axes>",
      "image/svg+xml": "<?xml version=\"1.0\" encoding=\"utf-8\" standalone=\"no\"?>\n<!DOCTYPE svg PUBLIC \"-//W3C//DTD SVG 1.1//EN\"\n  \"http://www.w3.org/Graphics/SVG/1.1/DTD/svg11.dtd\">\n<!-- Created with matplotlib (https://matplotlib.org/) -->\n<svg height=\"698.87875pt\" version=\"1.1\" viewBox=\"0 0 1081.483125 698.87875\" width=\"1081.483125pt\" xmlns=\"http://www.w3.org/2000/svg\" xmlns:xlink=\"http://www.w3.org/1999/xlink\">\n <metadata>\n  <rdf:RDF xmlns:cc=\"http://creativecommons.org/ns#\" xmlns:dc=\"http://purl.org/dc/elements/1.1/\" xmlns:rdf=\"http://www.w3.org/1999/02/22-rdf-syntax-ns#\">\n   <cc:Work>\n    <dc:type rdf:resource=\"http://purl.org/dc/dcmitype/StillImage\"/>\n    <dc:date>2020-11-19T03:24:41.603354</dc:date>\n    <dc:format>image/svg+xml</dc:format>\n    <dc:creator>\n     <cc:Agent>\n      <dc:title>Matplotlib v3.3.2, https://matplotlib.org/</dc:title>\n     </cc:Agent>\n    </dc:creator>\n   </cc:Work>\n  </rdf:RDF>\n </metadata>\n <defs>\n  <style type=\"text/css\">*{stroke-linecap:butt;stroke-linejoin:round;}</style>\n </defs>\n <g id=\"figure_1\">\n  <g id=\"patch_1\">\n   <path d=\"M 0 698.87875 \nL 1081.483125 698.87875 \nL 1081.483125 0 \nL 0 0 \nz\n\" style=\"fill:none;\"/>\n  </g>\n  <g id=\"axes_1\">\n   <g id=\"patch_2\">\n    <path d=\"M 41.983125 653.58 \nL 1074.283125 653.58 \nL 1074.283125 82.8 \nL 41.983125 82.8 \nz\n\" style=\"fill:#ffffff;\"/>\n   </g>\n   <g id=\"PathCollection_1\">\n    <defs>\n     <path d=\"M 0 3 \nC 0.795609 3 1.55874 2.683901 2.12132 2.12132 \nC 2.683901 1.55874 3 0.795609 3 0 \nC 3 -0.795609 2.683901 -1.55874 2.12132 -2.12132 \nC 1.55874 -2.683901 0.795609 -3 0 -3 \nC -0.795609 -3 -1.55874 -2.683901 -2.12132 -2.12132 \nC -2.683901 -1.55874 -3 -0.795609 -3 0 \nC -3 0.795609 -2.683901 1.55874 -2.12132 2.12132 \nC -1.55874 2.683901 -0.795609 3 0 3 \nz\n\" id=\"m1468bd670e\" style=\"stroke:#1f77b4;\"/>\n    </defs>\n    <g clip-path=\"url(#p3fa759cf06)\">\n     <use style=\"fill:#1f77b4;stroke:#1f77b4;\" x=\"88.905852\" xlink:href=\"#m1468bd670e\" y=\"502.039715\"/>\n     <use style=\"fill:#1f77b4;stroke:#1f77b4;\" x=\"93.621704\" xlink:href=\"#m1468bd670e\" y=\"473.24678\"/>\n     <use style=\"fill:#1f77b4;stroke:#1f77b4;\" x=\"98.337556\" xlink:href=\"#m1468bd670e\" y=\"590.159833\"/>\n     <use style=\"fill:#1f77b4;stroke:#1f77b4;\" x=\"103.053408\" xlink:href=\"#m1468bd670e\" y=\"551.619655\"/>\n     <use style=\"fill:#1f77b4;stroke:#1f77b4;\" x=\"107.76926\" xlink:href=\"#m1468bd670e\" y=\"483.240359\"/>\n     <use style=\"fill:#1f77b4;stroke:#1f77b4;\" x=\"112.485112\" xlink:href=\"#m1468bd670e\" y=\"524.86355\"/>\n     <use style=\"fill:#1f77b4;stroke:#1f77b4;\" x=\"117.200964\" xlink:href=\"#m1468bd670e\" y=\"612.308109\"/>\n     <use style=\"fill:#1f77b4;stroke:#1f77b4;\" x=\"121.916816\" xlink:href=\"#m1468bd670e\" y=\"580.200159\"/>\n     <use style=\"fill:#1f77b4;stroke:#1f77b4;\" x=\"126.632668\" xlink:href=\"#m1468bd670e\" y=\"496.912537\"/>\n     <use style=\"fill:#1f77b4;stroke:#1f77b4;\" x=\"131.34852\" xlink:href=\"#m1468bd670e\" y=\"617.718928\"/>\n     <use style=\"fill:#1f77b4;stroke:#1f77b4;\" x=\"136.064372\" xlink:href=\"#m1468bd670e\" y=\"559.838397\"/>\n     <use style=\"fill:#1f77b4;stroke:#1f77b4;\" x=\"140.780224\" xlink:href=\"#m1468bd670e\" y=\"623.454032\"/>\n     <use style=\"fill:#1f77b4;stroke:#1f77b4;\" x=\"145.496076\" xlink:href=\"#m1468bd670e\" y=\"623.467429\"/>\n     <use style=\"fill:#1f77b4;stroke:#1f77b4;\" x=\"150.211928\" xlink:href=\"#m1468bd670e\" y=\"551.313038\"/>\n     <use style=\"fill:#1f77b4;stroke:#1f77b4;\" x=\"154.92778\" xlink:href=\"#m1468bd670e\" y=\"458.161367\"/>\n     <use style=\"fill:#1f77b4;stroke:#1f77b4;\" x=\"159.643632\" xlink:href=\"#m1468bd670e\" y=\"625.107389\"/>\n     <use style=\"fill:#1f77b4;stroke:#1f77b4;\" x=\"164.359484\" xlink:href=\"#m1468bd670e\" y=\"576.361772\"/>\n     <use style=\"fill:#1f77b4;stroke:#1f77b4;\" x=\"169.075336\" xlink:href=\"#m1468bd670e\" y=\"503.55296\"/>\n     <use style=\"fill:#1f77b4;stroke:#1f77b4;\" x=\"173.791188\" xlink:href=\"#m1468bd670e\" y=\"613.965476\"/>\n     <use style=\"fill:#1f77b4;stroke:#1f77b4;\" x=\"178.50704\" xlink:href=\"#m1468bd670e\" y=\"574.322128\"/>\n     <use style=\"fill:#1f77b4;stroke:#1f77b4;\" x=\"183.222892\" xlink:href=\"#m1468bd670e\" y=\"617.671056\"/>\n     <use style=\"fill:#1f77b4;stroke:#1f77b4;\" x=\"187.938744\" xlink:href=\"#m1468bd670e\" y=\"619.920987\"/>\n     <use style=\"fill:#1f77b4;stroke:#1f77b4;\" x=\"192.654596\" xlink:href=\"#m1468bd670e\" y=\"570.501846\"/>\n     <use style=\"fill:#1f77b4;stroke:#1f77b4;\" x=\"197.370448\" xlink:href=\"#m1468bd670e\" y=\"536.425839\"/>\n     <use style=\"fill:#1f77b4;stroke:#1f77b4;\" x=\"202.0863\" xlink:href=\"#m1468bd670e\" y=\"593.643564\"/>\n     <use style=\"fill:#1f77b4;stroke:#1f77b4;\" x=\"206.802152\" xlink:href=\"#m1468bd670e\" y=\"506.543416\"/>\n     <use style=\"fill:#1f77b4;stroke:#1f77b4;\" x=\"211.518004\" xlink:href=\"#m1468bd670e\" y=\"610.759769\"/>\n     <use style=\"fill:#1f77b4;stroke:#1f77b4;\" x=\"216.233856\" xlink:href=\"#m1468bd670e\" y=\"625.608162\"/>\n     <use style=\"fill:#1f77b4;stroke:#1f77b4;\" x=\"220.949708\" xlink:href=\"#m1468bd670e\" y=\"424.500089\"/>\n     <use style=\"fill:#1f77b4;stroke:#1f77b4;\" x=\"225.66556\" xlink:href=\"#m1468bd670e\" y=\"622.290964\"/>\n     <use style=\"fill:#1f77b4;stroke:#1f77b4;\" x=\"230.381412\" xlink:href=\"#m1468bd670e\" y=\"475.110766\"/>\n     <use style=\"fill:#1f77b4;stroke:#1f77b4;\" x=\"235.097264\" xlink:href=\"#m1468bd670e\" y=\"427.679183\"/>\n     <use style=\"fill:#1f77b4;stroke:#1f77b4;\" x=\"239.813116\" xlink:href=\"#m1468bd670e\" y=\"579.873489\"/>\n     <use style=\"fill:#1f77b4;stroke:#1f77b4;\" x=\"244.528968\" xlink:href=\"#m1468bd670e\" y=\"432.947527\"/>\n     <use style=\"fill:#1f77b4;stroke:#1f77b4;\" x=\"249.24482\" xlink:href=\"#m1468bd670e\" y=\"524.478696\"/>\n     <use style=\"fill:#1f77b4;stroke:#1f77b4;\" x=\"253.960672\" xlink:href=\"#m1468bd670e\" y=\"598.039428\"/>\n     <use style=\"fill:#1f77b4;stroke:#1f77b4;\" x=\"258.676524\" xlink:href=\"#m1468bd670e\" y=\"489.765519\"/>\n     <use style=\"fill:#1f77b4;stroke:#1f77b4;\" x=\"263.392376\" xlink:href=\"#m1468bd670e\" y=\"622.311058\"/>\n     <use style=\"fill:#1f77b4;stroke:#1f77b4;\" x=\"268.108228\" xlink:href=\"#m1468bd670e\" y=\"605.467083\"/>\n     <use style=\"fill:#1f77b4;stroke:#1f77b4;\" x=\"272.82408\" xlink:href=\"#m1468bd670e\" y=\"546.450077\"/>\n     <use style=\"fill:#1f77b4;stroke:#1f77b4;\" x=\"277.539932\" xlink:href=\"#m1468bd670e\" y=\"327.061453\"/>\n     <use style=\"fill:#1f77b4;stroke:#1f77b4;\" x=\"282.255784\" xlink:href=\"#m1468bd670e\" y=\"620.672741\"/>\n     <use style=\"fill:#1f77b4;stroke:#1f77b4;\" x=\"286.971636\" xlink:href=\"#m1468bd670e\" y=\"600.148078\"/>\n     <use style=\"fill:#1f77b4;stroke:#1f77b4;\" x=\"291.687488\" xlink:href=\"#m1468bd670e\" y=\"627.381278\"/>\n     <use style=\"fill:#1f77b4;stroke:#1f77b4;\" x=\"296.40334\" xlink:href=\"#m1468bd670e\" y=\"570.177441\"/>\n     <use style=\"fill:#1f77b4;stroke:#1f77b4;\" x=\"301.119192\" xlink:href=\"#m1468bd670e\" y=\"614.390755\"/>\n     <use style=\"fill:#1f77b4;stroke:#1f77b4;\" x=\"305.835044\" xlink:href=\"#m1468bd670e\" y=\"627.300079\"/>\n     <use style=\"fill:#1f77b4;stroke:#1f77b4;\" x=\"310.550896\" xlink:href=\"#m1468bd670e\" y=\"624.605541\"/>\n     <use style=\"fill:#1f77b4;stroke:#1f77b4;\" x=\"315.266748\" xlink:href=\"#m1468bd670e\" y=\"627.422646\"/>\n     <use style=\"fill:#1f77b4;stroke:#1f77b4;\" x=\"319.9826\" xlink:href=\"#m1468bd670e\" y=\"598.261309\"/>\n     <use style=\"fill:#1f77b4;stroke:#1f77b4;\" x=\"324.698452\" xlink:href=\"#m1468bd670e\" y=\"603.167232\"/>\n     <use style=\"fill:#1f77b4;stroke:#1f77b4;\" x=\"329.414304\" xlink:href=\"#m1468bd670e\" y=\"587.616122\"/>\n     <use style=\"fill:#1f77b4;stroke:#1f77b4;\" x=\"334.130156\" xlink:href=\"#m1468bd670e\" y=\"620.145511\"/>\n     <use style=\"fill:#1f77b4;stroke:#1f77b4;\" x=\"338.846008\" xlink:href=\"#m1468bd670e\" y=\"599.971147\"/>\n     <use style=\"fill:#1f77b4;stroke:#1f77b4;\" x=\"343.56186\" xlink:href=\"#m1468bd670e\" y=\"623.320852\"/>\n     <use style=\"fill:#1f77b4;stroke:#1f77b4;\" x=\"348.277712\" xlink:href=\"#m1468bd670e\" y=\"624.131027\"/>\n     <use style=\"fill:#1f77b4;stroke:#1f77b4;\" x=\"352.993564\" xlink:href=\"#m1468bd670e\" y=\"522.209793\"/>\n     <use style=\"fill:#1f77b4;stroke:#1f77b4;\" x=\"357.709416\" xlink:href=\"#m1468bd670e\" y=\"420.120303\"/>\n     <use style=\"fill:#1f77b4;stroke:#1f77b4;\" x=\"362.425268\" xlink:href=\"#m1468bd670e\" y=\"599.260086\"/>\n     <use style=\"fill:#1f77b4;stroke:#1f77b4;\" x=\"367.14112\" xlink:href=\"#m1468bd670e\" y=\"624.630294\"/>\n     <use style=\"fill:#1f77b4;stroke:#1f77b4;\" x=\"371.856972\" xlink:href=\"#m1468bd670e\" y=\"613.441124\"/>\n     <use style=\"fill:#1f77b4;stroke:#1f77b4;\" x=\"376.572823\" xlink:href=\"#m1468bd670e\" y=\"626.169557\"/>\n     <use style=\"fill:#1f77b4;stroke:#1f77b4;\" x=\"381.288675\" xlink:href=\"#m1468bd670e\" y=\"588.486076\"/>\n     <use style=\"fill:#1f77b4;stroke:#1f77b4;\" x=\"386.004527\" xlink:href=\"#m1468bd670e\" y=\"627.618833\"/>\n     <use style=\"fill:#1f77b4;stroke:#1f77b4;\" x=\"390.720379\" xlink:href=\"#m1468bd670e\" y=\"313.589254\"/>\n     <use style=\"fill:#1f77b4;stroke:#1f77b4;\" x=\"395.436231\" xlink:href=\"#m1468bd670e\" y=\"613.26538\"/>\n     <use style=\"fill:#1f77b4;stroke:#1f77b4;\" x=\"400.152083\" xlink:href=\"#m1468bd670e\" y=\"506.836723\"/>\n     <use style=\"fill:#1f77b4;stroke:#1f77b4;\" x=\"404.867935\" xlink:href=\"#m1468bd670e\" y=\"627.426661\"/>\n     <use style=\"fill:#1f77b4;stroke:#1f77b4;\" x=\"409.583787\" xlink:href=\"#m1468bd670e\" y=\"627.021079\"/>\n     <use style=\"fill:#1f77b4;stroke:#1f77b4;\" x=\"414.299639\" xlink:href=\"#m1468bd670e\" y=\"627.582082\"/>\n     <use style=\"fill:#1f77b4;stroke:#1f77b4;\" x=\"419.015491\" xlink:href=\"#m1468bd670e\" y=\"626.678636\"/>\n     <use style=\"fill:#1f77b4;stroke:#1f77b4;\" x=\"423.731343\" xlink:href=\"#m1468bd670e\" y=\"627.622969\"/>\n     <use style=\"fill:#1f77b4;stroke:#1f77b4;\" x=\"428.447195\" xlink:href=\"#m1468bd670e\" y=\"608.38822\"/>\n     <use style=\"fill:#1f77b4;stroke:#1f77b4;\" x=\"433.163047\" xlink:href=\"#m1468bd670e\" y=\"627.628529\"/>\n     <use style=\"fill:#1f77b4;stroke:#1f77b4;\" x=\"437.878899\" xlink:href=\"#m1468bd670e\" y=\"627.624507\"/>\n     <use style=\"fill:#1f77b4;stroke:#1f77b4;\" x=\"442.594751\" xlink:href=\"#m1468bd670e\" y=\"576.365209\"/>\n     <use style=\"fill:#1f77b4;stroke:#1f77b4;\" x=\"447.310603\" xlink:href=\"#m1468bd670e\" y=\"601.870833\"/>\n     <use style=\"fill:#1f77b4;stroke:#1f77b4;\" x=\"452.026455\" xlink:href=\"#m1468bd670e\" y=\"627.634537\"/>\n     <use style=\"fill:#1f77b4;stroke:#1f77b4;\" x=\"456.742307\" xlink:href=\"#m1468bd670e\" y=\"603.789924\"/>\n     <use style=\"fill:#1f77b4;stroke:#1f77b4;\" x=\"461.458159\" xlink:href=\"#m1468bd670e\" y=\"627.606813\"/>\n     <use style=\"fill:#1f77b4;stroke:#1f77b4;\" x=\"466.174011\" xlink:href=\"#m1468bd670e\" y=\"617.173069\"/>\n     <use style=\"fill:#1f77b4;stroke:#1f77b4;\" x=\"470.889863\" xlink:href=\"#m1468bd670e\" y=\"627.557766\"/>\n     <use style=\"fill:#1f77b4;stroke:#1f77b4;\" x=\"475.605715\" xlink:href=\"#m1468bd670e\" y=\"627.541779\"/>\n     <use style=\"fill:#1f77b4;stroke:#1f77b4;\" x=\"480.321567\" xlink:href=\"#m1468bd670e\" y=\"627.234153\"/>\n     <use style=\"fill:#1f77b4;stroke:#1f77b4;\" x=\"485.037419\" xlink:href=\"#m1468bd670e\" y=\"624.799342\"/>\n     <use style=\"fill:#1f77b4;stroke:#1f77b4;\" x=\"489.753271\" xlink:href=\"#m1468bd670e\" y=\"626.941571\"/>\n     <use style=\"fill:#1f77b4;stroke:#1f77b4;\" x=\"494.469123\" xlink:href=\"#m1468bd670e\" y=\"470.766099\"/>\n     <use style=\"fill:#1f77b4;stroke:#1f77b4;\" x=\"499.184975\" xlink:href=\"#m1468bd670e\" y=\"627.448102\"/>\n     <use style=\"fill:#1f77b4;stroke:#1f77b4;\" x=\"503.900827\" xlink:href=\"#m1468bd670e\" y=\"606.19916\"/>\n     <use style=\"fill:#1f77b4;stroke:#1f77b4;\" x=\"508.616679\" xlink:href=\"#m1468bd670e\" y=\"471.778588\"/>\n     <use style=\"fill:#1f77b4;stroke:#1f77b4;\" x=\"513.332531\" xlink:href=\"#m1468bd670e\" y=\"627.566029\"/>\n     <use style=\"fill:#1f77b4;stroke:#1f77b4;\" x=\"518.048383\" xlink:href=\"#m1468bd670e\" y=\"627.095913\"/>\n     <use style=\"fill:#1f77b4;stroke:#1f77b4;\" x=\"522.764235\" xlink:href=\"#m1468bd670e\" y=\"627.489038\"/>\n     <use style=\"fill:#1f77b4;stroke:#1f77b4;\" x=\"527.480087\" xlink:href=\"#m1468bd670e\" y=\"622.816742\"/>\n     <use style=\"fill:#1f77b4;stroke:#1f77b4;\" x=\"532.195939\" xlink:href=\"#m1468bd670e\" y=\"292.623488\"/>\n     <use style=\"fill:#1f77b4;stroke:#1f77b4;\" x=\"536.911791\" xlink:href=\"#m1468bd670e\" y=\"486.532915\"/>\n     <use style=\"fill:#1f77b4;stroke:#1f77b4;\" x=\"541.627643\" xlink:href=\"#m1468bd670e\" y=\"598.475473\"/>\n     <use style=\"fill:#1f77b4;stroke:#1f77b4;\" x=\"546.343495\" xlink:href=\"#m1468bd670e\" y=\"626.6637\"/>\n     <use style=\"fill:#1f77b4;stroke:#1f77b4;\" x=\"551.059347\" xlink:href=\"#m1468bd670e\" y=\"538.984123\"/>\n     <use style=\"fill:#1f77b4;stroke:#1f77b4;\" x=\"555.775199\" xlink:href=\"#m1468bd670e\" y=\"627.55035\"/>\n     <use style=\"fill:#1f77b4;stroke:#1f77b4;\" x=\"560.491051\" xlink:href=\"#m1468bd670e\" y=\"619.084881\"/>\n     <use style=\"fill:#1f77b4;stroke:#1f77b4;\" x=\"565.206903\" xlink:href=\"#m1468bd670e\" y=\"624.497783\"/>\n     <use style=\"fill:#1f77b4;stroke:#1f77b4;\" x=\"569.922755\" xlink:href=\"#m1468bd670e\" y=\"305.111987\"/>\n     <use style=\"fill:#1f77b4;stroke:#1f77b4;\" x=\"574.638607\" xlink:href=\"#m1468bd670e\" y=\"291.793349\"/>\n     <use style=\"fill:#1f77b4;stroke:#1f77b4;\" x=\"579.354459\" xlink:href=\"#m1468bd670e\" y=\"619.274018\"/>\n     <use style=\"fill:#1f77b4;stroke:#1f77b4;\" x=\"584.070311\" xlink:href=\"#m1468bd670e\" y=\"627.060957\"/>\n     <use style=\"fill:#1f77b4;stroke:#1f77b4;\" x=\"588.786163\" xlink:href=\"#m1468bd670e\" y=\"627.392671\"/>\n     <use style=\"fill:#1f77b4;stroke:#1f77b4;\" x=\"593.502015\" xlink:href=\"#m1468bd670e\" y=\"626.165152\"/>\n     <use style=\"fill:#1f77b4;stroke:#1f77b4;\" x=\"598.217867\" xlink:href=\"#m1468bd670e\" y=\"627.635202\"/>\n     <use style=\"fill:#1f77b4;stroke:#1f77b4;\" x=\"602.933719\" xlink:href=\"#m1468bd670e\" y=\"625.87387\"/>\n     <use style=\"fill:#1f77b4;stroke:#1f77b4;\" x=\"607.649571\" xlink:href=\"#m1468bd670e\" y=\"627.621957\"/>\n     <use style=\"fill:#1f77b4;stroke:#1f77b4;\" x=\"612.365423\" xlink:href=\"#m1468bd670e\" y=\"627.580011\"/>\n     <use style=\"fill:#1f77b4;stroke:#1f77b4;\" x=\"617.081275\" xlink:href=\"#m1468bd670e\" y=\"626.288757\"/>\n     <use style=\"fill:#1f77b4;stroke:#1f77b4;\" x=\"621.797127\" xlink:href=\"#m1468bd670e\" y=\"627.635057\"/>\n     <use style=\"fill:#1f77b4;stroke:#1f77b4;\" x=\"626.512979\" xlink:href=\"#m1468bd670e\" y=\"599.487048\"/>\n     <use style=\"fill:#1f77b4;stroke:#1f77b4;\" x=\"631.228831\" xlink:href=\"#m1468bd670e\" y=\"494.871873\"/>\n     <use style=\"fill:#1f77b4;stroke:#1f77b4;\" x=\"635.944683\" xlink:href=\"#m1468bd670e\" y=\"620.216472\"/>\n     <use style=\"fill:#1f77b4;stroke:#1f77b4;\" x=\"640.660535\" xlink:href=\"#m1468bd670e\" y=\"627.633385\"/>\n     <use style=\"fill:#1f77b4;stroke:#1f77b4;\" x=\"645.376387\" xlink:href=\"#m1468bd670e\" y=\"402.675664\"/>\n     <use style=\"fill:#1f77b4;stroke:#1f77b4;\" x=\"650.092239\" xlink:href=\"#m1468bd670e\" y=\"627.490184\"/>\n     <use style=\"fill:#1f77b4;stroke:#1f77b4;\" x=\"654.808091\" xlink:href=\"#m1468bd670e\" y=\"627.631597\"/>\n     <use style=\"fill:#1f77b4;stroke:#1f77b4;\" x=\"659.523943\" xlink:href=\"#m1468bd670e\" y=\"618.91466\"/>\n     <use style=\"fill:#1f77b4;stroke:#1f77b4;\" x=\"664.239795\" xlink:href=\"#m1468bd670e\" y=\"627.635035\"/>\n     <use style=\"fill:#1f77b4;stroke:#1f77b4;\" x=\"668.955647\" xlink:href=\"#m1468bd670e\" y=\"627.043586\"/>\n     <use style=\"fill:#1f77b4;stroke:#1f77b4;\" x=\"673.671499\" xlink:href=\"#m1468bd670e\" y=\"626.745082\"/>\n     <use style=\"fill:#1f77b4;stroke:#1f77b4;\" x=\"678.387351\" xlink:href=\"#m1468bd670e\" y=\"619.438338\"/>\n     <use style=\"fill:#1f77b4;stroke:#1f77b4;\" x=\"683.103203\" xlink:href=\"#m1468bd670e\" y=\"570.367219\"/>\n     <use style=\"fill:#1f77b4;stroke:#1f77b4;\" x=\"687.819055\" xlink:href=\"#m1468bd670e\" y=\"627.424196\"/>\n     <use style=\"fill:#1f77b4;stroke:#1f77b4;\" x=\"692.534907\" xlink:href=\"#m1468bd670e\" y=\"108.744545\"/>\n     <use style=\"fill:#1f77b4;stroke:#1f77b4;\" x=\"697.250759\" xlink:href=\"#m1468bd670e\" y=\"592.552104\"/>\n     <use style=\"fill:#1f77b4;stroke:#1f77b4;\" x=\"701.966611\" xlink:href=\"#m1468bd670e\" y=\"627.635034\"/>\n     <use style=\"fill:#1f77b4;stroke:#1f77b4;\" x=\"706.682463\" xlink:href=\"#m1468bd670e\" y=\"545.713638\"/>\n     <use style=\"fill:#1f77b4;stroke:#1f77b4;\" x=\"711.398315\" xlink:href=\"#m1468bd670e\" y=\"627.629486\"/>\n     <use style=\"fill:#1f77b4;stroke:#1f77b4;\" x=\"716.114167\" xlink:href=\"#m1468bd670e\" y=\"305.998688\"/>\n     <use style=\"fill:#1f77b4;stroke:#1f77b4;\" x=\"720.830019\" xlink:href=\"#m1468bd670e\" y=\"619.236721\"/>\n     <use style=\"fill:#1f77b4;stroke:#1f77b4;\" x=\"725.545871\" xlink:href=\"#m1468bd670e\" y=\"626.784357\"/>\n     <use style=\"fill:#1f77b4;stroke:#1f77b4;\" x=\"730.261723\" xlink:href=\"#m1468bd670e\" y=\"627.199011\"/>\n     <use style=\"fill:#1f77b4;stroke:#1f77b4;\" x=\"734.977575\" xlink:href=\"#m1468bd670e\" y=\"625.196354\"/>\n     <use style=\"fill:#1f77b4;stroke:#1f77b4;\" x=\"739.693427\" xlink:href=\"#m1468bd670e\" y=\"253.932059\"/>\n     <use style=\"fill:#1f77b4;stroke:#1f77b4;\" x=\"744.409278\" xlink:href=\"#m1468bd670e\" y=\"591.07772\"/>\n     <use style=\"fill:#1f77b4;stroke:#1f77b4;\" x=\"749.12513\" xlink:href=\"#m1468bd670e\" y=\"627.612946\"/>\n     <use style=\"fill:#1f77b4;stroke:#1f77b4;\" x=\"753.840982\" xlink:href=\"#m1468bd670e\" y=\"627.595331\"/>\n     <use style=\"fill:#1f77b4;stroke:#1f77b4;\" x=\"758.556834\" xlink:href=\"#m1468bd670e\" y=\"597.443103\"/>\n     <use style=\"fill:#1f77b4;stroke:#1f77b4;\" x=\"763.272686\" xlink:href=\"#m1468bd670e\" y=\"624.274434\"/>\n     <use style=\"fill:#1f77b4;stroke:#1f77b4;\" x=\"767.988538\" xlink:href=\"#m1468bd670e\" y=\"627.598256\"/>\n     <use style=\"fill:#1f77b4;stroke:#1f77b4;\" x=\"772.70439\" xlink:href=\"#m1468bd670e\" y=\"379.701412\"/>\n     <use style=\"fill:#1f77b4;stroke:#1f77b4;\" x=\"777.420242\" xlink:href=\"#m1468bd670e\" y=\"627.635184\"/>\n     <use style=\"fill:#1f77b4;stroke:#1f77b4;\" x=\"782.136094\" xlink:href=\"#m1468bd670e\" y=\"485.592607\"/>\n     <use style=\"fill:#1f77b4;stroke:#1f77b4;\" x=\"786.851946\" xlink:href=\"#m1468bd670e\" y=\"627.60671\"/>\n     <use style=\"fill:#1f77b4;stroke:#1f77b4;\" x=\"791.567798\" xlink:href=\"#m1468bd670e\" y=\"627.631195\"/>\n     <use style=\"fill:#1f77b4;stroke:#1f77b4;\" x=\"796.28365\" xlink:href=\"#m1468bd670e\" y=\"627.403531\"/>\n     <use style=\"fill:#1f77b4;stroke:#1f77b4;\" x=\"800.999502\" xlink:href=\"#m1468bd670e\" y=\"627.049671\"/>\n     <use style=\"fill:#1f77b4;stroke:#1f77b4;\" x=\"805.715354\" xlink:href=\"#m1468bd670e\" y=\"627.634419\"/>\n     <use style=\"fill:#1f77b4;stroke:#1f77b4;\" x=\"810.431206\" xlink:href=\"#m1468bd670e\" y=\"594.447455\"/>\n     <use style=\"fill:#1f77b4;stroke:#1f77b4;\" x=\"815.147058\" xlink:href=\"#m1468bd670e\" y=\"627.634894\"/>\n     <use style=\"fill:#1f77b4;stroke:#1f77b4;\" x=\"819.86291\" xlink:href=\"#m1468bd670e\" y=\"326.905499\"/>\n     <use style=\"fill:#1f77b4;stroke:#1f77b4;\" x=\"824.578762\" xlink:href=\"#m1468bd670e\" y=\"620.381264\"/>\n     <use style=\"fill:#1f77b4;stroke:#1f77b4;\" x=\"829.294614\" xlink:href=\"#m1468bd670e\" y=\"627.634491\"/>\n     <use style=\"fill:#1f77b4;stroke:#1f77b4;\" x=\"834.010466\" xlink:href=\"#m1468bd670e\" y=\"624.861912\"/>\n     <use style=\"fill:#1f77b4;stroke:#1f77b4;\" x=\"838.726318\" xlink:href=\"#m1468bd670e\" y=\"523.227789\"/>\n     <use style=\"fill:#1f77b4;stroke:#1f77b4;\" x=\"843.44217\" xlink:href=\"#m1468bd670e\" y=\"626.309895\"/>\n     <use style=\"fill:#1f77b4;stroke:#1f77b4;\" x=\"848.158022\" xlink:href=\"#m1468bd670e\" y=\"627.635447\"/>\n     <use style=\"fill:#1f77b4;stroke:#1f77b4;\" x=\"852.873874\" xlink:href=\"#m1468bd670e\" y=\"627.101553\"/>\n     <use style=\"fill:#1f77b4;stroke:#1f77b4;\" x=\"857.589726\" xlink:href=\"#m1468bd670e\" y=\"627.635253\"/>\n     <use style=\"fill:#1f77b4;stroke:#1f77b4;\" x=\"862.305578\" xlink:href=\"#m1468bd670e\" y=\"476.528122\"/>\n     <use style=\"fill:#1f77b4;stroke:#1f77b4;\" x=\"867.02143\" xlink:href=\"#m1468bd670e\" y=\"627.432586\"/>\n     <use style=\"fill:#1f77b4;stroke:#1f77b4;\" x=\"871.737282\" xlink:href=\"#m1468bd670e\" y=\"627.572221\"/>\n     <use style=\"fill:#1f77b4;stroke:#1f77b4;\" x=\"876.453134\" xlink:href=\"#m1468bd670e\" y=\"627.619063\"/>\n     <use style=\"fill:#1f77b4;stroke:#1f77b4;\" x=\"881.168986\" xlink:href=\"#m1468bd670e\" y=\"304.715518\"/>\n     <use style=\"fill:#1f77b4;stroke:#1f77b4;\" x=\"885.884838\" xlink:href=\"#m1468bd670e\" y=\"627.517589\"/>\n     <use style=\"fill:#1f77b4;stroke:#1f77b4;\" x=\"890.60069\" xlink:href=\"#m1468bd670e\" y=\"627.634688\"/>\n     <use style=\"fill:#1f77b4;stroke:#1f77b4;\" x=\"895.316542\" xlink:href=\"#m1468bd670e\" y=\"600.058076\"/>\n     <use style=\"fill:#1f77b4;stroke:#1f77b4;\" x=\"900.032394\" xlink:href=\"#m1468bd670e\" y=\"627.097057\"/>\n     <use style=\"fill:#1f77b4;stroke:#1f77b4;\" x=\"904.748246\" xlink:href=\"#m1468bd670e\" y=\"627.631037\"/>\n     <use style=\"fill:#1f77b4;stroke:#1f77b4;\" x=\"909.464098\" xlink:href=\"#m1468bd670e\" y=\"622.419886\"/>\n     <use style=\"fill:#1f77b4;stroke:#1f77b4;\" x=\"914.17995\" xlink:href=\"#m1468bd670e\" y=\"627.626493\"/>\n     <use style=\"fill:#1f77b4;stroke:#1f77b4;\" x=\"918.895802\" xlink:href=\"#m1468bd670e\" y=\"626.202513\"/>\n     <use style=\"fill:#1f77b4;stroke:#1f77b4;\" x=\"923.611654\" xlink:href=\"#m1468bd670e\" y=\"612.625667\"/>\n     <use style=\"fill:#1f77b4;stroke:#1f77b4;\" x=\"928.327506\" xlink:href=\"#m1468bd670e\" y=\"626.155688\"/>\n     <use style=\"fill:#1f77b4;stroke:#1f77b4;\" x=\"933.043358\" xlink:href=\"#m1468bd670e\" y=\"545.936756\"/>\n     <use style=\"fill:#1f77b4;stroke:#1f77b4;\" x=\"937.75921\" xlink:href=\"#m1468bd670e\" y=\"605.618108\"/>\n     <use style=\"fill:#1f77b4;stroke:#1f77b4;\" x=\"942.475062\" xlink:href=\"#m1468bd670e\" y=\"626.390547\"/>\n     <use style=\"fill:#1f77b4;stroke:#1f77b4;\" x=\"947.190914\" xlink:href=\"#m1468bd670e\" y=\"627.635455\"/>\n     <use style=\"fill:#1f77b4;stroke:#1f77b4;\" x=\"951.906766\" xlink:href=\"#m1468bd670e\" y=\"627.285021\"/>\n     <use style=\"fill:#1f77b4;stroke:#1f77b4;\" x=\"956.622618\" xlink:href=\"#m1468bd670e\" y=\"626.118846\"/>\n     <use style=\"fill:#1f77b4;stroke:#1f77b4;\" x=\"961.33847\" xlink:href=\"#m1468bd670e\" y=\"627.635179\"/>\n     <use style=\"fill:#1f77b4;stroke:#1f77b4;\" x=\"966.054322\" xlink:href=\"#m1468bd670e\" y=\"627.631728\"/>\n     <use style=\"fill:#1f77b4;stroke:#1f77b4;\" x=\"970.770174\" xlink:href=\"#m1468bd670e\" y=\"627.635183\"/>\n     <use style=\"fill:#1f77b4;stroke:#1f77b4;\" x=\"975.486026\" xlink:href=\"#m1468bd670e\" y=\"555.029177\"/>\n     <use style=\"fill:#1f77b4;stroke:#1f77b4;\" x=\"980.201878\" xlink:href=\"#m1468bd670e\" y=\"627.606875\"/>\n     <use style=\"fill:#1f77b4;stroke:#1f77b4;\" x=\"984.91773\" xlink:href=\"#m1468bd670e\" y=\"627.612308\"/>\n     <use style=\"fill:#1f77b4;stroke:#1f77b4;\" x=\"989.633582\" xlink:href=\"#m1468bd670e\" y=\"625.080548\"/>\n     <use style=\"fill:#1f77b4;stroke:#1f77b4;\" x=\"994.349434\" xlink:href=\"#m1468bd670e\" y=\"539.207578\"/>\n     <use style=\"fill:#1f77b4;stroke:#1f77b4;\" x=\"999.065286\" xlink:href=\"#m1468bd670e\" y=\"627.631782\"/>\n     <use style=\"fill:#1f77b4;stroke:#1f77b4;\" x=\"1003.781138\" xlink:href=\"#m1468bd670e\" y=\"626.683887\"/>\n     <use style=\"fill:#1f77b4;stroke:#1f77b4;\" x=\"1008.49699\" xlink:href=\"#m1468bd670e\" y=\"627.634988\"/>\n     <use style=\"fill:#1f77b4;stroke:#1f77b4;\" x=\"1013.212842\" xlink:href=\"#m1468bd670e\" y=\"627.634536\"/>\n     <use style=\"fill:#1f77b4;stroke:#1f77b4;\" x=\"1017.928694\" xlink:href=\"#m1468bd670e\" y=\"627.628756\"/>\n     <use style=\"fill:#1f77b4;stroke:#1f77b4;\" x=\"1022.644546\" xlink:href=\"#m1468bd670e\" y=\"627.586729\"/>\n     <use style=\"fill:#1f77b4;stroke:#1f77b4;\" x=\"1027.360398\" xlink:href=\"#m1468bd670e\" y=\"627.619767\"/>\n    </g>\n   </g>\n   <g id=\"matplotlib.axis_1\">\n    <g id=\"xtick_1\">\n     <g id=\"line2d_1\">\n      <defs>\n       <path d=\"M 0 0 \nL 0 3.5 \n\" id=\"m7b87cf0777\" style=\"stroke:#000000;stroke-width:0.8;\"/>\n      </defs>\n      <g>\n       <use style=\"stroke:#000000;stroke-width:0.8;\" x=\"88.905852\" xlink:href=\"#m7b87cf0777\" y=\"653.58\"/>\n      </g>\n     </g>\n     <g id=\"text_1\">\n      <!-- 0 -->\n      <g transform=\"translate(85.724602 668.178437)scale(0.1 -0.1)\">\n       <defs>\n        <path d=\"M 31.78125 66.40625 \nQ 24.171875 66.40625 20.328125 58.90625 \nQ 16.5 51.421875 16.5 36.375 \nQ 16.5 21.390625 20.328125 13.890625 \nQ 24.171875 6.390625 31.78125 6.390625 \nQ 39.453125 6.390625 43.28125 13.890625 \nQ 47.125 21.390625 47.125 36.375 \nQ 47.125 51.421875 43.28125 58.90625 \nQ 39.453125 66.40625 31.78125 66.40625 \nz\nM 31.78125 74.21875 \nQ 44.046875 74.21875 50.515625 64.515625 \nQ 56.984375 54.828125 56.984375 36.375 \nQ 56.984375 17.96875 50.515625 8.265625 \nQ 44.046875 -1.421875 31.78125 -1.421875 \nQ 19.53125 -1.421875 13.0625 8.265625 \nQ 6.59375 17.96875 6.59375 36.375 \nQ 6.59375 54.828125 13.0625 64.515625 \nQ 19.53125 74.21875 31.78125 74.21875 \nz\n\" id=\"DejaVuSans-48\"/>\n       </defs>\n       <use xlink:href=\"#DejaVuSans-48\"/>\n      </g>\n     </g>\n    </g>\n    <g id=\"xtick_2\">\n     <g id=\"line2d_2\">\n      <g>\n       <use style=\"stroke:#000000;stroke-width:0.8;\" x=\"206.802152\" xlink:href=\"#m7b87cf0777\" y=\"653.58\"/>\n      </g>\n     </g>\n     <g id=\"text_2\">\n      <!-- 25 -->\n      <g transform=\"translate(200.439652 668.178437)scale(0.1 -0.1)\">\n       <defs>\n        <path d=\"M 19.1875 8.296875 \nL 53.609375 8.296875 \nL 53.609375 0 \nL 7.328125 0 \nL 7.328125 8.296875 \nQ 12.9375 14.109375 22.625 23.890625 \nQ 32.328125 33.6875 34.8125 36.53125 \nQ 39.546875 41.84375 41.421875 45.53125 \nQ 43.3125 49.21875 43.3125 52.78125 \nQ 43.3125 58.59375 39.234375 62.25 \nQ 35.15625 65.921875 28.609375 65.921875 \nQ 23.96875 65.921875 18.8125 64.3125 \nQ 13.671875 62.703125 7.8125 59.421875 \nL 7.8125 69.390625 \nQ 13.765625 71.78125 18.9375 73 \nQ 24.125 74.21875 28.421875 74.21875 \nQ 39.75 74.21875 46.484375 68.546875 \nQ 53.21875 62.890625 53.21875 53.421875 \nQ 53.21875 48.921875 51.53125 44.890625 \nQ 49.859375 40.875 45.40625 35.40625 \nQ 44.1875 33.984375 37.640625 27.21875 \nQ 31.109375 20.453125 19.1875 8.296875 \nz\n\" id=\"DejaVuSans-50\"/>\n        <path d=\"M 10.796875 72.90625 \nL 49.515625 72.90625 \nL 49.515625 64.59375 \nL 19.828125 64.59375 \nL 19.828125 46.734375 \nQ 21.96875 47.46875 24.109375 47.828125 \nQ 26.265625 48.1875 28.421875 48.1875 \nQ 40.625 48.1875 47.75 41.5 \nQ 54.890625 34.8125 54.890625 23.390625 \nQ 54.890625 11.625 47.5625 5.09375 \nQ 40.234375 -1.421875 26.90625 -1.421875 \nQ 22.3125 -1.421875 17.546875 -0.640625 \nQ 12.796875 0.140625 7.71875 1.703125 \nL 7.71875 11.625 \nQ 12.109375 9.234375 16.796875 8.0625 \nQ 21.484375 6.890625 26.703125 6.890625 \nQ 35.15625 6.890625 40.078125 11.328125 \nQ 45.015625 15.765625 45.015625 23.390625 \nQ 45.015625 31 40.078125 35.4375 \nQ 35.15625 39.890625 26.703125 39.890625 \nQ 22.75 39.890625 18.8125 39.015625 \nQ 14.890625 38.140625 10.796875 36.28125 \nz\n\" id=\"DejaVuSans-53\"/>\n       </defs>\n       <use xlink:href=\"#DejaVuSans-50\"/>\n       <use x=\"63.623047\" xlink:href=\"#DejaVuSans-53\"/>\n      </g>\n     </g>\n    </g>\n    <g id=\"xtick_3\">\n     <g id=\"line2d_3\">\n      <g>\n       <use style=\"stroke:#000000;stroke-width:0.8;\" x=\"324.698452\" xlink:href=\"#m7b87cf0777\" y=\"653.58\"/>\n      </g>\n     </g>\n     <g id=\"text_3\">\n      <!-- 50 -->\n      <g transform=\"translate(318.335952 668.178437)scale(0.1 -0.1)\">\n       <use xlink:href=\"#DejaVuSans-53\"/>\n       <use x=\"63.623047\" xlink:href=\"#DejaVuSans-48\"/>\n      </g>\n     </g>\n    </g>\n    <g id=\"xtick_4\">\n     <g id=\"line2d_4\">\n      <g>\n       <use style=\"stroke:#000000;stroke-width:0.8;\" x=\"442.594751\" xlink:href=\"#m7b87cf0777\" y=\"653.58\"/>\n      </g>\n     </g>\n     <g id=\"text_4\">\n      <!-- 75 -->\n      <g transform=\"translate(436.232251 668.178437)scale(0.1 -0.1)\">\n       <defs>\n        <path d=\"M 8.203125 72.90625 \nL 55.078125 72.90625 \nL 55.078125 68.703125 \nL 28.609375 0 \nL 18.3125 0 \nL 43.21875 64.59375 \nL 8.203125 64.59375 \nz\n\" id=\"DejaVuSans-55\"/>\n       </defs>\n       <use xlink:href=\"#DejaVuSans-55\"/>\n       <use x=\"63.623047\" xlink:href=\"#DejaVuSans-53\"/>\n      </g>\n     </g>\n    </g>\n    <g id=\"xtick_5\">\n     <g id=\"line2d_5\">\n      <g>\n       <use style=\"stroke:#000000;stroke-width:0.8;\" x=\"560.491051\" xlink:href=\"#m7b87cf0777\" y=\"653.58\"/>\n      </g>\n     </g>\n     <g id=\"text_5\">\n      <!-- 100 -->\n      <g transform=\"translate(550.947301 668.178437)scale(0.1 -0.1)\">\n       <defs>\n        <path d=\"M 12.40625 8.296875 \nL 28.515625 8.296875 \nL 28.515625 63.921875 \nL 10.984375 60.40625 \nL 10.984375 69.390625 \nL 28.421875 72.90625 \nL 38.28125 72.90625 \nL 38.28125 8.296875 \nL 54.390625 8.296875 \nL 54.390625 0 \nL 12.40625 0 \nz\n\" id=\"DejaVuSans-49\"/>\n       </defs>\n       <use xlink:href=\"#DejaVuSans-49\"/>\n       <use x=\"63.623047\" xlink:href=\"#DejaVuSans-48\"/>\n       <use x=\"127.246094\" xlink:href=\"#DejaVuSans-48\"/>\n      </g>\n     </g>\n    </g>\n    <g id=\"xtick_6\">\n     <g id=\"line2d_6\">\n      <g>\n       <use style=\"stroke:#000000;stroke-width:0.8;\" x=\"678.387351\" xlink:href=\"#m7b87cf0777\" y=\"653.58\"/>\n      </g>\n     </g>\n     <g id=\"text_6\">\n      <!-- 125 -->\n      <g transform=\"translate(668.843601 668.178437)scale(0.1 -0.1)\">\n       <use xlink:href=\"#DejaVuSans-49\"/>\n       <use x=\"63.623047\" xlink:href=\"#DejaVuSans-50\"/>\n       <use x=\"127.246094\" xlink:href=\"#DejaVuSans-53\"/>\n      </g>\n     </g>\n    </g>\n    <g id=\"xtick_7\">\n     <g id=\"line2d_7\">\n      <g>\n       <use style=\"stroke:#000000;stroke-width:0.8;\" x=\"796.28365\" xlink:href=\"#m7b87cf0777\" y=\"653.58\"/>\n      </g>\n     </g>\n     <g id=\"text_7\">\n      <!-- 150 -->\n      <g transform=\"translate(786.7399 668.178437)scale(0.1 -0.1)\">\n       <use xlink:href=\"#DejaVuSans-49\"/>\n       <use x=\"63.623047\" xlink:href=\"#DejaVuSans-53\"/>\n       <use x=\"127.246094\" xlink:href=\"#DejaVuSans-48\"/>\n      </g>\n     </g>\n    </g>\n    <g id=\"xtick_8\">\n     <g id=\"line2d_8\">\n      <g>\n       <use style=\"stroke:#000000;stroke-width:0.8;\" x=\"914.17995\" xlink:href=\"#m7b87cf0777\" y=\"653.58\"/>\n      </g>\n     </g>\n     <g id=\"text_8\">\n      <!-- 175 -->\n      <g transform=\"translate(904.6362 668.178437)scale(0.1 -0.1)\">\n       <use xlink:href=\"#DejaVuSans-49\"/>\n       <use x=\"63.623047\" xlink:href=\"#DejaVuSans-55\"/>\n       <use x=\"127.246094\" xlink:href=\"#DejaVuSans-53\"/>\n      </g>\n     </g>\n    </g>\n    <g id=\"xtick_9\">\n     <g id=\"line2d_9\">\n      <g>\n       <use style=\"stroke:#000000;stroke-width:0.8;\" x=\"1032.07625\" xlink:href=\"#m7b87cf0777\" y=\"653.58\"/>\n      </g>\n     </g>\n     <g id=\"text_9\">\n      <!-- 200 -->\n      <g transform=\"translate(1022.5325 668.178437)scale(0.1 -0.1)\">\n       <use xlink:href=\"#DejaVuSans-50\"/>\n       <use x=\"63.623047\" xlink:href=\"#DejaVuSans-48\"/>\n       <use x=\"127.246094\" xlink:href=\"#DejaVuSans-48\"/>\n      </g>\n     </g>\n    </g>\n    <g id=\"text_10\">\n     <!-- Epochs -->\n     <g transform=\"translate(525.885 687.935313)scale(0.18 -0.18)\">\n      <defs>\n       <path d=\"M 9.8125 72.90625 \nL 55.90625 72.90625 \nL 55.90625 64.59375 \nL 19.671875 64.59375 \nL 19.671875 43.015625 \nL 54.390625 43.015625 \nL 54.390625 34.71875 \nL 19.671875 34.71875 \nL 19.671875 8.296875 \nL 56.78125 8.296875 \nL 56.78125 0 \nL 9.8125 0 \nz\n\" id=\"DejaVuSans-69\"/>\n       <path d=\"M 18.109375 8.203125 \nL 18.109375 -20.796875 \nL 9.078125 -20.796875 \nL 9.078125 54.6875 \nL 18.109375 54.6875 \nL 18.109375 46.390625 \nQ 20.953125 51.265625 25.265625 53.625 \nQ 29.59375 56 35.59375 56 \nQ 45.5625 56 51.78125 48.09375 \nQ 58.015625 40.1875 58.015625 27.296875 \nQ 58.015625 14.40625 51.78125 6.484375 \nQ 45.5625 -1.421875 35.59375 -1.421875 \nQ 29.59375 -1.421875 25.265625 0.953125 \nQ 20.953125 3.328125 18.109375 8.203125 \nz\nM 48.6875 27.296875 \nQ 48.6875 37.203125 44.609375 42.84375 \nQ 40.53125 48.484375 33.40625 48.484375 \nQ 26.265625 48.484375 22.1875 42.84375 \nQ 18.109375 37.203125 18.109375 27.296875 \nQ 18.109375 17.390625 22.1875 11.75 \nQ 26.265625 6.109375 33.40625 6.109375 \nQ 40.53125 6.109375 44.609375 11.75 \nQ 48.6875 17.390625 48.6875 27.296875 \nz\n\" id=\"DejaVuSans-112\"/>\n       <path d=\"M 30.609375 48.390625 \nQ 23.390625 48.390625 19.1875 42.75 \nQ 14.984375 37.109375 14.984375 27.296875 \nQ 14.984375 17.484375 19.15625 11.84375 \nQ 23.34375 6.203125 30.609375 6.203125 \nQ 37.796875 6.203125 41.984375 11.859375 \nQ 46.1875 17.53125 46.1875 27.296875 \nQ 46.1875 37.015625 41.984375 42.703125 \nQ 37.796875 48.390625 30.609375 48.390625 \nz\nM 30.609375 56 \nQ 42.328125 56 49.015625 48.375 \nQ 55.71875 40.765625 55.71875 27.296875 \nQ 55.71875 13.875 49.015625 6.21875 \nQ 42.328125 -1.421875 30.609375 -1.421875 \nQ 18.84375 -1.421875 12.171875 6.21875 \nQ 5.515625 13.875 5.515625 27.296875 \nQ 5.515625 40.765625 12.171875 48.375 \nQ 18.84375 56 30.609375 56 \nz\n\" id=\"DejaVuSans-111\"/>\n       <path d=\"M 48.78125 52.59375 \nL 48.78125 44.1875 \nQ 44.96875 46.296875 41.140625 47.34375 \nQ 37.3125 48.390625 33.40625 48.390625 \nQ 24.65625 48.390625 19.8125 42.84375 \nQ 14.984375 37.3125 14.984375 27.296875 \nQ 14.984375 17.28125 19.8125 11.734375 \nQ 24.65625 6.203125 33.40625 6.203125 \nQ 37.3125 6.203125 41.140625 7.25 \nQ 44.96875 8.296875 48.78125 10.40625 \nL 48.78125 2.09375 \nQ 45.015625 0.34375 40.984375 -0.53125 \nQ 36.96875 -1.421875 32.421875 -1.421875 \nQ 20.0625 -1.421875 12.78125 6.34375 \nQ 5.515625 14.109375 5.515625 27.296875 \nQ 5.515625 40.671875 12.859375 48.328125 \nQ 20.21875 56 33.015625 56 \nQ 37.15625 56 41.109375 55.140625 \nQ 45.0625 54.296875 48.78125 52.59375 \nz\n\" id=\"DejaVuSans-99\"/>\n       <path d=\"M 54.890625 33.015625 \nL 54.890625 0 \nL 45.90625 0 \nL 45.90625 32.71875 \nQ 45.90625 40.484375 42.875 44.328125 \nQ 39.84375 48.1875 33.796875 48.1875 \nQ 26.515625 48.1875 22.3125 43.546875 \nQ 18.109375 38.921875 18.109375 30.90625 \nL 18.109375 0 \nL 9.078125 0 \nL 9.078125 75.984375 \nL 18.109375 75.984375 \nL 18.109375 46.1875 \nQ 21.34375 51.125 25.703125 53.5625 \nQ 30.078125 56 35.796875 56 \nQ 45.21875 56 50.046875 50.171875 \nQ 54.890625 44.34375 54.890625 33.015625 \nz\n\" id=\"DejaVuSans-104\"/>\n       <path d=\"M 44.28125 53.078125 \nL 44.28125 44.578125 \nQ 40.484375 46.53125 36.375 47.5 \nQ 32.28125 48.484375 27.875 48.484375 \nQ 21.1875 48.484375 17.84375 46.4375 \nQ 14.5 44.390625 14.5 40.28125 \nQ 14.5 37.15625 16.890625 35.375 \nQ 19.28125 33.59375 26.515625 31.984375 \nL 29.59375 31.296875 \nQ 39.15625 29.25 43.1875 25.515625 \nQ 47.21875 21.78125 47.21875 15.09375 \nQ 47.21875 7.46875 41.1875 3.015625 \nQ 35.15625 -1.421875 24.609375 -1.421875 \nQ 20.21875 -1.421875 15.453125 -0.5625 \nQ 10.6875 0.296875 5.421875 2 \nL 5.421875 11.28125 \nQ 10.40625 8.6875 15.234375 7.390625 \nQ 20.0625 6.109375 24.8125 6.109375 \nQ 31.15625 6.109375 34.5625 8.28125 \nQ 37.984375 10.453125 37.984375 14.40625 \nQ 37.984375 18.0625 35.515625 20.015625 \nQ 33.0625 21.96875 24.703125 23.78125 \nL 21.578125 24.515625 \nQ 13.234375 26.265625 9.515625 29.90625 \nQ 5.8125 33.546875 5.8125 39.890625 \nQ 5.8125 47.609375 11.28125 51.796875 \nQ 16.75 56 26.8125 56 \nQ 31.78125 56 36.171875 55.265625 \nQ 40.578125 54.546875 44.28125 53.078125 \nz\n\" id=\"DejaVuSans-115\"/>\n      </defs>\n      <use xlink:href=\"#DejaVuSans-69\"/>\n      <use x=\"63.183594\" xlink:href=\"#DejaVuSans-112\"/>\n      <use x=\"126.660156\" xlink:href=\"#DejaVuSans-111\"/>\n      <use x=\"187.841797\" xlink:href=\"#DejaVuSans-99\"/>\n      <use x=\"242.822266\" xlink:href=\"#DejaVuSans-104\"/>\n      <use x=\"306.201172\" xlink:href=\"#DejaVuSans-115\"/>\n     </g>\n    </g>\n   </g>\n   <g id=\"matplotlib.axis_2\">\n    <g id=\"ytick_1\">\n     <g id=\"line2d_10\">\n      <defs>\n       <path d=\"M 0 0 \nL -3.5 0 \n\" id=\"m9db2780e3e\" style=\"stroke:#000000;stroke-width:0.8;\"/>\n      </defs>\n      <g>\n       <use style=\"stroke:#000000;stroke-width:0.8;\" x=\"41.983125\" xlink:href=\"#m9db2780e3e\" y=\"627.635456\"/>\n      </g>\n     </g>\n     <g id=\"text_11\">\n      <!-- 0 -->\n      <g transform=\"translate(28.620625 631.434675)scale(0.1 -0.1)\">\n       <use xlink:href=\"#DejaVuSans-48\"/>\n      </g>\n     </g>\n    </g>\n    <g id=\"ytick_2\">\n     <g id=\"line2d_11\">\n      <g>\n       <use style=\"stroke:#000000;stroke-width:0.8;\" x=\"41.983125\" xlink:href=\"#m9db2780e3e\" y=\"509.60646\"/>\n      </g>\n     </g>\n     <g id=\"text_12\">\n      <!-- 2 -->\n      <g transform=\"translate(28.620625 513.405679)scale(0.1 -0.1)\">\n       <use xlink:href=\"#DejaVuSans-50\"/>\n      </g>\n     </g>\n    </g>\n    <g id=\"ytick_3\">\n     <g id=\"line2d_12\">\n      <g>\n       <use style=\"stroke:#000000;stroke-width:0.8;\" x=\"41.983125\" xlink:href=\"#m9db2780e3e\" y=\"391.577465\"/>\n      </g>\n     </g>\n     <g id=\"text_13\">\n      <!-- 4 -->\n      <g transform=\"translate(28.620625 395.376684)scale(0.1 -0.1)\">\n       <defs>\n        <path d=\"M 37.796875 64.3125 \nL 12.890625 25.390625 \nL 37.796875 25.390625 \nz\nM 35.203125 72.90625 \nL 47.609375 72.90625 \nL 47.609375 25.390625 \nL 58.015625 25.390625 \nL 58.015625 17.1875 \nL 47.609375 17.1875 \nL 47.609375 0 \nL 37.796875 0 \nL 37.796875 17.1875 \nL 4.890625 17.1875 \nL 4.890625 26.703125 \nz\n\" id=\"DejaVuSans-52\"/>\n       </defs>\n       <use xlink:href=\"#DejaVuSans-52\"/>\n      </g>\n     </g>\n    </g>\n    <g id=\"ytick_4\">\n     <g id=\"line2d_13\">\n      <g>\n       <use style=\"stroke:#000000;stroke-width:0.8;\" x=\"41.983125\" xlink:href=\"#m9db2780e3e\" y=\"273.548469\"/>\n      </g>\n     </g>\n     <g id=\"text_14\">\n      <!-- 6 -->\n      <g transform=\"translate(28.620625 277.347688)scale(0.1 -0.1)\">\n       <defs>\n        <path d=\"M 33.015625 40.375 \nQ 26.375 40.375 22.484375 35.828125 \nQ 18.609375 31.296875 18.609375 23.390625 \nQ 18.609375 15.53125 22.484375 10.953125 \nQ 26.375 6.390625 33.015625 6.390625 \nQ 39.65625 6.390625 43.53125 10.953125 \nQ 47.40625 15.53125 47.40625 23.390625 \nQ 47.40625 31.296875 43.53125 35.828125 \nQ 39.65625 40.375 33.015625 40.375 \nz\nM 52.59375 71.296875 \nL 52.59375 62.3125 \nQ 48.875 64.0625 45.09375 64.984375 \nQ 41.3125 65.921875 37.59375 65.921875 \nQ 27.828125 65.921875 22.671875 59.328125 \nQ 17.53125 52.734375 16.796875 39.40625 \nQ 19.671875 43.65625 24.015625 45.921875 \nQ 28.375 48.1875 33.59375 48.1875 \nQ 44.578125 48.1875 50.953125 41.515625 \nQ 57.328125 34.859375 57.328125 23.390625 \nQ 57.328125 12.15625 50.6875 5.359375 \nQ 44.046875 -1.421875 33.015625 -1.421875 \nQ 20.359375 -1.421875 13.671875 8.265625 \nQ 6.984375 17.96875 6.984375 36.375 \nQ 6.984375 53.65625 15.1875 63.9375 \nQ 23.390625 74.21875 37.203125 74.21875 \nQ 40.921875 74.21875 44.703125 73.484375 \nQ 48.484375 72.75 52.59375 71.296875 \nz\n\" id=\"DejaVuSans-54\"/>\n       </defs>\n       <use xlink:href=\"#DejaVuSans-54\"/>\n      </g>\n     </g>\n    </g>\n    <g id=\"ytick_5\">\n     <g id=\"line2d_14\">\n      <g>\n       <use style=\"stroke:#000000;stroke-width:0.8;\" x=\"41.983125\" xlink:href=\"#m9db2780e3e\" y=\"155.519474\"/>\n      </g>\n     </g>\n     <g id=\"text_15\">\n      <!-- 8 -->\n      <g transform=\"translate(28.620625 159.318692)scale(0.1 -0.1)\">\n       <defs>\n        <path d=\"M 31.78125 34.625 \nQ 24.75 34.625 20.71875 30.859375 \nQ 16.703125 27.09375 16.703125 20.515625 \nQ 16.703125 13.921875 20.71875 10.15625 \nQ 24.75 6.390625 31.78125 6.390625 \nQ 38.8125 6.390625 42.859375 10.171875 \nQ 46.921875 13.96875 46.921875 20.515625 \nQ 46.921875 27.09375 42.890625 30.859375 \nQ 38.875 34.625 31.78125 34.625 \nz\nM 21.921875 38.8125 \nQ 15.578125 40.375 12.03125 44.71875 \nQ 8.5 49.078125 8.5 55.328125 \nQ 8.5 64.0625 14.71875 69.140625 \nQ 20.953125 74.21875 31.78125 74.21875 \nQ 42.671875 74.21875 48.875 69.140625 \nQ 55.078125 64.0625 55.078125 55.328125 \nQ 55.078125 49.078125 51.53125 44.71875 \nQ 48 40.375 41.703125 38.8125 \nQ 48.828125 37.15625 52.796875 32.3125 \nQ 56.78125 27.484375 56.78125 20.515625 \nQ 56.78125 9.90625 50.3125 4.234375 \nQ 43.84375 -1.421875 31.78125 -1.421875 \nQ 19.734375 -1.421875 13.25 4.234375 \nQ 6.78125 9.90625 6.78125 20.515625 \nQ 6.78125 27.484375 10.78125 32.3125 \nQ 14.796875 37.15625 21.921875 38.8125 \nz\nM 18.3125 54.390625 \nQ 18.3125 48.734375 21.84375 45.5625 \nQ 25.390625 42.390625 31.78125 42.390625 \nQ 38.140625 42.390625 41.71875 45.5625 \nQ 45.3125 48.734375 45.3125 54.390625 \nQ 45.3125 60.0625 41.71875 63.234375 \nQ 38.140625 66.40625 31.78125 66.40625 \nQ 25.390625 66.40625 21.84375 63.234375 \nQ 18.3125 60.0625 18.3125 54.390625 \nz\n\" id=\"DejaVuSans-56\"/>\n       </defs>\n       <use xlink:href=\"#DejaVuSans-56\"/>\n      </g>\n     </g>\n    </g>\n    <g id=\"text_16\">\n     <!-- Gradient Norm -->\n     <g transform=\"translate(20.877188 434.771719)rotate(-90)scale(0.18 -0.18)\">\n      <defs>\n       <path d=\"M 59.515625 10.40625 \nL 59.515625 29.984375 \nL 43.40625 29.984375 \nL 43.40625 38.09375 \nL 69.28125 38.09375 \nL 69.28125 6.78125 \nQ 63.578125 2.734375 56.6875 0.65625 \nQ 49.8125 -1.421875 42 -1.421875 \nQ 24.90625 -1.421875 15.25 8.5625 \nQ 5.609375 18.5625 5.609375 36.375 \nQ 5.609375 54.25 15.25 64.234375 \nQ 24.90625 74.21875 42 74.21875 \nQ 49.125 74.21875 55.546875 72.453125 \nQ 61.96875 70.703125 67.390625 67.28125 \nL 67.390625 56.78125 \nQ 61.921875 61.421875 55.765625 63.765625 \nQ 49.609375 66.109375 42.828125 66.109375 \nQ 29.4375 66.109375 22.71875 58.640625 \nQ 16.015625 51.171875 16.015625 36.375 \nQ 16.015625 21.625 22.71875 14.15625 \nQ 29.4375 6.6875 42.828125 6.6875 \nQ 48.046875 6.6875 52.140625 7.59375 \nQ 56.25 8.5 59.515625 10.40625 \nz\n\" id=\"DejaVuSans-71\"/>\n       <path d=\"M 41.109375 46.296875 \nQ 39.59375 47.171875 37.8125 47.578125 \nQ 36.03125 48 33.890625 48 \nQ 26.265625 48 22.1875 43.046875 \nQ 18.109375 38.09375 18.109375 28.8125 \nL 18.109375 0 \nL 9.078125 0 \nL 9.078125 54.6875 \nL 18.109375 54.6875 \nL 18.109375 46.1875 \nQ 20.953125 51.171875 25.484375 53.578125 \nQ 30.03125 56 36.53125 56 \nQ 37.453125 56 38.578125 55.875 \nQ 39.703125 55.765625 41.0625 55.515625 \nz\n\" id=\"DejaVuSans-114\"/>\n       <path d=\"M 34.28125 27.484375 \nQ 23.390625 27.484375 19.1875 25 \nQ 14.984375 22.515625 14.984375 16.5 \nQ 14.984375 11.71875 18.140625 8.90625 \nQ 21.296875 6.109375 26.703125 6.109375 \nQ 34.1875 6.109375 38.703125 11.40625 \nQ 43.21875 16.703125 43.21875 25.484375 \nL 43.21875 27.484375 \nz\nM 52.203125 31.203125 \nL 52.203125 0 \nL 43.21875 0 \nL 43.21875 8.296875 \nQ 40.140625 3.328125 35.546875 0.953125 \nQ 30.953125 -1.421875 24.3125 -1.421875 \nQ 15.921875 -1.421875 10.953125 3.296875 \nQ 6 8.015625 6 15.921875 \nQ 6 25.140625 12.171875 29.828125 \nQ 18.359375 34.515625 30.609375 34.515625 \nL 43.21875 34.515625 \nL 43.21875 35.40625 \nQ 43.21875 41.609375 39.140625 45 \nQ 35.0625 48.390625 27.6875 48.390625 \nQ 23 48.390625 18.546875 47.265625 \nQ 14.109375 46.140625 10.015625 43.890625 \nL 10.015625 52.203125 \nQ 14.9375 54.109375 19.578125 55.046875 \nQ 24.21875 56 28.609375 56 \nQ 40.484375 56 46.34375 49.84375 \nQ 52.203125 43.703125 52.203125 31.203125 \nz\n\" id=\"DejaVuSans-97\"/>\n       <path d=\"M 45.40625 46.390625 \nL 45.40625 75.984375 \nL 54.390625 75.984375 \nL 54.390625 0 \nL 45.40625 0 \nL 45.40625 8.203125 \nQ 42.578125 3.328125 38.25 0.953125 \nQ 33.9375 -1.421875 27.875 -1.421875 \nQ 17.96875 -1.421875 11.734375 6.484375 \nQ 5.515625 14.40625 5.515625 27.296875 \nQ 5.515625 40.1875 11.734375 48.09375 \nQ 17.96875 56 27.875 56 \nQ 33.9375 56 38.25 53.625 \nQ 42.578125 51.265625 45.40625 46.390625 \nz\nM 14.796875 27.296875 \nQ 14.796875 17.390625 18.875 11.75 \nQ 22.953125 6.109375 30.078125 6.109375 \nQ 37.203125 6.109375 41.296875 11.75 \nQ 45.40625 17.390625 45.40625 27.296875 \nQ 45.40625 37.203125 41.296875 42.84375 \nQ 37.203125 48.484375 30.078125 48.484375 \nQ 22.953125 48.484375 18.875 42.84375 \nQ 14.796875 37.203125 14.796875 27.296875 \nz\n\" id=\"DejaVuSans-100\"/>\n       <path d=\"M 9.421875 54.6875 \nL 18.40625 54.6875 \nL 18.40625 0 \nL 9.421875 0 \nz\nM 9.421875 75.984375 \nL 18.40625 75.984375 \nL 18.40625 64.59375 \nL 9.421875 64.59375 \nz\n\" id=\"DejaVuSans-105\"/>\n       <path d=\"M 56.203125 29.59375 \nL 56.203125 25.203125 \nL 14.890625 25.203125 \nQ 15.484375 15.921875 20.484375 11.0625 \nQ 25.484375 6.203125 34.421875 6.203125 \nQ 39.59375 6.203125 44.453125 7.46875 \nQ 49.3125 8.734375 54.109375 11.28125 \nL 54.109375 2.78125 \nQ 49.265625 0.734375 44.1875 -0.34375 \nQ 39.109375 -1.421875 33.890625 -1.421875 \nQ 20.796875 -1.421875 13.15625 6.1875 \nQ 5.515625 13.8125 5.515625 26.8125 \nQ 5.515625 40.234375 12.765625 48.109375 \nQ 20.015625 56 32.328125 56 \nQ 43.359375 56 49.78125 48.890625 \nQ 56.203125 41.796875 56.203125 29.59375 \nz\nM 47.21875 32.234375 \nQ 47.125 39.59375 43.09375 43.984375 \nQ 39.0625 48.390625 32.421875 48.390625 \nQ 24.90625 48.390625 20.390625 44.140625 \nQ 15.875 39.890625 15.1875 32.171875 \nz\n\" id=\"DejaVuSans-101\"/>\n       <path d=\"M 54.890625 33.015625 \nL 54.890625 0 \nL 45.90625 0 \nL 45.90625 32.71875 \nQ 45.90625 40.484375 42.875 44.328125 \nQ 39.84375 48.1875 33.796875 48.1875 \nQ 26.515625 48.1875 22.3125 43.546875 \nQ 18.109375 38.921875 18.109375 30.90625 \nL 18.109375 0 \nL 9.078125 0 \nL 9.078125 54.6875 \nL 18.109375 54.6875 \nL 18.109375 46.1875 \nQ 21.34375 51.125 25.703125 53.5625 \nQ 30.078125 56 35.796875 56 \nQ 45.21875 56 50.046875 50.171875 \nQ 54.890625 44.34375 54.890625 33.015625 \nz\n\" id=\"DejaVuSans-110\"/>\n       <path d=\"M 18.3125 70.21875 \nL 18.3125 54.6875 \nL 36.8125 54.6875 \nL 36.8125 47.703125 \nL 18.3125 47.703125 \nL 18.3125 18.015625 \nQ 18.3125 11.328125 20.140625 9.421875 \nQ 21.96875 7.515625 27.59375 7.515625 \nL 36.8125 7.515625 \nL 36.8125 0 \nL 27.59375 0 \nQ 17.1875 0 13.234375 3.875 \nQ 9.28125 7.765625 9.28125 18.015625 \nL 9.28125 47.703125 \nL 2.6875 47.703125 \nL 2.6875 54.6875 \nL 9.28125 54.6875 \nL 9.28125 70.21875 \nz\n\" id=\"DejaVuSans-116\"/>\n       <path id=\"DejaVuSans-32\"/>\n       <path d=\"M 9.8125 72.90625 \nL 23.09375 72.90625 \nL 55.421875 11.921875 \nL 55.421875 72.90625 \nL 64.984375 72.90625 \nL 64.984375 0 \nL 51.703125 0 \nL 19.390625 60.984375 \nL 19.390625 0 \nL 9.8125 0 \nz\n\" id=\"DejaVuSans-78\"/>\n       <path d=\"M 52 44.1875 \nQ 55.375 50.25 60.0625 53.125 \nQ 64.75 56 71.09375 56 \nQ 79.640625 56 84.28125 50.015625 \nQ 88.921875 44.046875 88.921875 33.015625 \nL 88.921875 0 \nL 79.890625 0 \nL 79.890625 32.71875 \nQ 79.890625 40.578125 77.09375 44.375 \nQ 74.3125 48.1875 68.609375 48.1875 \nQ 61.625 48.1875 57.5625 43.546875 \nQ 53.515625 38.921875 53.515625 30.90625 \nL 53.515625 0 \nL 44.484375 0 \nL 44.484375 32.71875 \nQ 44.484375 40.625 41.703125 44.40625 \nQ 38.921875 48.1875 33.109375 48.1875 \nQ 26.21875 48.1875 22.15625 43.53125 \nQ 18.109375 38.875 18.109375 30.90625 \nL 18.109375 0 \nL 9.078125 0 \nL 9.078125 54.6875 \nL 18.109375 54.6875 \nL 18.109375 46.1875 \nQ 21.1875 51.21875 25.484375 53.609375 \nQ 29.78125 56 35.6875 56 \nQ 41.65625 56 45.828125 52.96875 \nQ 50 49.953125 52 44.1875 \nz\n\" id=\"DejaVuSans-109\"/>\n      </defs>\n      <use xlink:href=\"#DejaVuSans-71\"/>\n      <use x=\"77.490234\" xlink:href=\"#DejaVuSans-114\"/>\n      <use x=\"118.603516\" xlink:href=\"#DejaVuSans-97\"/>\n      <use x=\"179.882812\" xlink:href=\"#DejaVuSans-100\"/>\n      <use x=\"243.359375\" xlink:href=\"#DejaVuSans-105\"/>\n      <use x=\"271.142578\" xlink:href=\"#DejaVuSans-101\"/>\n      <use x=\"332.666016\" xlink:href=\"#DejaVuSans-110\"/>\n      <use x=\"396.044922\" xlink:href=\"#DejaVuSans-116\"/>\n      <use x=\"435.253906\" xlink:href=\"#DejaVuSans-32\"/>\n      <use x=\"467.041016\" xlink:href=\"#DejaVuSans-78\"/>\n      <use x=\"541.845703\" xlink:href=\"#DejaVuSans-111\"/>\n      <use x=\"603.027344\" xlink:href=\"#DejaVuSans-114\"/>\n      <use x=\"642.390625\" xlink:href=\"#DejaVuSans-109\"/>\n     </g>\n    </g>\n   </g>\n   <g id=\"line2d_15\">\n    <path clip-path=\"url(#p3fa759cf06)\" d=\"M 88.905852 502.039715 \nL 93.621704 473.24678 \nL 98.337556 590.159833 \nL 103.053408 551.619655 \nL 107.76926 483.240359 \nL 112.485112 524.86355 \nL 117.200964 612.308109 \nL 121.916816 580.200159 \nL 126.632668 496.912537 \nL 131.34852 617.718928 \nL 136.064372 559.838397 \nL 140.780224 623.454032 \nL 145.496076 623.467429 \nL 150.211928 551.313038 \nL 154.92778 458.161367 \nL 159.643632 625.107389 \nL 164.359484 576.361772 \nL 169.075336 503.55296 \nL 173.791188 613.965476 \nL 178.50704 574.322128 \nL 183.222892 617.671056 \nL 187.938744 619.920987 \nL 192.654596 570.501846 \nL 197.370448 536.425839 \nL 202.0863 593.643564 \nL 206.802152 506.543416 \nL 211.518004 610.759769 \nL 216.233856 625.608162 \nL 220.949708 424.500089 \nL 225.66556 622.290964 \nL 230.381412 475.110766 \nL 235.097264 427.679183 \nL 239.813116 579.873489 \nL 244.528968 432.947527 \nL 249.24482 524.478696 \nL 253.960672 598.039428 \nL 258.676524 489.765519 \nL 263.392376 622.311058 \nL 268.108228 605.467083 \nL 272.82408 546.450077 \nL 277.539932 327.061453 \nL 282.255784 620.672741 \nL 286.971636 600.148078 \nL 291.687488 627.381278 \nL 296.40334 570.177441 \nL 301.119192 614.390755 \nL 305.835044 627.300079 \nL 310.550896 624.605541 \nL 315.266748 627.422646 \nL 319.9826 598.261309 \nL 324.698452 603.167232 \nL 329.414304 587.616122 \nL 334.130156 620.145511 \nL 338.846008 599.971147 \nL 343.56186 623.320852 \nL 348.277712 624.131027 \nL 357.709416 420.120303 \nL 362.425268 599.260086 \nL 367.14112 624.630294 \nL 371.856972 613.441124 \nL 376.572823 626.169557 \nL 381.288675 588.486076 \nL 386.004527 627.618833 \nL 390.720379 313.589254 \nL 395.436231 613.26538 \nL 400.152083 506.836723 \nL 404.867935 627.426661 \nL 409.583787 627.021079 \nL 414.299639 627.582082 \nL 419.015491 626.678636 \nL 423.731343 627.622969 \nL 428.447195 608.38822 \nL 433.163047 627.628529 \nL 437.878899 627.624507 \nL 442.594751 576.365209 \nL 452.026455 627.634537 \nL 456.742307 603.789924 \nL 461.458159 627.606813 \nL 466.174011 617.173069 \nL 470.889863 627.557766 \nL 475.605715 627.541779 \nL 480.321567 627.234153 \nL 485.037419 624.799342 \nL 489.753271 626.941571 \nL 494.469123 470.766099 \nL 499.184975 627.448102 \nL 503.900827 606.19916 \nL 508.616679 471.778588 \nL 513.332531 627.566029 \nL 518.048383 627.095913 \nL 522.764235 627.489038 \nL 527.480087 622.816742 \nL 532.195939 292.623488 \nL 536.911791 486.532915 \nL 541.627643 598.475473 \nL 546.343495 626.6637 \nL 551.059347 538.984123 \nL 555.775199 627.55035 \nL 560.491051 619.084881 \nL 565.206903 624.497783 \nL 569.922755 305.111987 \nL 574.638607 291.793349 \nL 579.354459 619.274018 \nL 584.070311 627.060957 \nL 588.786163 627.392671 \nL 593.502015 626.165152 \nL 598.217867 627.635202 \nL 602.933719 625.87387 \nL 607.649571 627.621957 \nL 612.365423 627.580011 \nL 617.081275 626.288757 \nL 621.797127 627.635057 \nL 626.512979 599.487048 \nL 631.228831 494.871873 \nL 635.944683 620.216472 \nL 640.660535 627.633385 \nL 645.376387 402.675664 \nL 650.092239 627.490184 \nL 654.808091 627.631597 \nL 659.523943 618.91466 \nL 664.239795 627.635035 \nL 668.955647 627.043586 \nL 673.671499 626.745082 \nL 678.387351 619.438338 \nL 683.103203 570.367219 \nL 687.819055 627.424196 \nL 692.534907 108.744545 \nL 697.250759 592.552104 \nL 701.966611 627.635034 \nL 706.682463 545.713638 \nL 711.398315 627.629486 \nL 716.114167 305.998688 \nL 720.830019 619.236721 \nL 725.545871 626.784357 \nL 730.261723 627.199011 \nL 734.977575 625.196354 \nL 739.693427 253.932059 \nL 744.409278 591.07772 \nL 749.12513 627.612946 \nL 753.840982 627.595331 \nL 758.556834 597.443103 \nL 763.272686 624.274434 \nL 767.988538 627.598256 \nL 772.70439 379.701412 \nL 777.420242 627.635184 \nL 782.136094 485.592607 \nL 786.851946 627.60671 \nL 791.567798 627.631195 \nL 796.28365 627.403531 \nL 800.999502 627.049671 \nL 805.715354 627.634419 \nL 810.431206 594.447455 \nL 815.147058 627.634894 \nL 819.86291 326.905499 \nL 824.578762 620.381264 \nL 829.294614 627.634491 \nL 834.010466 624.861912 \nL 838.726318 523.227789 \nL 843.44217 626.309895 \nL 848.158022 627.635447 \nL 852.873874 627.101553 \nL 857.589726 627.635253 \nL 862.305578 476.528122 \nL 867.02143 627.432586 \nL 876.453134 627.619063 \nL 881.168986 304.715518 \nL 885.884838 627.517589 \nL 890.60069 627.634688 \nL 895.316542 600.058076 \nL 900.032394 627.097057 \nL 904.748246 627.631037 \nL 909.464098 622.419886 \nL 914.17995 627.626493 \nL 918.895802 626.202513 \nL 923.611654 612.625667 \nL 928.327506 626.155688 \nL 933.043358 545.936756 \nL 937.75921 605.618108 \nL 942.475062 626.390547 \nL 947.190914 627.635455 \nL 951.906766 627.285021 \nL 956.622618 626.118846 \nL 961.33847 627.635179 \nL 970.770174 627.635183 \nL 975.486026 555.029177 \nL 980.201878 627.606875 \nL 984.91773 627.612308 \nL 989.633582 625.080548 \nL 994.349434 539.207578 \nL 999.065286 627.631782 \nL 1003.781138 626.683887 \nL 1008.49699 627.634988 \nL 1027.360398 627.619767 \nL 1027.360398 627.619767 \n\" style=\"fill:none;stroke:#1f77b4;stroke-linecap:square;stroke-width:1.5;\"/>\n   </g>\n   <g id=\"patch_3\">\n    <path d=\"M 41.983125 653.58 \nL 41.983125 82.8 \n\" style=\"fill:none;stroke:#000000;stroke-linecap:square;stroke-linejoin:miter;stroke-width:0.8;\"/>\n   </g>\n   <g id=\"patch_4\">\n    <path d=\"M 1074.283125 653.58 \nL 1074.283125 82.8 \n\" style=\"fill:none;stroke:#000000;stroke-linecap:square;stroke-linejoin:miter;stroke-width:0.8;\"/>\n   </g>\n   <g id=\"patch_5\">\n    <path d=\"M 41.983125 653.58 \nL 1074.283125 653.58 \n\" style=\"fill:none;stroke:#000000;stroke-linecap:square;stroke-linejoin:miter;stroke-width:0.8;\"/>\n   </g>\n   <g id=\"patch_6\">\n    <path d=\"M 41.983125 82.8 \nL 1074.283125 82.8 \n\" style=\"fill:none;stroke:#000000;stroke-linecap:square;stroke-linejoin:miter;stroke-width:0.8;\"/>\n   </g>\n  </g>\n  <g id=\"text_17\">\n   <!-- Gradient Norm vs Epochs -->\n   <g transform=\"translate(414.187812 22.396875)scale(0.2 -0.2)\">\n    <defs>\n     <path d=\"M 2.984375 54.6875 \nL 12.5 54.6875 \nL 29.59375 8.796875 \nL 46.6875 54.6875 \nL 56.203125 54.6875 \nL 35.6875 0 \nL 23.484375 0 \nz\n\" id=\"DejaVuSans-118\"/>\n    </defs>\n    <use xlink:href=\"#DejaVuSans-71\"/>\n    <use x=\"77.490234\" xlink:href=\"#DejaVuSans-114\"/>\n    <use x=\"118.603516\" xlink:href=\"#DejaVuSans-97\"/>\n    <use x=\"179.882812\" xlink:href=\"#DejaVuSans-100\"/>\n    <use x=\"243.359375\" xlink:href=\"#DejaVuSans-105\"/>\n    <use x=\"271.142578\" xlink:href=\"#DejaVuSans-101\"/>\n    <use x=\"332.666016\" xlink:href=\"#DejaVuSans-110\"/>\n    <use x=\"396.044922\" xlink:href=\"#DejaVuSans-116\"/>\n    <use x=\"435.253906\" xlink:href=\"#DejaVuSans-32\"/>\n    <use x=\"467.041016\" xlink:href=\"#DejaVuSans-78\"/>\n    <use x=\"541.845703\" xlink:href=\"#DejaVuSans-111\"/>\n    <use x=\"603.027344\" xlink:href=\"#DejaVuSans-114\"/>\n    <use x=\"642.390625\" xlink:href=\"#DejaVuSans-109\"/>\n    <use x=\"739.802734\" xlink:href=\"#DejaVuSans-32\"/>\n    <use x=\"771.589844\" xlink:href=\"#DejaVuSans-118\"/>\n    <use x=\"830.769531\" xlink:href=\"#DejaVuSans-115\"/>\n    <use x=\"882.869141\" xlink:href=\"#DejaVuSans-32\"/>\n    <use x=\"914.65625\" xlink:href=\"#DejaVuSans-69\"/>\n    <use x=\"977.839844\" xlink:href=\"#DejaVuSans-112\"/>\n    <use x=\"1041.316406\" xlink:href=\"#DejaVuSans-111\"/>\n    <use x=\"1102.498047\" xlink:href=\"#DejaVuSans-99\"/>\n    <use x=\"1157.478516\" xlink:href=\"#DejaVuSans-104\"/>\n    <use x=\"1220.857422\" xlink:href=\"#DejaVuSans-115\"/>\n   </g>\n  </g>\n </g>\n <defs>\n  <clipPath id=\"p3fa759cf06\">\n   <rect height=\"570.78\" width=\"1032.3\" x=\"41.983125\" y=\"82.8\"/>\n  </clipPath>\n </defs>\n</svg>\n",
      "image/png": "[encoded data removed]"
     },
     "metadata": {
      "needs_background": "light"
     }
    }
   ],
   "source": [
    "x = np.arange(len(gradien_vector))\n",
    "fig = plt.gcf()\n",
    "fig.set_size_inches(18.5, 10.5)\n",
    "fig.suptitle('Gradient Norm vs Epochs', fontsize=20)\n",
    "plt.xlabel('Epochs', fontsize=18)\n",
    "plt.ylabel('Gradient Norm', fontsize=18)\n",
    "plt.scatter(x,gradien_vector)\n",
    "plt.plot(x,gradien_vector)\n",
    "plt.savefig('Line_plot_gradient norm vs epochs.pdf')"
   ]
  },
  {
   "cell_type": "code",
   "execution_count": 37,
   "metadata": {},
   "outputs": [
    {
     "output_type": "display_data",
     "data": {
      "text/plain": "<Figure size 1332x756 with 1 Axes>",
      "image/svg+xml": "<?xml version=\"1.0\" encoding=\"utf-8\" standalone=\"no\"?>\n<!DOCTYPE svg PUBLIC \"-//W3C//DTD SVG 1.1//EN\"\n  \"http://www.w3.org/Graphics/SVG/1.1/DTD/svg11.dtd\">\n<!-- Created with matplotlib (https://matplotlib.org/) -->\n<svg height=\"698.87875pt\" version=\"1.1\" viewBox=\"0 0 1081.483125 698.87875\" width=\"1081.483125pt\" xmlns=\"http://www.w3.org/2000/svg\" xmlns:xlink=\"http://www.w3.org/1999/xlink\">\n <metadata>\n  <rdf:RDF xmlns:cc=\"http://creativecommons.org/ns#\" xmlns:dc=\"http://purl.org/dc/elements/1.1/\" xmlns:rdf=\"http://www.w3.org/1999/02/22-rdf-syntax-ns#\">\n   <cc:Work>\n    <dc:type rdf:resource=\"http://purl.org/dc/dcmitype/StillImage\"/>\n    <dc:date>2020-11-19T03:24:43.127904</dc:date>\n    <dc:format>image/svg+xml</dc:format>\n    <dc:creator>\n     <cc:Agent>\n      <dc:title>Matplotlib v3.3.2, https://matplotlib.org/</dc:title>\n     </cc:Agent>\n    </dc:creator>\n   </cc:Work>\n  </rdf:RDF>\n </metadata>\n <defs>\n  <style type=\"text/css\">*{stroke-linecap:butt;stroke-linejoin:round;}</style>\n </defs>\n <g id=\"figure_1\">\n  <g id=\"patch_1\">\n   <path d=\"M 0 698.87875 \nL 1081.483125 698.87875 \nL 1081.483125 0 \nL 0 0 \nz\n\" style=\"fill:none;\"/>\n  </g>\n  <g id=\"axes_1\">\n   <g id=\"patch_2\">\n    <path d=\"M 41.983125 653.58 \nL 1074.283125 653.58 \nL 1074.283125 82.8 \nL 41.983125 82.8 \nz\n\" style=\"fill:#ffffff;\"/>\n   </g>\n   <g id=\"PathCollection_1\">\n    <defs>\n     <path d=\"M 0 3 \nC 0.795609 3 1.55874 2.683901 2.12132 2.12132 \nC 2.683901 1.55874 3 0.795609 3 0 \nC 3 -0.795609 2.683901 -1.55874 2.12132 -2.12132 \nC 1.55874 -2.683901 0.795609 -3 0 -3 \nC -0.795609 -3 -1.55874 -2.683901 -2.12132 -2.12132 \nC -2.683901 -1.55874 -3 -0.795609 -3 0 \nC -3 0.795609 -2.683901 1.55874 -2.12132 2.12132 \nC -1.55874 2.683901 -0.795609 3 0 3 \nz\n\" id=\"m429de5638b\" style=\"stroke:#1f77b4;\"/>\n    </defs>\n    <g clip-path=\"url(#p28e3db496b)\">\n     <use style=\"fill:#1f77b4;stroke:#1f77b4;\" x=\"88.905852\" xlink:href=\"#m429de5638b\" y=\"502.039715\"/>\n     <use style=\"fill:#1f77b4;stroke:#1f77b4;\" x=\"93.621704\" xlink:href=\"#m429de5638b\" y=\"473.24678\"/>\n     <use style=\"fill:#1f77b4;stroke:#1f77b4;\" x=\"98.337556\" xlink:href=\"#m429de5638b\" y=\"590.159833\"/>\n     <use style=\"fill:#1f77b4;stroke:#1f77b4;\" x=\"103.053408\" xlink:href=\"#m429de5638b\" y=\"551.619655\"/>\n     <use style=\"fill:#1f77b4;stroke:#1f77b4;\" x=\"107.76926\" xlink:href=\"#m429de5638b\" y=\"483.240359\"/>\n     <use style=\"fill:#1f77b4;stroke:#1f77b4;\" x=\"112.485112\" xlink:href=\"#m429de5638b\" y=\"524.86355\"/>\n     <use style=\"fill:#1f77b4;stroke:#1f77b4;\" x=\"117.200964\" xlink:href=\"#m429de5638b\" y=\"612.308109\"/>\n     <use style=\"fill:#1f77b4;stroke:#1f77b4;\" x=\"121.916816\" xlink:href=\"#m429de5638b\" y=\"580.200159\"/>\n     <use style=\"fill:#1f77b4;stroke:#1f77b4;\" x=\"126.632668\" xlink:href=\"#m429de5638b\" y=\"496.912537\"/>\n     <use style=\"fill:#1f77b4;stroke:#1f77b4;\" x=\"131.34852\" xlink:href=\"#m429de5638b\" y=\"617.718928\"/>\n     <use style=\"fill:#1f77b4;stroke:#1f77b4;\" x=\"136.064372\" xlink:href=\"#m429de5638b\" y=\"559.838397\"/>\n     <use style=\"fill:#1f77b4;stroke:#1f77b4;\" x=\"140.780224\" xlink:href=\"#m429de5638b\" y=\"623.454032\"/>\n     <use style=\"fill:#1f77b4;stroke:#1f77b4;\" x=\"145.496076\" xlink:href=\"#m429de5638b\" y=\"623.467429\"/>\n     <use style=\"fill:#1f77b4;stroke:#1f77b4;\" x=\"150.211928\" xlink:href=\"#m429de5638b\" y=\"551.313038\"/>\n     <use style=\"fill:#1f77b4;stroke:#1f77b4;\" x=\"154.92778\" xlink:href=\"#m429de5638b\" y=\"458.161367\"/>\n     <use style=\"fill:#1f77b4;stroke:#1f77b4;\" x=\"159.643632\" xlink:href=\"#m429de5638b\" y=\"625.107389\"/>\n     <use style=\"fill:#1f77b4;stroke:#1f77b4;\" x=\"164.359484\" xlink:href=\"#m429de5638b\" y=\"576.361772\"/>\n     <use style=\"fill:#1f77b4;stroke:#1f77b4;\" x=\"169.075336\" xlink:href=\"#m429de5638b\" y=\"503.55296\"/>\n     <use style=\"fill:#1f77b4;stroke:#1f77b4;\" x=\"173.791188\" xlink:href=\"#m429de5638b\" y=\"613.965476\"/>\n     <use style=\"fill:#1f77b4;stroke:#1f77b4;\" x=\"178.50704\" xlink:href=\"#m429de5638b\" y=\"574.322128\"/>\n     <use style=\"fill:#1f77b4;stroke:#1f77b4;\" x=\"183.222892\" xlink:href=\"#m429de5638b\" y=\"617.671056\"/>\n     <use style=\"fill:#1f77b4;stroke:#1f77b4;\" x=\"187.938744\" xlink:href=\"#m429de5638b\" y=\"619.920987\"/>\n     <use style=\"fill:#1f77b4;stroke:#1f77b4;\" x=\"192.654596\" xlink:href=\"#m429de5638b\" y=\"570.501846\"/>\n     <use style=\"fill:#1f77b4;stroke:#1f77b4;\" x=\"197.370448\" xlink:href=\"#m429de5638b\" y=\"536.425839\"/>\n     <use style=\"fill:#1f77b4;stroke:#1f77b4;\" x=\"202.0863\" xlink:href=\"#m429de5638b\" y=\"593.643564\"/>\n     <use style=\"fill:#1f77b4;stroke:#1f77b4;\" x=\"206.802152\" xlink:href=\"#m429de5638b\" y=\"506.543416\"/>\n     <use style=\"fill:#1f77b4;stroke:#1f77b4;\" x=\"211.518004\" xlink:href=\"#m429de5638b\" y=\"610.759769\"/>\n     <use style=\"fill:#1f77b4;stroke:#1f77b4;\" x=\"216.233856\" xlink:href=\"#m429de5638b\" y=\"625.608162\"/>\n     <use style=\"fill:#1f77b4;stroke:#1f77b4;\" x=\"220.949708\" xlink:href=\"#m429de5638b\" y=\"424.500089\"/>\n     <use style=\"fill:#1f77b4;stroke:#1f77b4;\" x=\"225.66556\" xlink:href=\"#m429de5638b\" y=\"622.290964\"/>\n     <use style=\"fill:#1f77b4;stroke:#1f77b4;\" x=\"230.381412\" xlink:href=\"#m429de5638b\" y=\"475.110766\"/>\n     <use style=\"fill:#1f77b4;stroke:#1f77b4;\" x=\"235.097264\" xlink:href=\"#m429de5638b\" y=\"427.679183\"/>\n     <use style=\"fill:#1f77b4;stroke:#1f77b4;\" x=\"239.813116\" xlink:href=\"#m429de5638b\" y=\"579.873489\"/>\n     <use style=\"fill:#1f77b4;stroke:#1f77b4;\" x=\"244.528968\" xlink:href=\"#m429de5638b\" y=\"432.947527\"/>\n     <use style=\"fill:#1f77b4;stroke:#1f77b4;\" x=\"249.24482\" xlink:href=\"#m429de5638b\" y=\"524.478696\"/>\n     <use style=\"fill:#1f77b4;stroke:#1f77b4;\" x=\"253.960672\" xlink:href=\"#m429de5638b\" y=\"598.039428\"/>\n     <use style=\"fill:#1f77b4;stroke:#1f77b4;\" x=\"258.676524\" xlink:href=\"#m429de5638b\" y=\"489.765519\"/>\n     <use style=\"fill:#1f77b4;stroke:#1f77b4;\" x=\"263.392376\" xlink:href=\"#m429de5638b\" y=\"622.311058\"/>\n     <use style=\"fill:#1f77b4;stroke:#1f77b4;\" x=\"268.108228\" xlink:href=\"#m429de5638b\" y=\"605.467083\"/>\n     <use style=\"fill:#1f77b4;stroke:#1f77b4;\" x=\"272.82408\" xlink:href=\"#m429de5638b\" y=\"546.450077\"/>\n     <use style=\"fill:#1f77b4;stroke:#1f77b4;\" x=\"277.539932\" xlink:href=\"#m429de5638b\" y=\"327.061453\"/>\n     <use style=\"fill:#1f77b4;stroke:#1f77b4;\" x=\"282.255784\" xlink:href=\"#m429de5638b\" y=\"620.672741\"/>\n     <use style=\"fill:#1f77b4;stroke:#1f77b4;\" x=\"286.971636\" xlink:href=\"#m429de5638b\" y=\"600.148078\"/>\n     <use style=\"fill:#1f77b4;stroke:#1f77b4;\" x=\"291.687488\" xlink:href=\"#m429de5638b\" y=\"627.381278\"/>\n     <use style=\"fill:#1f77b4;stroke:#1f77b4;\" x=\"296.40334\" xlink:href=\"#m429de5638b\" y=\"570.177441\"/>\n     <use style=\"fill:#1f77b4;stroke:#1f77b4;\" x=\"301.119192\" xlink:href=\"#m429de5638b\" y=\"614.390755\"/>\n     <use style=\"fill:#1f77b4;stroke:#1f77b4;\" x=\"305.835044\" xlink:href=\"#m429de5638b\" y=\"627.300079\"/>\n     <use style=\"fill:#1f77b4;stroke:#1f77b4;\" x=\"310.550896\" xlink:href=\"#m429de5638b\" y=\"624.605541\"/>\n     <use style=\"fill:#1f77b4;stroke:#1f77b4;\" x=\"315.266748\" xlink:href=\"#m429de5638b\" y=\"627.422646\"/>\n     <use style=\"fill:#1f77b4;stroke:#1f77b4;\" x=\"319.9826\" xlink:href=\"#m429de5638b\" y=\"598.261309\"/>\n     <use style=\"fill:#1f77b4;stroke:#1f77b4;\" x=\"324.698452\" xlink:href=\"#m429de5638b\" y=\"603.167232\"/>\n     <use style=\"fill:#1f77b4;stroke:#1f77b4;\" x=\"329.414304\" xlink:href=\"#m429de5638b\" y=\"587.616122\"/>\n     <use style=\"fill:#1f77b4;stroke:#1f77b4;\" x=\"334.130156\" xlink:href=\"#m429de5638b\" y=\"620.145511\"/>\n     <use style=\"fill:#1f77b4;stroke:#1f77b4;\" x=\"338.846008\" xlink:href=\"#m429de5638b\" y=\"599.971147\"/>\n     <use style=\"fill:#1f77b4;stroke:#1f77b4;\" x=\"343.56186\" xlink:href=\"#m429de5638b\" y=\"623.320852\"/>\n     <use style=\"fill:#1f77b4;stroke:#1f77b4;\" x=\"348.277712\" xlink:href=\"#m429de5638b\" y=\"624.131027\"/>\n     <use style=\"fill:#1f77b4;stroke:#1f77b4;\" x=\"352.993564\" xlink:href=\"#m429de5638b\" y=\"522.209793\"/>\n     <use style=\"fill:#1f77b4;stroke:#1f77b4;\" x=\"357.709416\" xlink:href=\"#m429de5638b\" y=\"420.120303\"/>\n     <use style=\"fill:#1f77b4;stroke:#1f77b4;\" x=\"362.425268\" xlink:href=\"#m429de5638b\" y=\"599.260086\"/>\n     <use style=\"fill:#1f77b4;stroke:#1f77b4;\" x=\"367.14112\" xlink:href=\"#m429de5638b\" y=\"624.630294\"/>\n     <use style=\"fill:#1f77b4;stroke:#1f77b4;\" x=\"371.856972\" xlink:href=\"#m429de5638b\" y=\"613.441124\"/>\n     <use style=\"fill:#1f77b4;stroke:#1f77b4;\" x=\"376.572823\" xlink:href=\"#m429de5638b\" y=\"626.169557\"/>\n     <use style=\"fill:#1f77b4;stroke:#1f77b4;\" x=\"381.288675\" xlink:href=\"#m429de5638b\" y=\"588.486076\"/>\n     <use style=\"fill:#1f77b4;stroke:#1f77b4;\" x=\"386.004527\" xlink:href=\"#m429de5638b\" y=\"627.618833\"/>\n     <use style=\"fill:#1f77b4;stroke:#1f77b4;\" x=\"390.720379\" xlink:href=\"#m429de5638b\" y=\"313.589254\"/>\n     <use style=\"fill:#1f77b4;stroke:#1f77b4;\" x=\"395.436231\" xlink:href=\"#m429de5638b\" y=\"613.26538\"/>\n     <use style=\"fill:#1f77b4;stroke:#1f77b4;\" x=\"400.152083\" xlink:href=\"#m429de5638b\" y=\"506.836723\"/>\n     <use style=\"fill:#1f77b4;stroke:#1f77b4;\" x=\"404.867935\" xlink:href=\"#m429de5638b\" y=\"627.426661\"/>\n     <use style=\"fill:#1f77b4;stroke:#1f77b4;\" x=\"409.583787\" xlink:href=\"#m429de5638b\" y=\"627.021079\"/>\n     <use style=\"fill:#1f77b4;stroke:#1f77b4;\" x=\"414.299639\" xlink:href=\"#m429de5638b\" y=\"627.582082\"/>\n     <use style=\"fill:#1f77b4;stroke:#1f77b4;\" x=\"419.015491\" xlink:href=\"#m429de5638b\" y=\"626.678636\"/>\n     <use style=\"fill:#1f77b4;stroke:#1f77b4;\" x=\"423.731343\" xlink:href=\"#m429de5638b\" y=\"627.622969\"/>\n     <use style=\"fill:#1f77b4;stroke:#1f77b4;\" x=\"428.447195\" xlink:href=\"#m429de5638b\" y=\"608.38822\"/>\n     <use style=\"fill:#1f77b4;stroke:#1f77b4;\" x=\"433.163047\" xlink:href=\"#m429de5638b\" y=\"627.628529\"/>\n     <use style=\"fill:#1f77b4;stroke:#1f77b4;\" x=\"437.878899\" xlink:href=\"#m429de5638b\" y=\"627.624507\"/>\n     <use style=\"fill:#1f77b4;stroke:#1f77b4;\" x=\"442.594751\" xlink:href=\"#m429de5638b\" y=\"576.365209\"/>\n     <use style=\"fill:#1f77b4;stroke:#1f77b4;\" x=\"447.310603\" xlink:href=\"#m429de5638b\" y=\"601.870833\"/>\n     <use style=\"fill:#1f77b4;stroke:#1f77b4;\" x=\"452.026455\" xlink:href=\"#m429de5638b\" y=\"627.634537\"/>\n     <use style=\"fill:#1f77b4;stroke:#1f77b4;\" x=\"456.742307\" xlink:href=\"#m429de5638b\" y=\"603.789924\"/>\n     <use style=\"fill:#1f77b4;stroke:#1f77b4;\" x=\"461.458159\" xlink:href=\"#m429de5638b\" y=\"627.606813\"/>\n     <use style=\"fill:#1f77b4;stroke:#1f77b4;\" x=\"466.174011\" xlink:href=\"#m429de5638b\" y=\"617.173069\"/>\n     <use style=\"fill:#1f77b4;stroke:#1f77b4;\" x=\"470.889863\" xlink:href=\"#m429de5638b\" y=\"627.557766\"/>\n     <use style=\"fill:#1f77b4;stroke:#1f77b4;\" x=\"475.605715\" xlink:href=\"#m429de5638b\" y=\"627.541779\"/>\n     <use style=\"fill:#1f77b4;stroke:#1f77b4;\" x=\"480.321567\" xlink:href=\"#m429de5638b\" y=\"627.234153\"/>\n     <use style=\"fill:#1f77b4;stroke:#1f77b4;\" x=\"485.037419\" xlink:href=\"#m429de5638b\" y=\"624.799342\"/>\n     <use style=\"fill:#1f77b4;stroke:#1f77b4;\" x=\"489.753271\" xlink:href=\"#m429de5638b\" y=\"626.941571\"/>\n     <use style=\"fill:#1f77b4;stroke:#1f77b4;\" x=\"494.469123\" xlink:href=\"#m429de5638b\" y=\"470.766099\"/>\n     <use style=\"fill:#1f77b4;stroke:#1f77b4;\" x=\"499.184975\" xlink:href=\"#m429de5638b\" y=\"627.448102\"/>\n     <use style=\"fill:#1f77b4;stroke:#1f77b4;\" x=\"503.900827\" xlink:href=\"#m429de5638b\" y=\"606.19916\"/>\n     <use style=\"fill:#1f77b4;stroke:#1f77b4;\" x=\"508.616679\" xlink:href=\"#m429de5638b\" y=\"471.778588\"/>\n     <use style=\"fill:#1f77b4;stroke:#1f77b4;\" x=\"513.332531\" xlink:href=\"#m429de5638b\" y=\"627.566029\"/>\n     <use style=\"fill:#1f77b4;stroke:#1f77b4;\" x=\"518.048383\" xlink:href=\"#m429de5638b\" y=\"627.095913\"/>\n     <use style=\"fill:#1f77b4;stroke:#1f77b4;\" x=\"522.764235\" xlink:href=\"#m429de5638b\" y=\"627.489038\"/>\n     <use style=\"fill:#1f77b4;stroke:#1f77b4;\" x=\"527.480087\" xlink:href=\"#m429de5638b\" y=\"622.816742\"/>\n     <use style=\"fill:#1f77b4;stroke:#1f77b4;\" x=\"532.195939\" xlink:href=\"#m429de5638b\" y=\"292.623488\"/>\n     <use style=\"fill:#1f77b4;stroke:#1f77b4;\" x=\"536.911791\" xlink:href=\"#m429de5638b\" y=\"486.532915\"/>\n     <use style=\"fill:#1f77b4;stroke:#1f77b4;\" x=\"541.627643\" xlink:href=\"#m429de5638b\" y=\"598.475473\"/>\n     <use style=\"fill:#1f77b4;stroke:#1f77b4;\" x=\"546.343495\" xlink:href=\"#m429de5638b\" y=\"626.6637\"/>\n     <use style=\"fill:#1f77b4;stroke:#1f77b4;\" x=\"551.059347\" xlink:href=\"#m429de5638b\" y=\"538.984123\"/>\n     <use style=\"fill:#1f77b4;stroke:#1f77b4;\" x=\"555.775199\" xlink:href=\"#m429de5638b\" y=\"627.55035\"/>\n     <use style=\"fill:#1f77b4;stroke:#1f77b4;\" x=\"560.491051\" xlink:href=\"#m429de5638b\" y=\"619.084881\"/>\n     <use style=\"fill:#1f77b4;stroke:#1f77b4;\" x=\"565.206903\" xlink:href=\"#m429de5638b\" y=\"624.497783\"/>\n     <use style=\"fill:#1f77b4;stroke:#1f77b4;\" x=\"569.922755\" xlink:href=\"#m429de5638b\" y=\"305.111987\"/>\n     <use style=\"fill:#1f77b4;stroke:#1f77b4;\" x=\"574.638607\" xlink:href=\"#m429de5638b\" y=\"291.793349\"/>\n     <use style=\"fill:#1f77b4;stroke:#1f77b4;\" x=\"579.354459\" xlink:href=\"#m429de5638b\" y=\"619.274018\"/>\n     <use style=\"fill:#1f77b4;stroke:#1f77b4;\" x=\"584.070311\" xlink:href=\"#m429de5638b\" y=\"627.060957\"/>\n     <use style=\"fill:#1f77b4;stroke:#1f77b4;\" x=\"588.786163\" xlink:href=\"#m429de5638b\" y=\"627.392671\"/>\n     <use style=\"fill:#1f77b4;stroke:#1f77b4;\" x=\"593.502015\" xlink:href=\"#m429de5638b\" y=\"626.165152\"/>\n     <use style=\"fill:#1f77b4;stroke:#1f77b4;\" x=\"598.217867\" xlink:href=\"#m429de5638b\" y=\"627.635202\"/>\n     <use style=\"fill:#1f77b4;stroke:#1f77b4;\" x=\"602.933719\" xlink:href=\"#m429de5638b\" y=\"625.87387\"/>\n     <use style=\"fill:#1f77b4;stroke:#1f77b4;\" x=\"607.649571\" xlink:href=\"#m429de5638b\" y=\"627.621957\"/>\n     <use style=\"fill:#1f77b4;stroke:#1f77b4;\" x=\"612.365423\" xlink:href=\"#m429de5638b\" y=\"627.580011\"/>\n     <use style=\"fill:#1f77b4;stroke:#1f77b4;\" x=\"617.081275\" xlink:href=\"#m429de5638b\" y=\"626.288757\"/>\n     <use style=\"fill:#1f77b4;stroke:#1f77b4;\" x=\"621.797127\" xlink:href=\"#m429de5638b\" y=\"627.635057\"/>\n     <use style=\"fill:#1f77b4;stroke:#1f77b4;\" x=\"626.512979\" xlink:href=\"#m429de5638b\" y=\"599.487048\"/>\n     <use style=\"fill:#1f77b4;stroke:#1f77b4;\" x=\"631.228831\" xlink:href=\"#m429de5638b\" y=\"494.871873\"/>\n     <use style=\"fill:#1f77b4;stroke:#1f77b4;\" x=\"635.944683\" xlink:href=\"#m429de5638b\" y=\"620.216472\"/>\n     <use style=\"fill:#1f77b4;stroke:#1f77b4;\" x=\"640.660535\" xlink:href=\"#m429de5638b\" y=\"627.633385\"/>\n     <use style=\"fill:#1f77b4;stroke:#1f77b4;\" x=\"645.376387\" xlink:href=\"#m429de5638b\" y=\"402.675664\"/>\n     <use style=\"fill:#1f77b4;stroke:#1f77b4;\" x=\"650.092239\" xlink:href=\"#m429de5638b\" y=\"627.490184\"/>\n     <use style=\"fill:#1f77b4;stroke:#1f77b4;\" x=\"654.808091\" xlink:href=\"#m429de5638b\" y=\"627.631597\"/>\n     <use style=\"fill:#1f77b4;stroke:#1f77b4;\" x=\"659.523943\" xlink:href=\"#m429de5638b\" y=\"618.91466\"/>\n     <use style=\"fill:#1f77b4;stroke:#1f77b4;\" x=\"664.239795\" xlink:href=\"#m429de5638b\" y=\"627.635035\"/>\n     <use style=\"fill:#1f77b4;stroke:#1f77b4;\" x=\"668.955647\" xlink:href=\"#m429de5638b\" y=\"627.043586\"/>\n     <use style=\"fill:#1f77b4;stroke:#1f77b4;\" x=\"673.671499\" xlink:href=\"#m429de5638b\" y=\"626.745082\"/>\n     <use style=\"fill:#1f77b4;stroke:#1f77b4;\" x=\"678.387351\" xlink:href=\"#m429de5638b\" y=\"619.438338\"/>\n     <use style=\"fill:#1f77b4;stroke:#1f77b4;\" x=\"683.103203\" xlink:href=\"#m429de5638b\" y=\"570.367219\"/>\n     <use style=\"fill:#1f77b4;stroke:#1f77b4;\" x=\"687.819055\" xlink:href=\"#m429de5638b\" y=\"627.424196\"/>\n     <use style=\"fill:#1f77b4;stroke:#1f77b4;\" x=\"692.534907\" xlink:href=\"#m429de5638b\" y=\"108.744545\"/>\n     <use style=\"fill:#1f77b4;stroke:#1f77b4;\" x=\"697.250759\" xlink:href=\"#m429de5638b\" y=\"592.552104\"/>\n     <use style=\"fill:#1f77b4;stroke:#1f77b4;\" x=\"701.966611\" xlink:href=\"#m429de5638b\" y=\"627.635034\"/>\n     <use style=\"fill:#1f77b4;stroke:#1f77b4;\" x=\"706.682463\" xlink:href=\"#m429de5638b\" y=\"545.713638\"/>\n     <use style=\"fill:#1f77b4;stroke:#1f77b4;\" x=\"711.398315\" xlink:href=\"#m429de5638b\" y=\"627.629486\"/>\n     <use style=\"fill:#1f77b4;stroke:#1f77b4;\" x=\"716.114167\" xlink:href=\"#m429de5638b\" y=\"305.998688\"/>\n     <use style=\"fill:#1f77b4;stroke:#1f77b4;\" x=\"720.830019\" xlink:href=\"#m429de5638b\" y=\"619.236721\"/>\n     <use style=\"fill:#1f77b4;stroke:#1f77b4;\" x=\"725.545871\" xlink:href=\"#m429de5638b\" y=\"626.784357\"/>\n     <use style=\"fill:#1f77b4;stroke:#1f77b4;\" x=\"730.261723\" xlink:href=\"#m429de5638b\" y=\"627.199011\"/>\n     <use style=\"fill:#1f77b4;stroke:#1f77b4;\" x=\"734.977575\" xlink:href=\"#m429de5638b\" y=\"625.196354\"/>\n     <use style=\"fill:#1f77b4;stroke:#1f77b4;\" x=\"739.693427\" xlink:href=\"#m429de5638b\" y=\"253.932059\"/>\n     <use style=\"fill:#1f77b4;stroke:#1f77b4;\" x=\"744.409278\" xlink:href=\"#m429de5638b\" y=\"591.07772\"/>\n     <use style=\"fill:#1f77b4;stroke:#1f77b4;\" x=\"749.12513\" xlink:href=\"#m429de5638b\" y=\"627.612946\"/>\n     <use style=\"fill:#1f77b4;stroke:#1f77b4;\" x=\"753.840982\" xlink:href=\"#m429de5638b\" y=\"627.595331\"/>\n     <use style=\"fill:#1f77b4;stroke:#1f77b4;\" x=\"758.556834\" xlink:href=\"#m429de5638b\" y=\"597.443103\"/>\n     <use style=\"fill:#1f77b4;stroke:#1f77b4;\" x=\"763.272686\" xlink:href=\"#m429de5638b\" y=\"624.274434\"/>\n     <use style=\"fill:#1f77b4;stroke:#1f77b4;\" x=\"767.988538\" xlink:href=\"#m429de5638b\" y=\"627.598256\"/>\n     <use style=\"fill:#1f77b4;stroke:#1f77b4;\" x=\"772.70439\" xlink:href=\"#m429de5638b\" y=\"379.701412\"/>\n     <use style=\"fill:#1f77b4;stroke:#1f77b4;\" x=\"777.420242\" xlink:href=\"#m429de5638b\" y=\"627.635184\"/>\n     <use style=\"fill:#1f77b4;stroke:#1f77b4;\" x=\"782.136094\" xlink:href=\"#m429de5638b\" y=\"485.592607\"/>\n     <use style=\"fill:#1f77b4;stroke:#1f77b4;\" x=\"786.851946\" xlink:href=\"#m429de5638b\" y=\"627.60671\"/>\n     <use style=\"fill:#1f77b4;stroke:#1f77b4;\" x=\"791.567798\" xlink:href=\"#m429de5638b\" y=\"627.631195\"/>\n     <use style=\"fill:#1f77b4;stroke:#1f77b4;\" x=\"796.28365\" xlink:href=\"#m429de5638b\" y=\"627.403531\"/>\n     <use style=\"fill:#1f77b4;stroke:#1f77b4;\" x=\"800.999502\" xlink:href=\"#m429de5638b\" y=\"627.049671\"/>\n     <use style=\"fill:#1f77b4;stroke:#1f77b4;\" x=\"805.715354\" xlink:href=\"#m429de5638b\" y=\"627.634419\"/>\n     <use style=\"fill:#1f77b4;stroke:#1f77b4;\" x=\"810.431206\" xlink:href=\"#m429de5638b\" y=\"594.447455\"/>\n     <use style=\"fill:#1f77b4;stroke:#1f77b4;\" x=\"815.147058\" xlink:href=\"#m429de5638b\" y=\"627.634894\"/>\n     <use style=\"fill:#1f77b4;stroke:#1f77b4;\" x=\"819.86291\" xlink:href=\"#m429de5638b\" y=\"326.905499\"/>\n     <use style=\"fill:#1f77b4;stroke:#1f77b4;\" x=\"824.578762\" xlink:href=\"#m429de5638b\" y=\"620.381264\"/>\n     <use style=\"fill:#1f77b4;stroke:#1f77b4;\" x=\"829.294614\" xlink:href=\"#m429de5638b\" y=\"627.634491\"/>\n     <use style=\"fill:#1f77b4;stroke:#1f77b4;\" x=\"834.010466\" xlink:href=\"#m429de5638b\" y=\"624.861912\"/>\n     <use style=\"fill:#1f77b4;stroke:#1f77b4;\" x=\"838.726318\" xlink:href=\"#m429de5638b\" y=\"523.227789\"/>\n     <use style=\"fill:#1f77b4;stroke:#1f77b4;\" x=\"843.44217\" xlink:href=\"#m429de5638b\" y=\"626.309895\"/>\n     <use style=\"fill:#1f77b4;stroke:#1f77b4;\" x=\"848.158022\" xlink:href=\"#m429de5638b\" y=\"627.635447\"/>\n     <use style=\"fill:#1f77b4;stroke:#1f77b4;\" x=\"852.873874\" xlink:href=\"#m429de5638b\" y=\"627.101553\"/>\n     <use style=\"fill:#1f77b4;stroke:#1f77b4;\" x=\"857.589726\" xlink:href=\"#m429de5638b\" y=\"627.635253\"/>\n     <use style=\"fill:#1f77b4;stroke:#1f77b4;\" x=\"862.305578\" xlink:href=\"#m429de5638b\" y=\"476.528122\"/>\n     <use style=\"fill:#1f77b4;stroke:#1f77b4;\" x=\"867.02143\" xlink:href=\"#m429de5638b\" y=\"627.432586\"/>\n     <use style=\"fill:#1f77b4;stroke:#1f77b4;\" x=\"871.737282\" xlink:href=\"#m429de5638b\" y=\"627.572221\"/>\n     <use style=\"fill:#1f77b4;stroke:#1f77b4;\" x=\"876.453134\" xlink:href=\"#m429de5638b\" y=\"627.619063\"/>\n     <use style=\"fill:#1f77b4;stroke:#1f77b4;\" x=\"881.168986\" xlink:href=\"#m429de5638b\" y=\"304.715518\"/>\n     <use style=\"fill:#1f77b4;stroke:#1f77b4;\" x=\"885.884838\" xlink:href=\"#m429de5638b\" y=\"627.517589\"/>\n     <use style=\"fill:#1f77b4;stroke:#1f77b4;\" x=\"890.60069\" xlink:href=\"#m429de5638b\" y=\"627.634688\"/>\n     <use style=\"fill:#1f77b4;stroke:#1f77b4;\" x=\"895.316542\" xlink:href=\"#m429de5638b\" y=\"600.058076\"/>\n     <use style=\"fill:#1f77b4;stroke:#1f77b4;\" x=\"900.032394\" xlink:href=\"#m429de5638b\" y=\"627.097057\"/>\n     <use style=\"fill:#1f77b4;stroke:#1f77b4;\" x=\"904.748246\" xlink:href=\"#m429de5638b\" y=\"627.631037\"/>\n     <use style=\"fill:#1f77b4;stroke:#1f77b4;\" x=\"909.464098\" xlink:href=\"#m429de5638b\" y=\"622.419886\"/>\n     <use style=\"fill:#1f77b4;stroke:#1f77b4;\" x=\"914.17995\" xlink:href=\"#m429de5638b\" y=\"627.626493\"/>\n     <use style=\"fill:#1f77b4;stroke:#1f77b4;\" x=\"918.895802\" xlink:href=\"#m429de5638b\" y=\"626.202513\"/>\n     <use style=\"fill:#1f77b4;stroke:#1f77b4;\" x=\"923.611654\" xlink:href=\"#m429de5638b\" y=\"612.625667\"/>\n     <use style=\"fill:#1f77b4;stroke:#1f77b4;\" x=\"928.327506\" xlink:href=\"#m429de5638b\" y=\"626.155688\"/>\n     <use style=\"fill:#1f77b4;stroke:#1f77b4;\" x=\"933.043358\" xlink:href=\"#m429de5638b\" y=\"545.936756\"/>\n     <use style=\"fill:#1f77b4;stroke:#1f77b4;\" x=\"937.75921\" xlink:href=\"#m429de5638b\" y=\"605.618108\"/>\n     <use style=\"fill:#1f77b4;stroke:#1f77b4;\" x=\"942.475062\" xlink:href=\"#m429de5638b\" y=\"626.390547\"/>\n     <use style=\"fill:#1f77b4;stroke:#1f77b4;\" x=\"947.190914\" xlink:href=\"#m429de5638b\" y=\"627.635455\"/>\n     <use style=\"fill:#1f77b4;stroke:#1f77b4;\" x=\"951.906766\" xlink:href=\"#m429de5638b\" y=\"627.285021\"/>\n     <use style=\"fill:#1f77b4;stroke:#1f77b4;\" x=\"956.622618\" xlink:href=\"#m429de5638b\" y=\"626.118846\"/>\n     <use style=\"fill:#1f77b4;stroke:#1f77b4;\" x=\"961.33847\" xlink:href=\"#m429de5638b\" y=\"627.635179\"/>\n     <use style=\"fill:#1f77b4;stroke:#1f77b4;\" x=\"966.054322\" xlink:href=\"#m429de5638b\" y=\"627.631728\"/>\n     <use style=\"fill:#1f77b4;stroke:#1f77b4;\" x=\"970.770174\" xlink:href=\"#m429de5638b\" y=\"627.635183\"/>\n     <use style=\"fill:#1f77b4;stroke:#1f77b4;\" x=\"975.486026\" xlink:href=\"#m429de5638b\" y=\"555.029177\"/>\n     <use style=\"fill:#1f77b4;stroke:#1f77b4;\" x=\"980.201878\" xlink:href=\"#m429de5638b\" y=\"627.606875\"/>\n     <use style=\"fill:#1f77b4;stroke:#1f77b4;\" x=\"984.91773\" xlink:href=\"#m429de5638b\" y=\"627.612308\"/>\n     <use style=\"fill:#1f77b4;stroke:#1f77b4;\" x=\"989.633582\" xlink:href=\"#m429de5638b\" y=\"625.080548\"/>\n     <use style=\"fill:#1f77b4;stroke:#1f77b4;\" x=\"994.349434\" xlink:href=\"#m429de5638b\" y=\"539.207578\"/>\n     <use style=\"fill:#1f77b4;stroke:#1f77b4;\" x=\"999.065286\" xlink:href=\"#m429de5638b\" y=\"627.631782\"/>\n     <use style=\"fill:#1f77b4;stroke:#1f77b4;\" x=\"1003.781138\" xlink:href=\"#m429de5638b\" y=\"626.683887\"/>\n     <use style=\"fill:#1f77b4;stroke:#1f77b4;\" x=\"1008.49699\" xlink:href=\"#m429de5638b\" y=\"627.634988\"/>\n     <use style=\"fill:#1f77b4;stroke:#1f77b4;\" x=\"1013.212842\" xlink:href=\"#m429de5638b\" y=\"627.634536\"/>\n     <use style=\"fill:#1f77b4;stroke:#1f77b4;\" x=\"1017.928694\" xlink:href=\"#m429de5638b\" y=\"627.628756\"/>\n     <use style=\"fill:#1f77b4;stroke:#1f77b4;\" x=\"1022.644546\" xlink:href=\"#m429de5638b\" y=\"627.586729\"/>\n     <use style=\"fill:#1f77b4;stroke:#1f77b4;\" x=\"1027.360398\" xlink:href=\"#m429de5638b\" y=\"627.619767\"/>\n    </g>\n   </g>\n   <g id=\"matplotlib.axis_1\">\n    <g id=\"xtick_1\">\n     <g id=\"line2d_1\">\n      <defs>\n       <path d=\"M 0 0 \nL 0 3.5 \n\" id=\"m3ade2da5ad\" style=\"stroke:#000000;stroke-width:0.8;\"/>\n      </defs>\n      <g>\n       <use style=\"stroke:#000000;stroke-width:0.8;\" x=\"88.905852\" xlink:href=\"#m3ade2da5ad\" y=\"653.58\"/>\n      </g>\n     </g>\n     <g id=\"text_1\">\n      <!-- 0 -->\n      <g transform=\"translate(85.724602 668.178437)scale(0.1 -0.1)\">\n       <defs>\n        <path d=\"M 31.78125 66.40625 \nQ 24.171875 66.40625 20.328125 58.90625 \nQ 16.5 51.421875 16.5 36.375 \nQ 16.5 21.390625 20.328125 13.890625 \nQ 24.171875 6.390625 31.78125 6.390625 \nQ 39.453125 6.390625 43.28125 13.890625 \nQ 47.125 21.390625 47.125 36.375 \nQ 47.125 51.421875 43.28125 58.90625 \nQ 39.453125 66.40625 31.78125 66.40625 \nz\nM 31.78125 74.21875 \nQ 44.046875 74.21875 50.515625 64.515625 \nQ 56.984375 54.828125 56.984375 36.375 \nQ 56.984375 17.96875 50.515625 8.265625 \nQ 44.046875 -1.421875 31.78125 -1.421875 \nQ 19.53125 -1.421875 13.0625 8.265625 \nQ 6.59375 17.96875 6.59375 36.375 \nQ 6.59375 54.828125 13.0625 64.515625 \nQ 19.53125 74.21875 31.78125 74.21875 \nz\n\" id=\"DejaVuSans-48\"/>\n       </defs>\n       <use xlink:href=\"#DejaVuSans-48\"/>\n      </g>\n     </g>\n    </g>\n    <g id=\"xtick_2\">\n     <g id=\"line2d_2\">\n      <g>\n       <use style=\"stroke:#000000;stroke-width:0.8;\" x=\"206.802152\" xlink:href=\"#m3ade2da5ad\" y=\"653.58\"/>\n      </g>\n     </g>\n     <g id=\"text_2\">\n      <!-- 25 -->\n      <g transform=\"translate(200.439652 668.178437)scale(0.1 -0.1)\">\n       <defs>\n        <path d=\"M 19.1875 8.296875 \nL 53.609375 8.296875 \nL 53.609375 0 \nL 7.328125 0 \nL 7.328125 8.296875 \nQ 12.9375 14.109375 22.625 23.890625 \nQ 32.328125 33.6875 34.8125 36.53125 \nQ 39.546875 41.84375 41.421875 45.53125 \nQ 43.3125 49.21875 43.3125 52.78125 \nQ 43.3125 58.59375 39.234375 62.25 \nQ 35.15625 65.921875 28.609375 65.921875 \nQ 23.96875 65.921875 18.8125 64.3125 \nQ 13.671875 62.703125 7.8125 59.421875 \nL 7.8125 69.390625 \nQ 13.765625 71.78125 18.9375 73 \nQ 24.125 74.21875 28.421875 74.21875 \nQ 39.75 74.21875 46.484375 68.546875 \nQ 53.21875 62.890625 53.21875 53.421875 \nQ 53.21875 48.921875 51.53125 44.890625 \nQ 49.859375 40.875 45.40625 35.40625 \nQ 44.1875 33.984375 37.640625 27.21875 \nQ 31.109375 20.453125 19.1875 8.296875 \nz\n\" id=\"DejaVuSans-50\"/>\n        <path d=\"M 10.796875 72.90625 \nL 49.515625 72.90625 \nL 49.515625 64.59375 \nL 19.828125 64.59375 \nL 19.828125 46.734375 \nQ 21.96875 47.46875 24.109375 47.828125 \nQ 26.265625 48.1875 28.421875 48.1875 \nQ 40.625 48.1875 47.75 41.5 \nQ 54.890625 34.8125 54.890625 23.390625 \nQ 54.890625 11.625 47.5625 5.09375 \nQ 40.234375 -1.421875 26.90625 -1.421875 \nQ 22.3125 -1.421875 17.546875 -0.640625 \nQ 12.796875 0.140625 7.71875 1.703125 \nL 7.71875 11.625 \nQ 12.109375 9.234375 16.796875 8.0625 \nQ 21.484375 6.890625 26.703125 6.890625 \nQ 35.15625 6.890625 40.078125 11.328125 \nQ 45.015625 15.765625 45.015625 23.390625 \nQ 45.015625 31 40.078125 35.4375 \nQ 35.15625 39.890625 26.703125 39.890625 \nQ 22.75 39.890625 18.8125 39.015625 \nQ 14.890625 38.140625 10.796875 36.28125 \nz\n\" id=\"DejaVuSans-53\"/>\n       </defs>\n       <use xlink:href=\"#DejaVuSans-50\"/>\n       <use x=\"63.623047\" xlink:href=\"#DejaVuSans-53\"/>\n      </g>\n     </g>\n    </g>\n    <g id=\"xtick_3\">\n     <g id=\"line2d_3\">\n      <g>\n       <use style=\"stroke:#000000;stroke-width:0.8;\" x=\"324.698452\" xlink:href=\"#m3ade2da5ad\" y=\"653.58\"/>\n      </g>\n     </g>\n     <g id=\"text_3\">\n      <!-- 50 -->\n      <g transform=\"translate(318.335952 668.178437)scale(0.1 -0.1)\">\n       <use xlink:href=\"#DejaVuSans-53\"/>\n       <use x=\"63.623047\" xlink:href=\"#DejaVuSans-48\"/>\n      </g>\n     </g>\n    </g>\n    <g id=\"xtick_4\">\n     <g id=\"line2d_4\">\n      <g>\n       <use style=\"stroke:#000000;stroke-width:0.8;\" x=\"442.594751\" xlink:href=\"#m3ade2da5ad\" y=\"653.58\"/>\n      </g>\n     </g>\n     <g id=\"text_4\">\n      <!-- 75 -->\n      <g transform=\"translate(436.232251 668.178437)scale(0.1 -0.1)\">\n       <defs>\n        <path d=\"M 8.203125 72.90625 \nL 55.078125 72.90625 \nL 55.078125 68.703125 \nL 28.609375 0 \nL 18.3125 0 \nL 43.21875 64.59375 \nL 8.203125 64.59375 \nz\n\" id=\"DejaVuSans-55\"/>\n       </defs>\n       <use xlink:href=\"#DejaVuSans-55\"/>\n       <use x=\"63.623047\" xlink:href=\"#DejaVuSans-53\"/>\n      </g>\n     </g>\n    </g>\n    <g id=\"xtick_5\">\n     <g id=\"line2d_5\">\n      <g>\n       <use style=\"stroke:#000000;stroke-width:0.8;\" x=\"560.491051\" xlink:href=\"#m3ade2da5ad\" y=\"653.58\"/>\n      </g>\n     </g>\n     <g id=\"text_5\">\n      <!-- 100 -->\n      <g transform=\"translate(550.947301 668.178437)scale(0.1 -0.1)\">\n       <defs>\n        <path d=\"M 12.40625 8.296875 \nL 28.515625 8.296875 \nL 28.515625 63.921875 \nL 10.984375 60.40625 \nL 10.984375 69.390625 \nL 28.421875 72.90625 \nL 38.28125 72.90625 \nL 38.28125 8.296875 \nL 54.390625 8.296875 \nL 54.390625 0 \nL 12.40625 0 \nz\n\" id=\"DejaVuSans-49\"/>\n       </defs>\n       <use xlink:href=\"#DejaVuSans-49\"/>\n       <use x=\"63.623047\" xlink:href=\"#DejaVuSans-48\"/>\n       <use x=\"127.246094\" xlink:href=\"#DejaVuSans-48\"/>\n      </g>\n     </g>\n    </g>\n    <g id=\"xtick_6\">\n     <g id=\"line2d_6\">\n      <g>\n       <use style=\"stroke:#000000;stroke-width:0.8;\" x=\"678.387351\" xlink:href=\"#m3ade2da5ad\" y=\"653.58\"/>\n      </g>\n     </g>\n     <g id=\"text_6\">\n      <!-- 125 -->\n      <g transform=\"translate(668.843601 668.178437)scale(0.1 -0.1)\">\n       <use xlink:href=\"#DejaVuSans-49\"/>\n       <use x=\"63.623047\" xlink:href=\"#DejaVuSans-50\"/>\n       <use x=\"127.246094\" xlink:href=\"#DejaVuSans-53\"/>\n      </g>\n     </g>\n    </g>\n    <g id=\"xtick_7\">\n     <g id=\"line2d_7\">\n      <g>\n       <use style=\"stroke:#000000;stroke-width:0.8;\" x=\"796.28365\" xlink:href=\"#m3ade2da5ad\" y=\"653.58\"/>\n      </g>\n     </g>\n     <g id=\"text_7\">\n      <!-- 150 -->\n      <g transform=\"translate(786.7399 668.178437)scale(0.1 -0.1)\">\n       <use xlink:href=\"#DejaVuSans-49\"/>\n       <use x=\"63.623047\" xlink:href=\"#DejaVuSans-53\"/>\n       <use x=\"127.246094\" xlink:href=\"#DejaVuSans-48\"/>\n      </g>\n     </g>\n    </g>\n    <g id=\"xtick_8\">\n     <g id=\"line2d_8\">\n      <g>\n       <use style=\"stroke:#000000;stroke-width:0.8;\" x=\"914.17995\" xlink:href=\"#m3ade2da5ad\" y=\"653.58\"/>\n      </g>\n     </g>\n     <g id=\"text_8\">\n      <!-- 175 -->\n      <g transform=\"translate(904.6362 668.178437)scale(0.1 -0.1)\">\n       <use xlink:href=\"#DejaVuSans-49\"/>\n       <use x=\"63.623047\" xlink:href=\"#DejaVuSans-55\"/>\n       <use x=\"127.246094\" xlink:href=\"#DejaVuSans-53\"/>\n      </g>\n     </g>\n    </g>\n    <g id=\"xtick_9\">\n     <g id=\"line2d_9\">\n      <g>\n       <use style=\"stroke:#000000;stroke-width:0.8;\" x=\"1032.07625\" xlink:href=\"#m3ade2da5ad\" y=\"653.58\"/>\n      </g>\n     </g>\n     <g id=\"text_9\">\n      <!-- 200 -->\n      <g transform=\"translate(1022.5325 668.178437)scale(0.1 -0.1)\">\n       <use xlink:href=\"#DejaVuSans-50\"/>\n       <use x=\"63.623047\" xlink:href=\"#DejaVuSans-48\"/>\n       <use x=\"127.246094\" xlink:href=\"#DejaVuSans-48\"/>\n      </g>\n     </g>\n    </g>\n    <g id=\"text_10\">\n     <!-- Epochs -->\n     <g transform=\"translate(525.885 687.935313)scale(0.18 -0.18)\">\n      <defs>\n       <path d=\"M 9.8125 72.90625 \nL 55.90625 72.90625 \nL 55.90625 64.59375 \nL 19.671875 64.59375 \nL 19.671875 43.015625 \nL 54.390625 43.015625 \nL 54.390625 34.71875 \nL 19.671875 34.71875 \nL 19.671875 8.296875 \nL 56.78125 8.296875 \nL 56.78125 0 \nL 9.8125 0 \nz\n\" id=\"DejaVuSans-69\"/>\n       <path d=\"M 18.109375 8.203125 \nL 18.109375 -20.796875 \nL 9.078125 -20.796875 \nL 9.078125 54.6875 \nL 18.109375 54.6875 \nL 18.109375 46.390625 \nQ 20.953125 51.265625 25.265625 53.625 \nQ 29.59375 56 35.59375 56 \nQ 45.5625 56 51.78125 48.09375 \nQ 58.015625 40.1875 58.015625 27.296875 \nQ 58.015625 14.40625 51.78125 6.484375 \nQ 45.5625 -1.421875 35.59375 -1.421875 \nQ 29.59375 -1.421875 25.265625 0.953125 \nQ 20.953125 3.328125 18.109375 8.203125 \nz\nM 48.6875 27.296875 \nQ 48.6875 37.203125 44.609375 42.84375 \nQ 40.53125 48.484375 33.40625 48.484375 \nQ 26.265625 48.484375 22.1875 42.84375 \nQ 18.109375 37.203125 18.109375 27.296875 \nQ 18.109375 17.390625 22.1875 11.75 \nQ 26.265625 6.109375 33.40625 6.109375 \nQ 40.53125 6.109375 44.609375 11.75 \nQ 48.6875 17.390625 48.6875 27.296875 \nz\n\" id=\"DejaVuSans-112\"/>\n       <path d=\"M 30.609375 48.390625 \nQ 23.390625 48.390625 19.1875 42.75 \nQ 14.984375 37.109375 14.984375 27.296875 \nQ 14.984375 17.484375 19.15625 11.84375 \nQ 23.34375 6.203125 30.609375 6.203125 \nQ 37.796875 6.203125 41.984375 11.859375 \nQ 46.1875 17.53125 46.1875 27.296875 \nQ 46.1875 37.015625 41.984375 42.703125 \nQ 37.796875 48.390625 30.609375 48.390625 \nz\nM 30.609375 56 \nQ 42.328125 56 49.015625 48.375 \nQ 55.71875 40.765625 55.71875 27.296875 \nQ 55.71875 13.875 49.015625 6.21875 \nQ 42.328125 -1.421875 30.609375 -1.421875 \nQ 18.84375 -1.421875 12.171875 6.21875 \nQ 5.515625 13.875 5.515625 27.296875 \nQ 5.515625 40.765625 12.171875 48.375 \nQ 18.84375 56 30.609375 56 \nz\n\" id=\"DejaVuSans-111\"/>\n       <path d=\"M 48.78125 52.59375 \nL 48.78125 44.1875 \nQ 44.96875 46.296875 41.140625 47.34375 \nQ 37.3125 48.390625 33.40625 48.390625 \nQ 24.65625 48.390625 19.8125 42.84375 \nQ 14.984375 37.3125 14.984375 27.296875 \nQ 14.984375 17.28125 19.8125 11.734375 \nQ 24.65625 6.203125 33.40625 6.203125 \nQ 37.3125 6.203125 41.140625 7.25 \nQ 44.96875 8.296875 48.78125 10.40625 \nL 48.78125 2.09375 \nQ 45.015625 0.34375 40.984375 -0.53125 \nQ 36.96875 -1.421875 32.421875 -1.421875 \nQ 20.0625 -1.421875 12.78125 6.34375 \nQ 5.515625 14.109375 5.515625 27.296875 \nQ 5.515625 40.671875 12.859375 48.328125 \nQ 20.21875 56 33.015625 56 \nQ 37.15625 56 41.109375 55.140625 \nQ 45.0625 54.296875 48.78125 52.59375 \nz\n\" id=\"DejaVuSans-99\"/>\n       <path d=\"M 54.890625 33.015625 \nL 54.890625 0 \nL 45.90625 0 \nL 45.90625 32.71875 \nQ 45.90625 40.484375 42.875 44.328125 \nQ 39.84375 48.1875 33.796875 48.1875 \nQ 26.515625 48.1875 22.3125 43.546875 \nQ 18.109375 38.921875 18.109375 30.90625 \nL 18.109375 0 \nL 9.078125 0 \nL 9.078125 75.984375 \nL 18.109375 75.984375 \nL 18.109375 46.1875 \nQ 21.34375 51.125 25.703125 53.5625 \nQ 30.078125 56 35.796875 56 \nQ 45.21875 56 50.046875 50.171875 \nQ 54.890625 44.34375 54.890625 33.015625 \nz\n\" id=\"DejaVuSans-104\"/>\n       <path d=\"M 44.28125 53.078125 \nL 44.28125 44.578125 \nQ 40.484375 46.53125 36.375 47.5 \nQ 32.28125 48.484375 27.875 48.484375 \nQ 21.1875 48.484375 17.84375 46.4375 \nQ 14.5 44.390625 14.5 40.28125 \nQ 14.5 37.15625 16.890625 35.375 \nQ 19.28125 33.59375 26.515625 31.984375 \nL 29.59375 31.296875 \nQ 39.15625 29.25 43.1875 25.515625 \nQ 47.21875 21.78125 47.21875 15.09375 \nQ 47.21875 7.46875 41.1875 3.015625 \nQ 35.15625 -1.421875 24.609375 -1.421875 \nQ 20.21875 -1.421875 15.453125 -0.5625 \nQ 10.6875 0.296875 5.421875 2 \nL 5.421875 11.28125 \nQ 10.40625 8.6875 15.234375 7.390625 \nQ 20.0625 6.109375 24.8125 6.109375 \nQ 31.15625 6.109375 34.5625 8.28125 \nQ 37.984375 10.453125 37.984375 14.40625 \nQ 37.984375 18.0625 35.515625 20.015625 \nQ 33.0625 21.96875 24.703125 23.78125 \nL 21.578125 24.515625 \nQ 13.234375 26.265625 9.515625 29.90625 \nQ 5.8125 33.546875 5.8125 39.890625 \nQ 5.8125 47.609375 11.28125 51.796875 \nQ 16.75 56 26.8125 56 \nQ 31.78125 56 36.171875 55.265625 \nQ 40.578125 54.546875 44.28125 53.078125 \nz\n\" id=\"DejaVuSans-115\"/>\n      </defs>\n      <use xlink:href=\"#DejaVuSans-69\"/>\n      <use x=\"63.183594\" xlink:href=\"#DejaVuSans-112\"/>\n      <use x=\"126.660156\" xlink:href=\"#DejaVuSans-111\"/>\n      <use x=\"187.841797\" xlink:href=\"#DejaVuSans-99\"/>\n      <use x=\"242.822266\" xlink:href=\"#DejaVuSans-104\"/>\n      <use x=\"306.201172\" xlink:href=\"#DejaVuSans-115\"/>\n     </g>\n    </g>\n   </g>\n   <g id=\"matplotlib.axis_2\">\n    <g id=\"ytick_1\">\n     <g id=\"line2d_10\">\n      <defs>\n       <path d=\"M 0 0 \nL -3.5 0 \n\" id=\"m5dee1a6954\" style=\"stroke:#000000;stroke-width:0.8;\"/>\n      </defs>\n      <g>\n       <use style=\"stroke:#000000;stroke-width:0.8;\" x=\"41.983125\" xlink:href=\"#m5dee1a6954\" y=\"627.635456\"/>\n      </g>\n     </g>\n     <g id=\"text_11\">\n      <!-- 0 -->\n      <g transform=\"translate(28.620625 631.434675)scale(0.1 -0.1)\">\n       <use xlink:href=\"#DejaVuSans-48\"/>\n      </g>\n     </g>\n    </g>\n    <g id=\"ytick_2\">\n     <g id=\"line2d_11\">\n      <g>\n       <use style=\"stroke:#000000;stroke-width:0.8;\" x=\"41.983125\" xlink:href=\"#m5dee1a6954\" y=\"509.60646\"/>\n      </g>\n     </g>\n     <g id=\"text_12\">\n      <!-- 2 -->\n      <g transform=\"translate(28.620625 513.405679)scale(0.1 -0.1)\">\n       <use xlink:href=\"#DejaVuSans-50\"/>\n      </g>\n     </g>\n    </g>\n    <g id=\"ytick_3\">\n     <g id=\"line2d_12\">\n      <g>\n       <use style=\"stroke:#000000;stroke-width:0.8;\" x=\"41.983125\" xlink:href=\"#m5dee1a6954\" y=\"391.577465\"/>\n      </g>\n     </g>\n     <g id=\"text_13\">\n      <!-- 4 -->\n      <g transform=\"translate(28.620625 395.376684)scale(0.1 -0.1)\">\n       <defs>\n        <path d=\"M 37.796875 64.3125 \nL 12.890625 25.390625 \nL 37.796875 25.390625 \nz\nM 35.203125 72.90625 \nL 47.609375 72.90625 \nL 47.609375 25.390625 \nL 58.015625 25.390625 \nL 58.015625 17.1875 \nL 47.609375 17.1875 \nL 47.609375 0 \nL 37.796875 0 \nL 37.796875 17.1875 \nL 4.890625 17.1875 \nL 4.890625 26.703125 \nz\n\" id=\"DejaVuSans-52\"/>\n       </defs>\n       <use xlink:href=\"#DejaVuSans-52\"/>\n      </g>\n     </g>\n    </g>\n    <g id=\"ytick_4\">\n     <g id=\"line2d_13\">\n      <g>\n       <use style=\"stroke:#000000;stroke-width:0.8;\" x=\"41.983125\" xlink:href=\"#m5dee1a6954\" y=\"273.548469\"/>\n      </g>\n     </g>\n     <g id=\"text_14\">\n      <!-- 6 -->\n      <g transform=\"translate(28.620625 277.347688)scale(0.1 -0.1)\">\n       <defs>\n        <path d=\"M 33.015625 40.375 \nQ 26.375 40.375 22.484375 35.828125 \nQ 18.609375 31.296875 18.609375 23.390625 \nQ 18.609375 15.53125 22.484375 10.953125 \nQ 26.375 6.390625 33.015625 6.390625 \nQ 39.65625 6.390625 43.53125 10.953125 \nQ 47.40625 15.53125 47.40625 23.390625 \nQ 47.40625 31.296875 43.53125 35.828125 \nQ 39.65625 40.375 33.015625 40.375 \nz\nM 52.59375 71.296875 \nL 52.59375 62.3125 \nQ 48.875 64.0625 45.09375 64.984375 \nQ 41.3125 65.921875 37.59375 65.921875 \nQ 27.828125 65.921875 22.671875 59.328125 \nQ 17.53125 52.734375 16.796875 39.40625 \nQ 19.671875 43.65625 24.015625 45.921875 \nQ 28.375 48.1875 33.59375 48.1875 \nQ 44.578125 48.1875 50.953125 41.515625 \nQ 57.328125 34.859375 57.328125 23.390625 \nQ 57.328125 12.15625 50.6875 5.359375 \nQ 44.046875 -1.421875 33.015625 -1.421875 \nQ 20.359375 -1.421875 13.671875 8.265625 \nQ 6.984375 17.96875 6.984375 36.375 \nQ 6.984375 53.65625 15.1875 63.9375 \nQ 23.390625 74.21875 37.203125 74.21875 \nQ 40.921875 74.21875 44.703125 73.484375 \nQ 48.484375 72.75 52.59375 71.296875 \nz\n\" id=\"DejaVuSans-54\"/>\n       </defs>\n       <use xlink:href=\"#DejaVuSans-54\"/>\n      </g>\n     </g>\n    </g>\n    <g id=\"ytick_5\">\n     <g id=\"line2d_14\">\n      <g>\n       <use style=\"stroke:#000000;stroke-width:0.8;\" x=\"41.983125\" xlink:href=\"#m5dee1a6954\" y=\"155.519474\"/>\n      </g>\n     </g>\n     <g id=\"text_15\">\n      <!-- 8 -->\n      <g transform=\"translate(28.620625 159.318692)scale(0.1 -0.1)\">\n       <defs>\n        <path d=\"M 31.78125 34.625 \nQ 24.75 34.625 20.71875 30.859375 \nQ 16.703125 27.09375 16.703125 20.515625 \nQ 16.703125 13.921875 20.71875 10.15625 \nQ 24.75 6.390625 31.78125 6.390625 \nQ 38.8125 6.390625 42.859375 10.171875 \nQ 46.921875 13.96875 46.921875 20.515625 \nQ 46.921875 27.09375 42.890625 30.859375 \nQ 38.875 34.625 31.78125 34.625 \nz\nM 21.921875 38.8125 \nQ 15.578125 40.375 12.03125 44.71875 \nQ 8.5 49.078125 8.5 55.328125 \nQ 8.5 64.0625 14.71875 69.140625 \nQ 20.953125 74.21875 31.78125 74.21875 \nQ 42.671875 74.21875 48.875 69.140625 \nQ 55.078125 64.0625 55.078125 55.328125 \nQ 55.078125 49.078125 51.53125 44.71875 \nQ 48 40.375 41.703125 38.8125 \nQ 48.828125 37.15625 52.796875 32.3125 \nQ 56.78125 27.484375 56.78125 20.515625 \nQ 56.78125 9.90625 50.3125 4.234375 \nQ 43.84375 -1.421875 31.78125 -1.421875 \nQ 19.734375 -1.421875 13.25 4.234375 \nQ 6.78125 9.90625 6.78125 20.515625 \nQ 6.78125 27.484375 10.78125 32.3125 \nQ 14.796875 37.15625 21.921875 38.8125 \nz\nM 18.3125 54.390625 \nQ 18.3125 48.734375 21.84375 45.5625 \nQ 25.390625 42.390625 31.78125 42.390625 \nQ 38.140625 42.390625 41.71875 45.5625 \nQ 45.3125 48.734375 45.3125 54.390625 \nQ 45.3125 60.0625 41.71875 63.234375 \nQ 38.140625 66.40625 31.78125 66.40625 \nQ 25.390625 66.40625 21.84375 63.234375 \nQ 18.3125 60.0625 18.3125 54.390625 \nz\n\" id=\"DejaVuSans-56\"/>\n       </defs>\n       <use xlink:href=\"#DejaVuSans-56\"/>\n      </g>\n     </g>\n    </g>\n    <g id=\"text_16\">\n     <!-- Gradient Norm -->\n     <g transform=\"translate(20.877188 434.771719)rotate(-90)scale(0.18 -0.18)\">\n      <defs>\n       <path d=\"M 59.515625 10.40625 \nL 59.515625 29.984375 \nL 43.40625 29.984375 \nL 43.40625 38.09375 \nL 69.28125 38.09375 \nL 69.28125 6.78125 \nQ 63.578125 2.734375 56.6875 0.65625 \nQ 49.8125 -1.421875 42 -1.421875 \nQ 24.90625 -1.421875 15.25 8.5625 \nQ 5.609375 18.5625 5.609375 36.375 \nQ 5.609375 54.25 15.25 64.234375 \nQ 24.90625 74.21875 42 74.21875 \nQ 49.125 74.21875 55.546875 72.453125 \nQ 61.96875 70.703125 67.390625 67.28125 \nL 67.390625 56.78125 \nQ 61.921875 61.421875 55.765625 63.765625 \nQ 49.609375 66.109375 42.828125 66.109375 \nQ 29.4375 66.109375 22.71875 58.640625 \nQ 16.015625 51.171875 16.015625 36.375 \nQ 16.015625 21.625 22.71875 14.15625 \nQ 29.4375 6.6875 42.828125 6.6875 \nQ 48.046875 6.6875 52.140625 7.59375 \nQ 56.25 8.5 59.515625 10.40625 \nz\n\" id=\"DejaVuSans-71\"/>\n       <path d=\"M 41.109375 46.296875 \nQ 39.59375 47.171875 37.8125 47.578125 \nQ 36.03125 48 33.890625 48 \nQ 26.265625 48 22.1875 43.046875 \nQ 18.109375 38.09375 18.109375 28.8125 \nL 18.109375 0 \nL 9.078125 0 \nL 9.078125 54.6875 \nL 18.109375 54.6875 \nL 18.109375 46.1875 \nQ 20.953125 51.171875 25.484375 53.578125 \nQ 30.03125 56 36.53125 56 \nQ 37.453125 56 38.578125 55.875 \nQ 39.703125 55.765625 41.0625 55.515625 \nz\n\" id=\"DejaVuSans-114\"/>\n       <path d=\"M 34.28125 27.484375 \nQ 23.390625 27.484375 19.1875 25 \nQ 14.984375 22.515625 14.984375 16.5 \nQ 14.984375 11.71875 18.140625 8.90625 \nQ 21.296875 6.109375 26.703125 6.109375 \nQ 34.1875 6.109375 38.703125 11.40625 \nQ 43.21875 16.703125 43.21875 25.484375 \nL 43.21875 27.484375 \nz\nM 52.203125 31.203125 \nL 52.203125 0 \nL 43.21875 0 \nL 43.21875 8.296875 \nQ 40.140625 3.328125 35.546875 0.953125 \nQ 30.953125 -1.421875 24.3125 -1.421875 \nQ 15.921875 -1.421875 10.953125 3.296875 \nQ 6 8.015625 6 15.921875 \nQ 6 25.140625 12.171875 29.828125 \nQ 18.359375 34.515625 30.609375 34.515625 \nL 43.21875 34.515625 \nL 43.21875 35.40625 \nQ 43.21875 41.609375 39.140625 45 \nQ 35.0625 48.390625 27.6875 48.390625 \nQ 23 48.390625 18.546875 47.265625 \nQ 14.109375 46.140625 10.015625 43.890625 \nL 10.015625 52.203125 \nQ 14.9375 54.109375 19.578125 55.046875 \nQ 24.21875 56 28.609375 56 \nQ 40.484375 56 46.34375 49.84375 \nQ 52.203125 43.703125 52.203125 31.203125 \nz\n\" id=\"DejaVuSans-97\"/>\n       <path d=\"M 45.40625 46.390625 \nL 45.40625 75.984375 \nL 54.390625 75.984375 \nL 54.390625 0 \nL 45.40625 0 \nL 45.40625 8.203125 \nQ 42.578125 3.328125 38.25 0.953125 \nQ 33.9375 -1.421875 27.875 -1.421875 \nQ 17.96875 -1.421875 11.734375 6.484375 \nQ 5.515625 14.40625 5.515625 27.296875 \nQ 5.515625 40.1875 11.734375 48.09375 \nQ 17.96875 56 27.875 56 \nQ 33.9375 56 38.25 53.625 \nQ 42.578125 51.265625 45.40625 46.390625 \nz\nM 14.796875 27.296875 \nQ 14.796875 17.390625 18.875 11.75 \nQ 22.953125 6.109375 30.078125 6.109375 \nQ 37.203125 6.109375 41.296875 11.75 \nQ 45.40625 17.390625 45.40625 27.296875 \nQ 45.40625 37.203125 41.296875 42.84375 \nQ 37.203125 48.484375 30.078125 48.484375 \nQ 22.953125 48.484375 18.875 42.84375 \nQ 14.796875 37.203125 14.796875 27.296875 \nz\n\" id=\"DejaVuSans-100\"/>\n       <path d=\"M 9.421875 54.6875 \nL 18.40625 54.6875 \nL 18.40625 0 \nL 9.421875 0 \nz\nM 9.421875 75.984375 \nL 18.40625 75.984375 \nL 18.40625 64.59375 \nL 9.421875 64.59375 \nz\n\" id=\"DejaVuSans-105\"/>\n       <path d=\"M 56.203125 29.59375 \nL 56.203125 25.203125 \nL 14.890625 25.203125 \nQ 15.484375 15.921875 20.484375 11.0625 \nQ 25.484375 6.203125 34.421875 6.203125 \nQ 39.59375 6.203125 44.453125 7.46875 \nQ 49.3125 8.734375 54.109375 11.28125 \nL 54.109375 2.78125 \nQ 49.265625 0.734375 44.1875 -0.34375 \nQ 39.109375 -1.421875 33.890625 -1.421875 \nQ 20.796875 -1.421875 13.15625 6.1875 \nQ 5.515625 13.8125 5.515625 26.8125 \nQ 5.515625 40.234375 12.765625 48.109375 \nQ 20.015625 56 32.328125 56 \nQ 43.359375 56 49.78125 48.890625 \nQ 56.203125 41.796875 56.203125 29.59375 \nz\nM 47.21875 32.234375 \nQ 47.125 39.59375 43.09375 43.984375 \nQ 39.0625 48.390625 32.421875 48.390625 \nQ 24.90625 48.390625 20.390625 44.140625 \nQ 15.875 39.890625 15.1875 32.171875 \nz\n\" id=\"DejaVuSans-101\"/>\n       <path d=\"M 54.890625 33.015625 \nL 54.890625 0 \nL 45.90625 0 \nL 45.90625 32.71875 \nQ 45.90625 40.484375 42.875 44.328125 \nQ 39.84375 48.1875 33.796875 48.1875 \nQ 26.515625 48.1875 22.3125 43.546875 \nQ 18.109375 38.921875 18.109375 30.90625 \nL 18.109375 0 \nL 9.078125 0 \nL 9.078125 54.6875 \nL 18.109375 54.6875 \nL 18.109375 46.1875 \nQ 21.34375 51.125 25.703125 53.5625 \nQ 30.078125 56 35.796875 56 \nQ 45.21875 56 50.046875 50.171875 \nQ 54.890625 44.34375 54.890625 33.015625 \nz\n\" id=\"DejaVuSans-110\"/>\n       <path d=\"M 18.3125 70.21875 \nL 18.3125 54.6875 \nL 36.8125 54.6875 \nL 36.8125 47.703125 \nL 18.3125 47.703125 \nL 18.3125 18.015625 \nQ 18.3125 11.328125 20.140625 9.421875 \nQ 21.96875 7.515625 27.59375 7.515625 \nL 36.8125 7.515625 \nL 36.8125 0 \nL 27.59375 0 \nQ 17.1875 0 13.234375 3.875 \nQ 9.28125 7.765625 9.28125 18.015625 \nL 9.28125 47.703125 \nL 2.6875 47.703125 \nL 2.6875 54.6875 \nL 9.28125 54.6875 \nL 9.28125 70.21875 \nz\n\" id=\"DejaVuSans-116\"/>\n       <path id=\"DejaVuSans-32\"/>\n       <path d=\"M 9.8125 72.90625 \nL 23.09375 72.90625 \nL 55.421875 11.921875 \nL 55.421875 72.90625 \nL 64.984375 72.90625 \nL 64.984375 0 \nL 51.703125 0 \nL 19.390625 60.984375 \nL 19.390625 0 \nL 9.8125 0 \nz\n\" id=\"DejaVuSans-78\"/>\n       <path d=\"M 52 44.1875 \nQ 55.375 50.25 60.0625 53.125 \nQ 64.75 56 71.09375 56 \nQ 79.640625 56 84.28125 50.015625 \nQ 88.921875 44.046875 88.921875 33.015625 \nL 88.921875 0 \nL 79.890625 0 \nL 79.890625 32.71875 \nQ 79.890625 40.578125 77.09375 44.375 \nQ 74.3125 48.1875 68.609375 48.1875 \nQ 61.625 48.1875 57.5625 43.546875 \nQ 53.515625 38.921875 53.515625 30.90625 \nL 53.515625 0 \nL 44.484375 0 \nL 44.484375 32.71875 \nQ 44.484375 40.625 41.703125 44.40625 \nQ 38.921875 48.1875 33.109375 48.1875 \nQ 26.21875 48.1875 22.15625 43.53125 \nQ 18.109375 38.875 18.109375 30.90625 \nL 18.109375 0 \nL 9.078125 0 \nL 9.078125 54.6875 \nL 18.109375 54.6875 \nL 18.109375 46.1875 \nQ 21.1875 51.21875 25.484375 53.609375 \nQ 29.78125 56 35.6875 56 \nQ 41.65625 56 45.828125 52.96875 \nQ 50 49.953125 52 44.1875 \nz\n\" id=\"DejaVuSans-109\"/>\n      </defs>\n      <use xlink:href=\"#DejaVuSans-71\"/>\n      <use x=\"77.490234\" xlink:href=\"#DejaVuSans-114\"/>\n      <use x=\"118.603516\" xlink:href=\"#DejaVuSans-97\"/>\n      <use x=\"179.882812\" xlink:href=\"#DejaVuSans-100\"/>\n      <use x=\"243.359375\" xlink:href=\"#DejaVuSans-105\"/>\n      <use x=\"271.142578\" xlink:href=\"#DejaVuSans-101\"/>\n      <use x=\"332.666016\" xlink:href=\"#DejaVuSans-110\"/>\n      <use x=\"396.044922\" xlink:href=\"#DejaVuSans-116\"/>\n      <use x=\"435.253906\" xlink:href=\"#DejaVuSans-32\"/>\n      <use x=\"467.041016\" xlink:href=\"#DejaVuSans-78\"/>\n      <use x=\"541.845703\" xlink:href=\"#DejaVuSans-111\"/>\n      <use x=\"603.027344\" xlink:href=\"#DejaVuSans-114\"/>\n      <use x=\"642.390625\" xlink:href=\"#DejaVuSans-109\"/>\n     </g>\n    </g>\n   </g>\n   <g id=\"patch_3\">\n    <path d=\"M 41.983125 653.58 \nL 41.983125 82.8 \n\" style=\"fill:none;stroke:#000000;stroke-linecap:square;stroke-linejoin:miter;stroke-width:0.8;\"/>\n   </g>\n   <g id=\"patch_4\">\n    <path d=\"M 1074.283125 653.58 \nL 1074.283125 82.8 \n\" style=\"fill:none;stroke:#000000;stroke-linecap:square;stroke-linejoin:miter;stroke-width:0.8;\"/>\n   </g>\n   <g id=\"patch_5\">\n    <path d=\"M 41.983125 653.58 \nL 1074.283125 653.58 \n\" style=\"fill:none;stroke:#000000;stroke-linecap:square;stroke-linejoin:miter;stroke-width:0.8;\"/>\n   </g>\n   <g id=\"patch_6\">\n    <path d=\"M 41.983125 82.8 \nL 1074.283125 82.8 \n\" style=\"fill:none;stroke:#000000;stroke-linecap:square;stroke-linejoin:miter;stroke-width:0.8;\"/>\n   </g>\n  </g>\n  <g id=\"text_17\">\n   <!-- Gradient Norm vs Epochs -->\n   <g transform=\"translate(414.187812 22.396875)scale(0.2 -0.2)\">\n    <defs>\n     <path d=\"M 2.984375 54.6875 \nL 12.5 54.6875 \nL 29.59375 8.796875 \nL 46.6875 54.6875 \nL 56.203125 54.6875 \nL 35.6875 0 \nL 23.484375 0 \nz\n\" id=\"DejaVuSans-118\"/>\n    </defs>\n    <use xlink:href=\"#DejaVuSans-71\"/>\n    <use x=\"77.490234\" xlink:href=\"#DejaVuSans-114\"/>\n    <use x=\"118.603516\" xlink:href=\"#DejaVuSans-97\"/>\n    <use x=\"179.882812\" xlink:href=\"#DejaVuSans-100\"/>\n    <use x=\"243.359375\" xlink:href=\"#DejaVuSans-105\"/>\n    <use x=\"271.142578\" xlink:href=\"#DejaVuSans-101\"/>\n    <use x=\"332.666016\" xlink:href=\"#DejaVuSans-110\"/>\n    <use x=\"396.044922\" xlink:href=\"#DejaVuSans-116\"/>\n    <use x=\"435.253906\" xlink:href=\"#DejaVuSans-32\"/>\n    <use x=\"467.041016\" xlink:href=\"#DejaVuSans-78\"/>\n    <use x=\"541.845703\" xlink:href=\"#DejaVuSans-111\"/>\n    <use x=\"603.027344\" xlink:href=\"#DejaVuSans-114\"/>\n    <use x=\"642.390625\" xlink:href=\"#DejaVuSans-109\"/>\n    <use x=\"739.802734\" xlink:href=\"#DejaVuSans-32\"/>\n    <use x=\"771.589844\" xlink:href=\"#DejaVuSans-118\"/>\n    <use x=\"830.769531\" xlink:href=\"#DejaVuSans-115\"/>\n    <use x=\"882.869141\" xlink:href=\"#DejaVuSans-32\"/>\n    <use x=\"914.65625\" xlink:href=\"#DejaVuSans-69\"/>\n    <use x=\"977.839844\" xlink:href=\"#DejaVuSans-112\"/>\n    <use x=\"1041.316406\" xlink:href=\"#DejaVuSans-111\"/>\n    <use x=\"1102.498047\" xlink:href=\"#DejaVuSans-99\"/>\n    <use x=\"1157.478516\" xlink:href=\"#DejaVuSans-104\"/>\n    <use x=\"1220.857422\" xlink:href=\"#DejaVuSans-115\"/>\n   </g>\n  </g>\n </g>\n <defs>\n  <clipPath id=\"p28e3db496b\">\n   <rect height=\"570.78\" width=\"1032.3\" x=\"41.983125\" y=\"82.8\"/>\n  </clipPath>\n </defs>\n</svg>\n",
      "image/png": "[encoded data removed]"
     },
     "metadata": {
      "needs_background": "light"
     }
    }
   ],
   "source": [
    "x = np.arange(len(gradien_vector))\n",
    "fig = plt.gcf()\n",
    "fig.set_size_inches(18.5, 10.5)\n",
    "fig.suptitle('Gradient Norm vs Epochs', fontsize=20)\n",
    "plt.xlabel('Epochs', fontsize=18)\n",
    "plt.ylabel('Gradient Norm', fontsize=18)\n",
    "plt.scatter(x,gradien_vector)\n",
    "plt.savefig('scatterplot_gradient norm vs epochs.pdf')"
   ]
  },
  {
   "cell_type": "code",
   "execution_count": null,
   "metadata": {},
   "outputs": [],
   "source": []
  },
  {
   "cell_type": "code",
   "execution_count": null,
   "metadata": {},
   "outputs": [],
   "source": []
  },
  {
   "cell_type": "code",
   "execution_count": null,
   "metadata": {},
   "outputs": [],
   "source": []
  },
  {
   "cell_type": "code",
   "execution_count": 12,
   "metadata": {},
   "outputs": [
    {
     "output_type": "execute_result",
     "data": {
      "text/plain": [
       "4"
      ]
     },
     "metadata": {},
     "execution_count": 12
    }
   ],
   "source": [
    "len(g_2)"
   ]
  },
  {
   "cell_type": "code",
   "execution_count": 20,
   "metadata": {},
   "outputs": [
    {
     "output_type": "error",
     "ename": "RuntimeError",
     "evalue": "stack expects each tensor to be equal size, but got [45] at entry 0 and [450] at entry 1",
     "traceback": [
      "\u001b[0;31m---------------------------------------------------------------------------\u001b[0m",
      "\u001b[0;31mRuntimeError\u001b[0m                              Traceback (most recent call last)",
      "\u001b[0;32m<ipython-input-20-4154cc7d284b>\u001b[0m in \u001b[0;36m<module>\u001b[0;34m\u001b[0m\n\u001b[0;32m----> 1\u001b[0;31m \u001b[0mtorch\u001b[0m\u001b[0;34m.\u001b[0m\u001b[0mstack\u001b[0m\u001b[0;34m(\u001b[0m\u001b[0mg_2\u001b[0m\u001b[0;34m)\u001b[0m\u001b[0;34m\u001b[0m\u001b[0;34m\u001b[0m\u001b[0m\n\u001b[0m",
      "\u001b[0;31mRuntimeError\u001b[0m: stack expects each tensor to be equal size, but got [45] at entry 0 and [450] at entry 1"
     ]
    }
   ],
   "source": [
    "torch.stack(g_2)"
   ]
  },
  {
   "cell_type": "code",
   "execution_count": 25,
   "metadata": {},
   "outputs": [],
   "source": [
    "a=torch.cat([g_2[0],g_2[1],g_2[2],g_2[3]],dim=0)"
   ]
  },
  {
   "cell_type": "code",
   "execution_count": 26,
   "metadata": {},
   "outputs": [
    {
     "output_type": "execute_result",
     "data": {
      "text/plain": [
       "torch.Size([50495])"
      ]
     },
     "metadata": {},
     "execution_count": 26
    }
   ],
   "source": [
    "a.shape"
   ]
  },
  {
   "cell_type": "code",
   "execution_count": 28,
   "metadata": {},
   "outputs": [
    {
     "output_type": "stream",
     "name": "stdout",
     "text": [
      "torch.Size([45]) torch.Size([450]) torch.Size([49000]) torch.Size([1000])\n"
     ]
    }
   ],
   "source": [
    "print(g_2[0].shape,g_2[1].shape,g_2[2].shape,g_2[3].shape)"
   ]
  },
  {
   "cell_type": "code",
   "execution_count": 29,
   "metadata": {},
   "outputs": [
    {
     "output_type": "execute_result",
     "data": {
      "text/plain": [
       "tensor(0.8766, device='cuda:0')"
      ]
     },
     "metadata": {},
     "execution_count": 29
    }
   ],
   "source": [
    "torch.norm(a)"
   ]
  },
  {
   "cell_type": "code",
   "execution_count": null,
   "metadata": {},
   "outputs": [],
   "source": []
  }
 ],
 "metadata": {
  "kernelspec": {
   "display_name": "Python 3",
   "language": "python",
   "name": "python3"
  },
  "language_info": {
   "codemirror_mode": {
    "name": "ipython",
    "version": 3
   },
   "file_extension": ".py",
   "mimetype": "text/x-python",
   "name": "python",
   "nbconvert_exporter": "python",
   "pygments_lexer": "ipython3",
   "version": "3.8.6-final"
  }
 },
 "nbformat": 4,
 "nbformat_minor": 2
}